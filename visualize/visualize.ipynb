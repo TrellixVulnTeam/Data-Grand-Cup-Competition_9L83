{
 "cells": [
  {
   "cell_type": "code",
   "execution_count": 1,
   "metadata": {},
   "outputs": [
    {
     "name": "stderr",
     "output_type": "stream",
     "text": [
      "/usr/lib/python3.5/importlib/_bootstrap.py:222: RuntimeWarning: numpy.dtype size changed, may indicate binary incompatibility. Expected 96, got 88\n",
      "  return f(*args, **kwds)\n",
      "/usr/lib/python3.5/importlib/_bootstrap.py:222: RuntimeWarning: numpy.dtype size changed, may indicate binary incompatibility. Expected 96, got 88\n",
      "  return f(*args, **kwds)\n"
     ]
    }
   ],
   "source": [
    "import pandas as pd\n",
    "import tqdm\n",
    "\n",
    "import numpy as np\n",
    "import matplotlib as mpl\n",
    "import matplotlib.pyplot as plt"
   ]
  },
  {
   "cell_type": "code",
   "execution_count": 47,
   "metadata": {},
   "outputs": [],
   "source": [
    "train = pd.read_csv(\"data/train_set.csv\")"
   ]
  },
  {
   "cell_type": "code",
   "execution_count": 6,
   "metadata": {},
   "outputs": [],
   "source": [
    "\n",
    "\n",
    "short_train = pd.read_csv(\"short_train.csv\")\n",
    "long_train = pd.read_csv(\"long_train.csv\")\n",
    "all_train = pd.read_csv(\"all_train.csv\")\n",
    "new_train = train.rename(columns={'class': 'article_class'},inplace=False)\n",
    "\n",
    "\n"
   ]
  },
  {
   "cell_type": "code",
   "execution_count": 3,
   "metadata": {},
   "outputs": [
    {
     "data": {
      "text/html": [
       "<div>\n",
       "<style scoped>\n",
       "    .dataframe tbody tr th:only-of-type {\n",
       "        vertical-align: middle;\n",
       "    }\n",
       "\n",
       "    .dataframe tbody tr th {\n",
       "        vertical-align: top;\n",
       "    }\n",
       "\n",
       "    .dataframe thead th {\n",
       "        text-align: right;\n",
       "    }\n",
       "</style>\n",
       "<table border=\"1\" class=\"dataframe\">\n",
       "  <thead>\n",
       "    <tr style=\"text-align: right;\">\n",
       "      <th></th>\n",
       "      <th>id</th>\n",
       "      <th>article</th>\n",
       "      <th>word_seg</th>\n",
       "      <th>class</th>\n",
       "    </tr>\n",
       "  </thead>\n",
       "  <tbody>\n",
       "    <tr>\n",
       "      <th>0</th>\n",
       "      <td>0</td>\n",
       "      <td>7368 1252069 365865 755561 1044285 129532 1053...</td>\n",
       "      <td>816903 597526 520477 1179558 1033823 758724 63...</td>\n",
       "      <td>14</td>\n",
       "    </tr>\n",
       "    <tr>\n",
       "      <th>1</th>\n",
       "      <td>1</td>\n",
       "      <td>581131 165432 7368 957317 1197553 570900 33659...</td>\n",
       "      <td>90540 816903 441039 816903 569138 816903 10343...</td>\n",
       "      <td>3</td>\n",
       "    </tr>\n",
       "    <tr>\n",
       "      <th>2</th>\n",
       "      <td>2</td>\n",
       "      <td>7368 87936 40494 490286 856005 641588 145611 1...</td>\n",
       "      <td>816903 1012629 957974 1033823 328210 947200 65...</td>\n",
       "      <td>12</td>\n",
       "    </tr>\n",
       "    <tr>\n",
       "      <th>3</th>\n",
       "      <td>3</td>\n",
       "      <td>299237 760651 299237 887082 159592 556634 7489...</td>\n",
       "      <td>563568 1239563 680125 780219 782805 1033823 19...</td>\n",
       "      <td>13</td>\n",
       "    </tr>\n",
       "    <tr>\n",
       "      <th>4</th>\n",
       "      <td>4</td>\n",
       "      <td>7368 7368 7368 865510 7368 396966 995243 37685...</td>\n",
       "      <td>816903 816903 816903 139132 816903 312320 1103...</td>\n",
       "      <td>12</td>\n",
       "    </tr>\n",
       "  </tbody>\n",
       "</table>\n",
       "</div>"
      ],
      "text/plain": [
       "   id                                            article  \\\n",
       "0   0  7368 1252069 365865 755561 1044285 129532 1053...   \n",
       "1   1  581131 165432 7368 957317 1197553 570900 33659...   \n",
       "2   2  7368 87936 40494 490286 856005 641588 145611 1...   \n",
       "3   3  299237 760651 299237 887082 159592 556634 7489...   \n",
       "4   4  7368 7368 7368 865510 7368 396966 995243 37685...   \n",
       "\n",
       "                                            word_seg  class  \n",
       "0  816903 597526 520477 1179558 1033823 758724 63...     14  \n",
       "1  90540 816903 441039 816903 569138 816903 10343...      3  \n",
       "2  816903 1012629 957974 1033823 328210 947200 65...     12  \n",
       "3  563568 1239563 680125 780219 782805 1033823 19...     13  \n",
       "4  816903 816903 816903 139132 816903 312320 1103...     12  "
      ]
     },
     "execution_count": 3,
     "metadata": {},
     "output_type": "execute_result"
    }
   ],
   "source": [
    "train.head()"
   ]
  },
  {
   "cell_type": "code",
   "execution_count": 48,
   "metadata": {},
   "outputs": [],
   "source": [
    "train = train.rename(columns={'class': 'article_class'}, inplace=False)"
   ]
  },
  {
   "cell_type": "code",
   "execution_count": 51,
   "metadata": {},
   "outputs": [
    {
     "data": {
      "text/plain": [
       "numpy.int64"
      ]
     },
     "execution_count": 51,
     "metadata": {},
     "output_type": "execute_result"
    }
   ],
   "source": [
    "type(train.article_class.values[0])"
   ]
  },
  {
   "cell_type": "code",
   "execution_count": 22,
   "metadata": {},
   "outputs": [],
   "source": [
    "t1 = pd.DataFrame(['164643 54352 ','52522 525432','352534 5254','452534 523453 4352'],columns = ['word_seg'])\n",
    "\n",
    "t2 = pd.DataFrame([5,6,7,8],columns = ['word_seg'])"
   ]
  },
  {
   "cell_type": "code",
   "execution_count": 23,
   "metadata": {},
   "outputs": [
    {
     "data": {
      "text/plain": [
       "['164643 54352 ',\n",
       " '52522 525432',\n",
       " '352534 5254',\n",
       " '452534 523453 4352',\n",
       " 5,\n",
       " 6,\n",
       " 7,\n",
       " 8]"
      ]
     },
     "execution_count": 23,
     "metadata": {},
     "output_type": "execute_result"
    }
   ],
   "source": [
    "list(t1.word_seg)+list(t2.word_seg)"
   ]
  },
  {
   "cell_type": "code",
   "execution_count": 75,
   "metadata": {},
   "outputs": [
    {
     "data": {
      "text/plain": [
       "[3, 4, 5]"
      ]
     },
     "execution_count": 75,
     "metadata": {},
     "output_type": "execute_result"
    }
   ],
   "source": [
    "l = [1,2,3,4,5]\n",
    "w = l[2:10]\n",
    "w"
   ]
  },
  {
   "cell_type": "code",
   "execution_count": 53,
   "metadata": {},
   "outputs": [],
   "source": [
    "train_word_length = []\n",
    "back = []\n",
    "i = 0\n",
    "article_class = train.article_class.values\n",
    "y = []\n",
    "for line in train.word_seg.values:\n",
    "\n",
    "    line = line.split()\n",
    "    if len(line)>1000:\n",
    "        y.append(article_class[i])\n",
    "    i +=1"
   ]
  },
  {
   "cell_type": "code",
   "execution_count": 70,
   "metadata": {},
   "outputs": [
    {
     "name": "stdout",
     "output_type": "stream",
     "text": [
      "4787\n"
     ]
    }
   ],
   "source": [
    "l2000 = []\n",
    "for line in train.word_seg.values:\n",
    "    line = line.split()\n",
    "    if len(line)>2000:\n",
    "        l2000.append(len(line))\n",
    "print(len(l2000))"
   ]
  },
  {
   "cell_type": "code",
   "execution_count": 73,
   "metadata": {},
   "outputs": [
    {
     "data": {
      "image/png": "[encoded data removed]",
      "text/plain": [
       "<Figure size 432x288 with 1 Axes>"
      ]
     },
     "metadata": {},
     "output_type": "display_data"
    }
   ],
   "source": [
    "plt.hist(l2000, bins = list(range(2000,20000,50)))\n",
    "plt.title(\"l2000\")\n",
    "plt.show()"
   ]
  },
  {
   "cell_type": "code",
   "execution_count": 86,
   "metadata": {},
   "outputs": [
    {
     "name": "stdout",
     "output_type": "stream",
     "text": [
      "0\n",
      "1\n",
      "2\n"
     ]
    }
   ],
   "source": [
    "for g in range(3):\n",
    "    print(g)"
   ]
  },
  {
   "cell_type": "code",
   "execution_count": 117,
   "metadata": {},
   "outputs": [],
   "source": [
    "#切分1000單位的train_set\n",
    "\n",
    "split_train = []\n",
    "\n",
    "i = 0\n",
    "article_class = train.article_class.values\n",
    "y = []\n",
    "for line in train.word_seg.values:\n",
    "    \n",
    "    line = line.split()\n",
    "    le = len(line)\n",
    "\n",
    "    if le>1000:\n",
    "        n = int(le/1000)\n",
    "\n",
    "        for m in range(n+1):\n",
    "            li = line[1000*m:1000*(m+1)]\n",
    "            h = ' '.join(li)\n",
    "            y.append(article_class[i])\n",
    "            split_train.append(h)\n",
    "    i +=1"
   ]
  },
  {
   "cell_type": "code",
   "execution_count": 40,
   "metadata": {},
   "outputs": [],
   "source": [
    "#切分1000單位長度的test_set\n",
    "test = pd.read_csv('data/test_set.csv')\n",
    "split_test = []\n",
    "\n",
    "i = 0\n",
    "article_id = test.id.values\n",
    "test_id = []\n",
    "for line in test.word_seg.values:\n",
    "    \n",
    "    line1 = line.split()\n",
    "    le = len(line1)\n",
    "\n",
    "    if le>1000:\n",
    "        if le%1000==0:\n",
    "            n = int(le/1000)\n",
    "\n",
    "            for m in range(n):\n",
    "                li = line1[1000*m:1000*(m+1)]\n",
    "                h = ' '.join(li)\n",
    "                test_id.append(article_id[i])\n",
    "                split_test.append(h)\n",
    "        else:\n",
    "            n = int(le/1000)\n",
    "\n",
    "            for m in range(n+1):\n",
    "                li = line1[1000*m:1000*(m+1)]\n",
    "                h = ' '.join(li)\n",
    "                test_id.append(article_id[i])\n",
    "                split_test.append(h)\n",
    "    else:\n",
    "        split_test.append(line)\n",
    "        test_id.append(article_id[i])\n",
    "    i +=1"
   ]
  },
  {
   "cell_type": "code",
   "execution_count": 41,
   "metadata": {},
   "outputs": [
    {
     "name": "stdout",
     "output_type": "stream",
     "text": [
      "131310\n"
     ]
    }
   ],
   "source": [
    "print(len(test_id))"
   ]
  },
  {
   "cell_type": "code",
   "execution_count": 7,
   "metadata": {},
   "outputs": [
    {
     "name": "stdout",
     "output_type": "stream",
     "text": [
      "131320\n"
     ]
    }
   ],
   "source": [
    "print(len(test_id))"
   ]
  },
  {
   "cell_type": "code",
   "execution_count": 36,
   "metadata": {
    "scrolled": true
   },
   "outputs": [
    {
     "data": {
      "text/plain": [
       "131320"
      ]
     },
     "execution_count": 36,
     "metadata": {},
     "output_type": "execute_result"
    }
   ],
   "source": [
    "back_test = back_test.dropna(axis=0,how='any') \n",
    "len(back_test)"
   ]
  },
  {
   "cell_type": "code",
   "execution_count": 42,
   "metadata": {},
   "outputs": [],
   "source": [
    "back_test = pd.DataFrame({'id':test_id,'word_seg':split_test})"
   ]
  },
  {
   "cell_type": "code",
   "execution_count": 45,
   "metadata": {},
   "outputs": [],
   "source": [
    "back_test.to_csv('data/back_test.csv')"
   ]
  },
  {
   "cell_type": "code",
   "execution_count": 14,
   "metadata": {},
   "outputs": [],
   "source": [
    "test = pd.read_csv(\"data/back_test.csv\")\n",
    "x_test = list(test.word_seg)"
   ]
  },
  {
   "cell_type": "code",
   "execution_count": 17,
   "metadata": {},
   "outputs": [
    {
     "data": {
      "text/plain": [
       "131320"
      ]
     },
     "execution_count": 17,
     "metadata": {},
     "output_type": "execute_result"
    }
   ],
   "source": [
    "len(x_test)"
   ]
  },
  {
   "cell_type": "code",
   "execution_count": 44,
   "metadata": {},
   "outputs": [
    {
     "data": {
      "text/html": [
       "<div>\n",
       "<style scoped>\n",
       "    .dataframe tbody tr th:only-of-type {\n",
       "        vertical-align: middle;\n",
       "    }\n",
       "\n",
       "    .dataframe tbody tr th {\n",
       "        vertical-align: top;\n",
       "    }\n",
       "\n",
       "    .dataframe thead th {\n",
       "        text-align: right;\n",
       "    }\n",
       "</style>\n",
       "<table border=\"1\" class=\"dataframe\">\n",
       "  <thead>\n",
       "    <tr style=\"text-align: right;\">\n",
       "      <th></th>\n",
       "      <th>id</th>\n",
       "      <th>word_seg</th>\n",
       "    </tr>\n",
       "  </thead>\n",
       "  <tbody>\n",
       "    <tr>\n",
       "      <th>19153</th>\n",
       "      <td>14758</td>\n",
       "      <td>205402 584131 966562 1256802 520477 1275770 43...</td>\n",
       "    </tr>\n",
       "    <tr>\n",
       "      <th>19154</th>\n",
       "      <td>14759</td>\n",
       "      <td>414956 250402 458209 520477 20010 834740 37776...</td>\n",
       "    </tr>\n",
       "    <tr>\n",
       "      <th>19155</th>\n",
       "      <td>14759</td>\n",
       "      <td>596474 1191954 831818 844647 780339 995362 816...</td>\n",
       "    </tr>\n",
       "    <tr>\n",
       "      <th>19156</th>\n",
       "      <td>14760</td>\n",
       "      <td>816903 545370 1113057 1212070 63641 386932 460...</td>\n",
       "    </tr>\n",
       "  </tbody>\n",
       "</table>\n",
       "</div>"
      ],
      "text/plain": [
       "          id                                           word_seg\n",
       "19153  14758  205402 584131 966562 1256802 520477 1275770 43...\n",
       "19154  14759  414956 250402 458209 520477 20010 834740 37776...\n",
       "19155  14759  596474 1191954 831818 844647 780339 995362 816...\n",
       "19156  14760  816903 545370 1113057 1212070 63641 386932 460..."
      ]
     },
     "execution_count": 44,
     "metadata": {},
     "output_type": "execute_result"
    }
   ],
   "source": [
    "back_test[19153:19157]"
   ]
  },
  {
   "cell_type": "code",
   "execution_count": 43,
   "metadata": {},
   "outputs": [
    {
     "data": {
      "text/plain": [
       "<tensorflow.contrib.learn.python.learn.preprocessing.text.VocabularyProcessor at 0x7effb5d25e80>"
      ]
     },
     "execution_count": 43,
     "metadata": {},
     "output_type": "execute_result"
    }
   ],
   "source": [
    "from tensorflow.contrib import learn\n",
    "vocab_processor = learn.preprocessing.VocabularyProcessor(1000,500)\n",
    "vocab_processor.fit(split_test)"
   ]
  },
  {
   "cell_type": "code",
   "execution_count": null,
   "metadata": {},
   "outputs": [],
   "source": [
    "from tensorflow.contrib import learn"
   ]
  },
  {
   "cell_type": "code",
   "execution_count": 160,
   "metadata": {},
   "outputs": [],
   "source": [
    "back_train = pd.read_csv('data/back_train.csv')"
   ]
  },
  {
   "cell_type": "code",
   "execution_count": 164,
   "metadata": {},
   "outputs": [
    {
     "data": {
      "text/html": [
       "<div>\n",
       "<style scoped>\n",
       "    .dataframe tbody tr th:only-of-type {\n",
       "        vertical-align: middle;\n",
       "    }\n",
       "\n",
       "    .dataframe tbody tr th {\n",
       "        vertical-align: top;\n",
       "    }\n",
       "\n",
       "    .dataframe thead th {\n",
       "        text-align: right;\n",
       "    }\n",
       "</style>\n",
       "<table border=\"1\" class=\"dataframe\">\n",
       "  <thead>\n",
       "    <tr style=\"text-align: right;\">\n",
       "      <th></th>\n",
       "      <th>Unnamed: 0</th>\n",
       "      <th>word_seg</th>\n",
       "      <th>article_class</th>\n",
       "    </tr>\n",
       "  </thead>\n",
       "  <tbody>\n",
       "    <tr>\n",
       "      <th>9618</th>\n",
       "      <td>9618</td>\n",
       "      <td>1035234 1016192 1045349 318929 995362 197012 2...</td>\n",
       "      <td>13</td>\n",
       "    </tr>\n",
       "    <tr>\n",
       "      <th>9619</th>\n",
       "      <td>9619</td>\n",
       "      <td>NaN</td>\n",
       "      <td>13</td>\n",
       "    </tr>\n",
       "  </tbody>\n",
       "</table>\n",
       "</div>"
      ],
      "text/plain": [
       "      Unnamed: 0                                           word_seg  \\\n",
       "9618        9618  1035234 1016192 1045349 318929 995362 197012 2...   \n",
       "9619        9619                                                NaN   \n",
       "\n",
       "      article_class  \n",
       "9618             13  \n",
       "9619             13  "
      ]
     },
     "execution_count": 164,
     "metadata": {},
     "output_type": "execute_result"
    }
   ],
   "source": [
    "back_train[9618:9620]"
   ]
  },
  {
   "cell_type": "code",
   "execution_count": 172,
   "metadata": {
    "scrolled": true
   },
   "outputs": [
    {
     "data": {
      "text/plain": [
       "(49136, 49145)"
      ]
     },
     "execution_count": 172,
     "metadata": {},
     "output_type": "execute_result"
    }
   ],
   "source": [
    "back3 = back_train.dropna(axis=0,how='any') \n",
    "back3[9618:9620]\n",
    "len(back3),len(back_train)"
   ]
  },
  {
   "cell_type": "code",
   "execution_count": 133,
   "metadata": {},
   "outputs": [],
   "source": [
    "back_train2 = list(back_train.word_seg)"
   ]
  },
  {
   "cell_type": "code",
   "execution_count": 157,
   "metadata": {},
   "outputs": [
    {
     "data": {
      "text/plain": [
       "nan"
      ]
     },
     "execution_count": 157,
     "metadata": {},
     "output_type": "execute_result"
    }
   ],
   "source": [
    "back_train2[9619]"
   ]
  },
  {
   "cell_type": "code",
   "execution_count": 159,
   "metadata": {},
   "outputs": [
    {
     "ename": "TypeError",
     "evalue": "expected string or bytes-like object",
     "output_type": "error",
     "traceback": [
      "\u001b[0;31m---------------------------------------------------------------------------\u001b[0m",
      "\u001b[0;31mTypeError\u001b[0m                                 Traceback (most recent call last)",
      "\u001b[0;32m<ipython-input-159-42098d972e94>\u001b[0m in \u001b[0;36m<module>\u001b[0;34m()\u001b[0m\n\u001b[1;32m      1\u001b[0m \u001b[0mvocab_processor\u001b[0m \u001b[0;34m=\u001b[0m \u001b[0mlearn\u001b[0m\u001b[0;34m.\u001b[0m\u001b[0mpreprocessing\u001b[0m\u001b[0;34m.\u001b[0m\u001b[0mVocabularyProcessor\u001b[0m\u001b[0;34m(\u001b[0m\u001b[0;36m1000\u001b[0m\u001b[0;34m,\u001b[0m\u001b[0;36m500\u001b[0m\u001b[0;34m)\u001b[0m\u001b[0;34m\u001b[0m\u001b[0m\n\u001b[0;32m----> 2\u001b[0;31m \u001b[0mvocab_processor\u001b[0m\u001b[0;34m.\u001b[0m\u001b[0mfit\u001b[0m\u001b[0;34m(\u001b[0m\u001b[0mback_train2\u001b[0m\u001b[0;34m[\u001b[0m\u001b[0;36m9621\u001b[0m\u001b[0;34m:\u001b[0m\u001b[0;34m]\u001b[0m\u001b[0;34m)\u001b[0m\u001b[0;34m\u001b[0m\u001b[0m\n\u001b[0m",
      "\u001b[0;32m/usr/local/lib/python3.5/dist-packages/tensorflow/contrib/learn/python/learn/preprocessing/text.py\u001b[0m in \u001b[0;36mfit\u001b[0;34m(self, raw_documents, unused_y)\u001b[0m\n\u001b[1;32m    148\u001b[0m       \u001b[0mself\u001b[0m\u001b[0;34m\u001b[0m\u001b[0m\n\u001b[1;32m    149\u001b[0m     \"\"\"\n\u001b[0;32m--> 150\u001b[0;31m     \u001b[0;32mfor\u001b[0m \u001b[0mtokens\u001b[0m \u001b[0;32min\u001b[0m \u001b[0mself\u001b[0m\u001b[0;34m.\u001b[0m\u001b[0m_tokenizer\u001b[0m\u001b[0;34m(\u001b[0m\u001b[0mraw_documents\u001b[0m\u001b[0;34m)\u001b[0m\u001b[0;34m:\u001b[0m\u001b[0;34m\u001b[0m\u001b[0m\n\u001b[0m\u001b[1;32m    151\u001b[0m       \u001b[0;32mfor\u001b[0m \u001b[0mtoken\u001b[0m \u001b[0;32min\u001b[0m \u001b[0mtokens\u001b[0m\u001b[0;34m:\u001b[0m\u001b[0;34m\u001b[0m\u001b[0m\n\u001b[1;32m    152\u001b[0m         \u001b[0mself\u001b[0m\u001b[0;34m.\u001b[0m\u001b[0mvocabulary_\u001b[0m\u001b[0;34m.\u001b[0m\u001b[0madd\u001b[0m\u001b[0;34m(\u001b[0m\u001b[0mtoken\u001b[0m\u001b[0;34m)\u001b[0m\u001b[0;34m\u001b[0m\u001b[0m\n",
      "\u001b[0;32m/usr/local/lib/python3.5/dist-packages/tensorflow/contrib/learn/python/learn/preprocessing/text.py\u001b[0m in \u001b[0;36mtokenizer\u001b[0;34m(iterator)\u001b[0m\n\u001b[1;32m     49\u001b[0m   \"\"\"\n\u001b[1;32m     50\u001b[0m   \u001b[0;32mfor\u001b[0m \u001b[0mvalue\u001b[0m \u001b[0;32min\u001b[0m \u001b[0miterator\u001b[0m\u001b[0;34m:\u001b[0m\u001b[0;34m\u001b[0m\u001b[0m\n\u001b[0;32m---> 51\u001b[0;31m     \u001b[0;32myield\u001b[0m \u001b[0mTOKENIZER_RE\u001b[0m\u001b[0;34m.\u001b[0m\u001b[0mfindall\u001b[0m\u001b[0;34m(\u001b[0m\u001b[0mvalue\u001b[0m\u001b[0;34m)\u001b[0m\u001b[0;34m\u001b[0m\u001b[0m\n\u001b[0m\u001b[1;32m     52\u001b[0m \u001b[0;34m\u001b[0m\u001b[0m\n\u001b[1;32m     53\u001b[0m \u001b[0;34m\u001b[0m\u001b[0m\n",
      "\u001b[0;31mTypeError\u001b[0m: expected string or bytes-like object"
     ]
    }
   ],
   "source": [
    "vocab_processor = learn.preprocessing.VocabularyProcessor(1000,500)\n",
    "vocab_processor.fit(back_train2[9621:])"
   ]
  },
  {
   "cell_type": "code",
   "execution_count": 94,
   "metadata": {},
   "outputs": [
    {
     "name": "stdout",
     "output_type": "stream",
     "text": [
      "49145\n",
      "49145\n",
      "['90540 816903 441039 816903 569138 816903 1034376 997489 382714 1236006 520477 132364 1207796 89613 1033299 834740 133940 816903 848000 386932 520477 31046 766772 748483 481786 701424 522428 764656 572782 266161 432549 457828 968083 397939 323159 1033823 925313 520477 848000 220238 701424 500399 133940 816903 1256303 520477 1243427 520477 487094 993110 477703 768219 133940 1034376 140644 98991 1207796 569876 1130139 1033823 257190 878073 585102 1105940 985047 834740 520477 506606 266784 781202 566120 768219 133940 816903 31046 422170 441513 703615 847492 520477 300241 54111 1278725 173393 652252 133940 1014945 1231069 1046814 1033823 637864 520477 1121767 614484 572782 266161 432549 457828 968083 397939 426716 487693 525987 323159 1033823 512031 853939 896267 133940 816903 426716 457828 1115586 816903 682718 816903 703473 122061 816903 266161 432549 526298 487337 1033823 788176 54111 973043 1033823 620853 874881 520477 806905 487337 520261 960230 1033823 39741 138548 834740 806785 257811 1033823 1151443 995362 1183078 919096 33145 1269597 1033823 28028 885069 1190848 520477 532578 630379 54111 459953 906384 1033823 292730 76065 520477 124777 1187383 403305 6012 995362 968083 397939 765514 490535 132364 508687 834740 701269 1033823 1063442 1180488 9003 995362 848000 849254 1033823 830830 436553 909617 1107358 111874 441513 1204806 508687 834740 1134165 581584 1033823 477057 520477 1213569 286741 564561 847972 460020 577108 1000483 995362 816903 857438 410745 487452 54111 39741 1049092 508687 834740 262389 995362 1128239 1211274 1033823 973043 54111 319071 480656 792049 62979 39765 1000483 42109 1183078 943146 520477 99203 487337 763308 834740 970100 21772 441513 1088438 520477 487337 354668 300241 1154737 177456 169428 995362 3849 1276314 1191954 357663 520477 61571 138140 728407 1032942 520477 857438 1097161 138140 829988 847972 351200 184574 326225 1033823 1063442 930754 924496 995362 148697 489634 520477 968083 397939 765514 864963 834740 601707 1187383 920327 34638 591366 390998 1033823 1151443 995362 943469 520477 31046 1171534 508647 404543 1008883 774411 679740 554251 554251 796858 323697 74806 554251 554251 39741 404543 264689 693050 878073 848000 915090 995362 1122314 771550 1112816 390823 792049 520477 968083 397939 765514 1051390 1204806 54111 497735 898836 931714 834740 183248 995362 816903 421186 278629 1025743 743062 1253787 1028709 990423 1033823 39741 460600 1211274 1057544 726082 764656 1033823 1205256 25959 520477 848000 196732 54111 491804 193517 920327 918523 534086 437434 545370 676782 1033823 978329 995362 956848 1147459 454003 428304 520477 299571 686820 54111 132675 291049 39765 891753 329963 278877 520477 1146684 993908 864854 1033823 443042 329963 1054915 995362 404543 379223 477703 460600 1097038 810676 1264372 835345 1033823 724979 454003 132675 1000483 30110 874881 1033823 995362 1036409 327638 620352 807887 477703 1033823 479329 520477 23529 1122471 351248 460600 1275969 995362 973043 319071 39765 19054 300557 191765 1033823 1211274 520477 100382 323033 550816 520477 99203 54111 830830 333771 256357 1033823 1147110 325497 487337 460600 254376 1033823 520477 848000 678048 531723 487337 864854 1033823 461372 766147 381654 520477 335008 834740 1122314 299485 487337 1033823 65999 413137 1159919 995362 816903 133142 1033823 1211274 640040 657097 1005063 520477 930754 1163183 54111 743062 1253787 1028709 198573 1081412 520477 325725 947200 372099 1033823 833984 520477 857269 993908 874881 39765 689771 1033823 515268 995362 491804 1274886 879395 520477 413137 741266 920327 376863 681464 520477 684484 512606 54111 491804 74081 37356 726082 814644 1033823 299485 995362 1087585 525987 903212 520477 19054 411707 596474 249527 631072 1033823 1152407 520477 441513 19054 273954 1211274 1033823 132697 678048 447547 906873 520477 848512 1000483 30110 1039033 520477 848512 1000483 526298 639295 593996 995362 414956 135326 266161 432549 183909 1033823 69340 1164169 520477 1213233 355504 703473 421186 39741 490774 876819 460932 1033823 1063442 834740 520477 524739 54111 491804 299571 63641 7796 605692 37356 744561 1033823 1166631 833984 995362 816903 965936 457828 1115586 816903 3849 585102 1033823 196174 536257 559026 930754 117651 98991 584131 1018635 208234 834740 188412 995362 292350 1249493 460600 177456 184574 1122314 372872 865012 834740 505551 520477 99203 730920 1243222 520477 947501 481137 1033823 372872 806755 1207796 800760 834740 995362 640040 461372 596474 335008 883811 205051 36865 1227861 1033823 1010355 554251 554251 1211157 520477 404543 1119699 54111 1155254 685057 408478 1033823 461372 477703 554251 554251 52857 930754 325497 834740 1275770 1097502 1033823 188412 995362 82389 855343 1033823 810957 60020 1050600 300241 1163183 1249340 865012 33145 1033823 1172022 920327 142249 920327 330769 526298 481372 995362 628277 100078 123212 386932 133142 747276 411707 596474 249527 869415 834740 788465 1033823 309457 520477 831818 1088911 834740 865446 820449 663533 85261 995362 855343 1068760 427431 930754 1163183 674164 408183 420886 1033823 246662 520477 144530 1267246 1249639 520477 1122314 828063 1033823 286438 541144 848000 703615 468926 520477 791685 460600 788244 246662 1257817 1246265 1155254 290352 989410 995362 1211274 1057544 703615 848000 886244 1033823 460600 1134165 339680 54111 10242 325497 1166618 1033823 303011 995362 562647 37909 186268 460600 285392 520477 461372 528131 1275770 22959 717448 327773 1033823 477703 3849 930754 312623 54111 864525 325497 995362 434875 1211274 1057544 766772 329963 427992 37356 1251396 1033823 46113 460600 177456 520477 1122314 505551 787270 967562 98991 848000 1033823 305837 995362 973043 526298 487337 1033823 294755 1057544 441513 982084 577643 372872 522428 765318 995362 1087585 525987 903212 437792 930754 580056 834740 520477 184574 632718 422098 1033823 1233500 482387 526298 813838 272466 182491 54111 962638 1019141 995362 264512 477703 18911 1102666 487838 1061507 880464 1033823 243989 995362 816903 857503 266161 432549 526298 487337 788176 637301 269018 520477 806755 1084266 560863 834740 995362 934612 497735 881054 541144 477703 138140 1259951 520477 845860 848000 1097161 703615 54111 411707 596474 249527 1215425 1033823 605692 227353 834740 995362 110130 848000 403305 229783 742713 139754 810878 515459 909322 545596 855343 995362 266161 177325 655580 1231567 1104718 834740 292129 1061507 833984 1204806 54111 1211274 986821 807837 834740 995362 973043 413137 426095 847972 1183198 487337 1033823 294755 1057544 520477 1061507 719949 877081 460600 168220 576250 56052 541144 186144 596474 757105 1033823 39741 569876 949561 578634 1033823 995362 1089809 54111 514097 520477 84718 596474 351343 1033823 1178969 441513 1163183 686882 266161 432549 520477 819375 487337 275242 1061507 761520 757105 1106432 995362 816903 266161 432549 864895 54111 1057949 851313 847972 833859 995362 487337 588341 54111 514097 302083 1113620 520477 588341 1163183 41462 285591 509379 143333 526298 796260 119579 889545 995362 1194630 427169 54111 1190848 1033823 229218 1019141 930754 766772 806785 607116 520477 454003 201186 1218804 1063707', '270411 1033823 676152 520477 300241 514147 1087585 525987 903212 1005612 805359 920327 753759 569140 496316 1033823 727133 23156 995362 1109510 54111 616017 1183640 427169 266161 432549 552368 454003 608161 1079681 676152 352708 54111 847972 715797 995362 487337 1278895 436553 703473 266161 432571 843587 520477 663832 481786 461051 1197351 520477 1099927 1221867 1033823 1095834 995362 266161 432549 1136616 847972 1051868 487337 1033823 817257 588997 192802 520477 628277 934612 487337 858727 779802 520477 821567 930754 998762 1124631 834740 520477 845860 487337 814731 272665 214678 362972 995362 487337 1033823 603094 767231 520477 54111 807173 557269 520477 783993 920327 667652 920327 262962 920327 13153 412711 1207796 487337 487685 834740 806785 439302 995362 487337 614455 539463 1122314 591901 792049 520477 1051390 92684 834740 203167 995362 816903 266161 432549 205839 138140 69340 520477 1051390 1024511 1074748 487337 995362 1061507 423871 264476 703894 447215 834740 806785 142527 520477 608869 328266 375318 989488 1033823 1155254 158164 844647 520477 616017 234968 317301 520477 1166618 1120734 272017 995362 487337 703339 492100 1137533 520477 300241 690574 847972 846750 554251 554251 608869 1051390 194413 916075 834740 133940 266161 432549 1213233 557248 39765 1033823 998534 995362 487337 401118 847972 372959 264476 138047 194413 1033823 186144 622073 520477 1051868 834740 1134165 893547 995362 186144 264476 204775 460600 193306 834740 520477 1275770 300241 1249493 834740 487337 54059 1163183 956064 194413 995362 816903 266161 432549 441513 919060 1061562 186144 463806 520477 919060 454003 1191349 290352 487337 1051868 1155254 463809 766772 1134165 297388 920327 804391 733303 1033823 1254096 995362 487337 1051390 353815 719477 437143 520477 454003 834740 712824 520477 414858 668119 459953 401743 1033823 984580 1003816 325497 995362 266161 432549 732317 730221 520477 1036976 847972 292282 186144 264476 520477 1048677 501752 487337 1033823 1015669 194413 54111 516475 1033823 855343 1157791 1019141 995362 1201487 912844 1033823 1134165 477703 520477 63641 1171209 1201487 1101781 520477 1275770 95649 596474 186268 995362 186144 264476 603435 1051390 171767 520506 401743 520477 1275770 63641 1253787 307775 1033823 477703 144106 834740 520477 101137 487337 404543 683625 98991 685384 147973 591901 133940 816903 655002 457828 1115586 816903 266161 432549 870731 158164 454003 855343 1157791 995362 54111 532395 520477 487337 285591 834740 541521 1033823 129297 520477 766772 554665 520477 441513 766772 886177 995362 186144 423871 264476 460600 359207 1126193 54111 855343 1049092 1137386 806803 105283 918783 1140064 1203094 520477 1122314 603094 920327 554665 865012 834740 912348 1238333 1033823 129297 995362 266161 432549 956064 1010588 454003 520477 487337 54111 464075 1134165 585149 133940 1275770 300241 547191 1249493 1061507 989940 1166631 1033823 796522 920327 327773 526298 654705 995362 1238333 460600 564324 1253787 327773 1033823 989940 554251 554251 1275770 441513 547191 1249493 386932 186144 541521 1033823 264476 390288 54059 766772 200862 422098 588997 995362 388322 585149 857269 1154737 262022 325497 1033823 790149 133940 259154 766772 334227 707027 63641 435479 465148 574613 520477 61571 788244 54635 511173 964684 995362 816903 266161 1202830 65431 834740 54111 201161 229218 182491 1033823 830830 1179760 585149 1039539 995362 487337 378085 186144 758141 693050 1033823 663450 50182 355504 788176 63641 1114438 487337 995362 273954 1211274 1016854 184574 1061507 517925 728667 1033823 788176 878073 752134 834740 995362 848000 50182 1226165 1120033 1054611 618105 520477 1051390 634619 287496 1082716 188412 1121767 848000 182491 54111 962638 834740 995362 1211274 1057544 1016854 854891 1120734 540445 74350 1108767 1033823 477703 441513 547191 184574 477703 865012 759964 995362 816903 1025743 701424 392093 1091199 508687 186144 264476 481786 487337 1158514 995362 990423 266161 432549 1089318 1045686 995362 816903 487337 425654 338527 1061127 1033823 650017 520477 353815 585149 541185 1033823 129297 520477 1018377 454003 323327 1033823 855343 995362 54111 1150170 1134165 112533 792049 520477 487337 806905 834740 1160420 1114420 1019141 995362 1122314 129297 863247 798252 157586 920327 197769 920327 109974 1033823 961657 613494 995362 562647 22413 631148 320861 520477 369020 436553 674220 54111 240040 995362 816903 1025743 686820 806803 105283 990423 266161 432549 1032491 847972 111114 1140157 520477 1025743 400027 1062461 701424 201789 201789 701424 1154737 655201 1033823 303011 201789 201789 701424 460600 353815 655201 1033823 129297 1000483 1033823 520477 456758 520477 701424 427992 526298 655201 1158514 133940 990423 816903 459953 581584 995362 201133 674220 520477 266161 432549 177456 441513 1166618 520477 177456 441513 181556 995362 487337 951389 847972 184574 650017 243774 1097342 520477 171767 1114420 328266 613494 1089809 844647 520477 1136616 847972 1051868 1275770 613494 1209586 721442 441513 355504 995362 816903 1025743 701424 819591 266161 432549 968083 397939 133940 701424 427992 386932 821006 133940 990423 266161 418803 98991 312707 709522 995362 816903 707872 6127 905740 995362 487337 1051390 1078871 184574 861666 586333 242084 312707 629500 520477 328266 680217 831950 834740 559130 520477 1199320 855318 1033823 445221 292283 533686 448903 1000483 995362 873611 520477 1275770 520506 613494 930754 955978 98991 72103 722507 1033823 632079 995362 1235758 272671 1019141 1074872 300134 678604 738696 520477 374559 374394 995362 1151443 1033823 457012 18391 642119 1122061 520477 689292 1105258 834740 520477 404543 54111 913367 140644 98991 995431 995362 1274414 1019141 1033823 277708 280500 834740 1186241 252588 971229 520477 218617 1049092 1033823 995431 1048677 956848 616017 102614 995362 638160 41806 1033823 961657 921623 1083644 433993 1079208 13153 526298 1093719 556835 995362 54111 312707 357376 520477 266161 432549 285591 685384 147973 591901 520477 1109510 487337 85336 54111 607116 1019141 1207796 801215 1033823 746528 995362 816903 956064 931304 520477 613494 1049092 100264 710059 1033823 1031480 995362 1235758 992670 1010561 171962 65431 520477 844609 56652 454003 1127673 520477 608869 258547 403305 389870 454003 1267446 844647 995362 912348 562577 1103363 847972 981431 98991 520477 1157444 722412 266161 432549 521125 520477 698934 325768 225374 60151 520477 300241 184574 487337 248537 181950 1114823 844647 995362 855033 1033823 1173866 520477 1275770 950265 403305 725528 454003 266161 432549 521125 520477 520506 1279716 669962 487337 404285 146282 1059204 995362 300241 54111 830830 387031 935558 632948 1033823 159049 986351 328266 487337 1033823 285679 278889 437143 1033823 505107 520477 266161 432549 1138483 481825 650017 520477 1149298 834740 950265 1033823 728011 995362 115554 98737 240770 520477 930754 154877 801760 686860 39129 995362 674220 806755 54111 911176 1033823 294323 1130368 1205256 289763 1163783 520477 233929 243774 361906 345921 995362 285591 436383 562647 1033823 675104 820449 1075136 930185 98991 1138455 1251752 520477 266161 432549 582904 1010588 454003 487337 1033823 738279 739365 347982', '1027375 674220 995362 342914 911176 526298 674220 963900 520477 266161 432549 1162467 834740 995362 816903 1025743 701424 706675 1037347 655201 995362 701424 427992 526298 655201 437434 655201 1033823 788176 995362 655201 689292 679888 701424 834740 201789 201789 990423 816903 487337 697845 834740 183248 995362 266161 432549 1227364 847972 1278895 249694 1257522 911176 510564 1171578 161601 854170 995362 487337 1033823 285679 796795 460600 266161 177325 607116 1019141 285591 1033823 186144 423871 264476 1033823 285679 520477 845860 856385 1097161 710059 920327 632948 1033823 950265 856385 995362 487337 368356 185337 520477 457012 243774 1106783 520477 707872 460600 1093904 1033823 227822 520477 918835 1219671 808332 184574 266161 432549 157623 54111 1267446 1033823 1022805 806755 460600 241010 834740 995362 816903 768219 834740 992857 1072800 1149298 487337 728011 650017 520477 585149 708103 834740 1226448 1025743 701424 596474 363388 655201 133940 701424 1226165 655201 526298 1211274 54111 321830 554251 554251 655201 407475 755820 54111 1211274 960230 1033823 39741 1049092 995362 592110 54111 655201 404543 264512 285591 701424 1256802 520477 701424 300241 552368 454003 655201 834740 995362 655201 460600 806785 204485 520477 577406 1208415 834740 655201 995362 990423 816903 266161 432549 190067 58914 520477 608869 1133849 834740 743062 995362 816903 1025743 138140 1097342 520477 31046 655201 204775 1091199 1208415 834740 701424 520477 830830 300241 334417 652252 133940 680433 655201 810733 178725 701424 520477 204775 441513 18911 701424 419842 484936 178772 1000483 1033823 520477 1080587 655201 699607 207414 177456 303535 995362 701424 620853 655201 32538 184574 701424 915090 834740 995362 1190676 827017 655201 300241 223956 596474 18911 655201 1033823 788176 47305 1171995 834740 177456 995362 990423 816903 271975 457828 1115586 816903 796260 585149 992733 520477 124011 674220 129533 471375 995362 487337 3849 757369 854170 834740 995362 706161 264476 1133849 1152192 1033823 257556 520477 703339 858727 1004932 454003 1267446 520477 217414 1069083 995362 816903 1025743 701424 18911 1211274 1080587 701424 1033823 788176 1181092 834740 509379 177456 995362 848000 854891 19054 701424 788176 184574 372872 865012 505551 1033823 995362 99203 701424 1154737 177456 974132 520477 624637 526298 701424 767155 930754 1154737 133940 701424 706675 1037347 655201 995362 701424 880458 459665 655201 1208415 834740 701424 520477 1097342 541144 701424 956848 237210 325497 127068 995362 990423 816903 266161 632584 1210589 948879 290352 520477 285591 39765 723136 1033823 908744 504232 1207796 723823 834740 551275 297388 607119 995362 31046 355504 562647 790488 520477 460864 39765 806755 115679 834740 995362 816903 1025743 655201 346422 229658 250930 1166631 133940 990423 487337 1080587 423871 264476 386932 520477 1025743 680433 655201 806755 18911 834740 1061507 1222137 1033823 833984 520477 701424 441513 355504 490774 422098 1033823 1091199 1183198 655201 834740 995362 701424 138140 1101791 995362 31046 766772 177456 574651 490535 655201 1181092 1033823 520477 655201 1162467 386932 1199906 995362 990423 816903 423871 264476 351127 1180488 834740 1203094 995362 487337 1052956 671119 520477 409801 441513 956848 487337 992812 1033823 998534 1049092 194413 834740 995362 487337 263538 1065975 920327 676277 1033823 520477 1007204 297388 1221867 817257 520477 1279716 197769 520477 271386 1114540 109974 995362 726763 487337 1033823 817257 520477 1100007 280002 193776 1033823 292806 526298 851275 280002 1033823 588997 520477 487337 271386 526298 200832 264476 245480 995362 816903 1025743 300241 701424 303138 272277 966953 766772 527264 1080587 585149 867238 548833 133940 990423 487337 754713 98991 386932 520477 1025743 701424 819591 703473 122061 601211 995362 54111 1061507 1134596 1019141 135326 701424 183909 1033823 477703 806755 577019 834740 995362 701424 208979 950265 477703 732181 995362 262022 585149 460600 531525 54111 1061507 786748 1019141 1033823 431799 989940 995362 54111 398587 1033823 855343 776758 520477 598948 766772 39765 1033823 1152407 1198483 98991 806569 1097857 1033823 178772 995362 1192944 930754 54111 35156 526298 1122542 1019141 526298 1108767 987903 995362 766772 939268 477703 920327 436600 477703 628277 1025059 622871 739365 840522 1054611 1033823 989940 995362 701424 507321 691020 995362 990423 816903 1025743 323033 1033823 460600 520477 527264 323372 930754 596474 676949 598948 520477 1268082 598948 986821 766772 100078 930754 1207796 752134 834740 995362 1211157 520477 201133 701424 788176 701424 323372 59445 102499 1025059 1033823 585149 995362 701424 319071 362387 598948 186268 460600 691020 54111 1173199 1066408 1033823 765514 834740 995362 918835 701424 186268 460600 701424 1061507 729681 980337 1134165 834740 995362 990423 816903 816903 1257015 457828 1115586 816903 303845 703473 122061 755820 54111 855343 1049092 520477 266161 432549 956064 235778 520477 50182 1080587 178772 863657 710059 411358 1033823 730480 1097502 327773 520477 946811 1076422 995362 1051390 110494 487337 232680 18911 460600 1081563 534086 460600 177456 790149 184574 176827 865012 834740 33145 995362 816903 1025743 925757 102499 848000 133940 990423 703473 122061 386932 520477 1025743 167823 520477 701424 3849 403305 791344 403305 1101791 520477 157576 898948 153183 995362 655201 6475 1000483 944337 701424 652252 520477 454003 290352 494878 461372 1257367 989940 1033823 1251396 520477 25430 701424 18911 1033823 930754 1183198 655201 995362 990423 816903 196698 264476 673219 1140094 834740 677919 520477 266161 432549 351200 216515 703339 773476 300241 651513 520477 1051390 1094941 834740 995362 487337 404543 264512 1089809 1140064 520477 300241 285591 1070929 698607 1085362 861607 995362 487337 32538 48990 822676 520477 1048677 285591 841043 273954 1211274 151450 1033823 60020 184574 1134165 228959 703473 122061 521125 869455 844647 995362 174938 585149 403305 1054611 618105 520477 47261 427992 956848 220698 1049092 837188 292687 520477 602278 520477 674220 566670 54111 680217 520477 807887 847972 554821 998103 971961 995362 436553 54111 1211274 1057544 184574 703473 122061 674467 134176 792049 520477 674220 78141 1052956 554821 520477 822953 407290 16008 1033823 471375 844647 995362 628277 649861 1211274 93860 834740 703473 122061 1033823 796260 613494 995362 816903 152938 1112347 520477 1061507 423871 264476 3849 806755 1041558 454003 854170 995362 487337 1033823 359207 930754 679746 98991 520477 695132 54111 947677 1009412 1033823 425654 995362 266161 432549 138140 427992 844647 1000887 487337 1033823 518787 520477 99203 487337 1278146 441513 1130439 250930 138140 520477 39765 355504 1033420 497972 63641 487838 1122314 1107357 1033823 1211274 1057544 995362 487337 1267639 54111 876243 1049092 520477 330164 1278895 273954 1211274 184574 487337 1033823 497735 518787 101502 520477 1264280 216889 956848 613494 1049092 426618 834740 292687 995362 642241 98991 249694 1275770 566611 1022242 520477 266161 432549 24654 487337 482903 541144 585149 182491 54111 962638 1019141 995362 487337 473461 253161 703473 122061 386932 102499', '679740 1226448 1025743 323033 1033823 460600 520477 527264 323372 930754 596474 676949 598948 520477 1268082 598948 986821 766772 100078 930754 1207796 752134 834740 995362 990423 816903 266161 432549 839116 847972 171767 855343 66981 596474 249527 631072 158164 844647 995362 816903 816903 600200 572782 734299 457828 968083 397939 323159 694926 520477 901492 874561 650563 129533 889228 520477 658131 490774 422098 816903 608182 1226448', '816903 1012629 957974 1033823 328210 947200 652252 133940 928251 347900 520477 908963 196494 261940 520477 381891 710270 856385 1033823 560534 460600 1054308 211511 133940 701424 1033823 626786 554251 554251 611071 363704 520477 796858 878073 1033823 181254 862457 460600 1019141 101694 791116 802744 710270 520477 874881 101694 460600 61304 710270 995362 710270 883699 791685 1271195 520477 388322 701424 158677 184574 701424 200861 1033823 212672 1136151 336098 878073 943956 796260 971457 361815 816903 816903 816903 701424 710270 489884 460600 856385 915196 429703 520477 710746 918414 520477 79262 106451 22223 582420 226337 133940 698763 834740 386932 19054 262022 325497 1033823 796260 136414 520477 701424 956848 1019141 108492 1033823 560534 658134 220238 701424 844647 710270 856385 520477 845860 1278895 1133180 675505 1128634 844647 825039 968650 930754 740095 1033823 1126337 992670 419186 441513 768960 701424 300241 236630 834740 961017 520477 1128927 830830 560534 710270 414956 701424 458209 520477 794821 460600 250170 856385 710270 19054 541144 856385 596474 662360 370103 520477 84718 596474 474807 562647 414956 1134165 1009088 1243482 1037994 1033823 486973 460600 177456 816903 995362 816903 816903 701424 1198055 381891 710270 290352 816903 460600 428243 834740 430183 1233323 1033823 620765 1003539 605692 816903 816903 177526 701424 710270 266784 1033823 729976 816903 1140064 54111 1003767 553856 520477 956064 766772 293941 703615 515948 1134165 364245 17238 1171995 834740 548075 520477 791685 337587 520477 441513 1038736 754713 834740 816903 496677 441513 18911 796858 264512 605692 844647 435292 99203 729468 766772 347165 133940 816903 449599 78141 18911 796858 1181092 834740 802744 710270 520477 1191112 806755 810162 422098 834740 520477 388322 208199 1033823 54111 796473 520477 701424 441513 460600 830830 560534 78141 18911 802744 710270 1033823 149201 663669 554251 554251 1145370 444135 520477 99203 701424 110494 834740 1191954 1033823 605692 1081251 526298 1031928 566841 520477 1097161 403305 357402 834740 520477 54111 796858 582520 470829 792049 520477 701424 285591 347165 520477 788244 1091199 710270 1033823 837263 403305 766772 834740 133940 816903 816903 177526 701424 710270 266784 1033823 729976 876555 1128634 773259 299571 1091199 1172854 701424 856385 1071452 816903 845860 495458 1033823 477703 621682 19054 183909 520477 355504 748973 300241 138140 610577 844647 563674 995362 460600 738281 520477 701424 403305 357402 834740 133940 364245 386932 816903 655201 768219 31046 655201 1022460 526298 701424 321830 679740 3849 441513 689292 1013437 834740 520477 254270 520477 710270 1033823 1193939 441513 300241 1134165 1097342 878066 625235 1144961 520477 1122314 481786 655201 441513 19054 26226 605692 520477 845860 710270 792049 520477 679412 526298 119099 460600 481786 366122 1033823 133940 816903 19054 40165 860053 520477 541144 701424 403305 766772 834740 710270 1033823 907516 995362 791685 1080587 520477 1120734 1251396 229783 1033823 192454 879063 766772 196698 816903 1134165 460600 496412 816903 1134165 19054 3849 133940 1171031 1110074 719711 133940 816903 816903 177526 701424 710270 266784 1033823 729976 876555 1128634 773259 930754 464711 398207 1071452 816903 982084 416100 285591 701424 309047 1033823 1238896 54111 209541 441513 54111 882127 710270 322187 520477 701424 791685 1136616 133940 524739 796858 806755 823913 834740 460929 1126401 970106 520477 99203 448837 1154217 1207225 300241 264512 79262 784356 995362 1022460 701424 643062 138140 671335 520477 810733 813061 477703 930754 54111 710270 520477 701424 47305 404543 54111 495458 177456 133940 816903 816903 177526 701424 710270 266784 1033823 729976 816903 701424 1033823 856385 1116679 300241 429703 520477 79262 188650 920111 791685 1038736 139548 790149 520477 752991 939604 747481 920327 383832 920327 778165 2214 1122314 995362 541144 701424 280380 632718 226337 520477 205402 139891 39765 520477 568277 856385 847492 460600 120326 520477 119099 441513 460600 747560 762897 1033823 1260231 133940 701424 939470 706675 584069 856385 300241 524739 113525 596474 141776 918835 961479 34904 520477 1275770 541144 701424 961312 168220 1157823 1169457 447179 1033823 658781 105283 816903 816903 177526 701424 710270 266784 1033823 729976 816903 526298 1107358 386932 1069083 701424 1033823 162254 520477 487337 1012629 703615 264512 129638 794043 186144 35266 520477 99203 31046 577406 475197 520477 487337 482014 122948 975542 868560 133940 816903 816903 177526 701424 710270 266784 1033823 729976 816903 330269 19054 75941 576250 851405 1033823 825039 520477 761712 701424 354668 264512 305209 995362 240644 19081 728407 54111 1248446 324561 541185 834740 1146975 1033823 474610 520477 1275770 441513 460600 810733 6562 792049 701424 54059 49933 940898 324561 133940 816903 1241713 347900 200862 422098 520477 701424 229783 596474 26206 995362 930754 460600 508008 610495 1033823 520477 608869 844647 988775 768219 520477 379223 405723 40563 1097342 816903 1062736 794016 520477 379223 405723 1081251 739365 1130795 99203 40563 701424 157576 596474 764656 520477 1241713 19054 246539 1134165 40563 1097342 520477 626786 69046 1097342 1154737 746878 520477 1198055 54111 701424 1181092 834740 100078 83074 792049 701424 508687 834740 136106 1025277 1274638 520477 701424 441513 550798 460600 848000 133940 816903 796260 971457 944337 1241713 679740 816903 132516 778803 1242010 1167816 816903 1154737 386932 614857 728407 816903 482707 848000 293137 183082 411707 816903 152353 520477 655201 710270 758716 1163183 766772 121732 196698 446961 1033823 626786 1033823 187793 995362 1275770 1080587 520506 41306 1149037 779802 520477 524739 447420 626786 719519 211163 585245 441513 211163 520477 67906 559236 50182 883699 441513 596474 204775 1271195 995362 816903 573761 1006797 1097342 1033823 39765 1181454 1033823 405723 520477 183909 655201 1033823 626786 1145528 261174 1089809 520477 371600 405723 460600 796858 960230 1033823 90061 133940 801289 204775 1091199 178725 655201 1033823 466525 1256802 854888 591366 895011 1033823 632092 520477 1078721 1091199 1019141 796325 962375 632092 520477 710270 563434 520477 598948 473461 1181092 801477 1154737 520477 1271025 19054 422098 175320 223379 947200 329580 520477 371600 1097342 626786 930754 739365 707227 1033823 454003 1033823 995362 816903 701424 158677 710270 792049 19054 1142192 988775 96614 1181092 862457 520477 701424 460600 806785 922318 435479 1033823 1253164 520477 460458 427992 1181092 1174525 933553 520477 99203 701424 1033823 626786 620853 701424 1181092 1165701 995362 19054 54111 606233 739365 974472 454003 1033823 830830 808255 240651 789288 995362 816903 1165701 710270 788244 149201 1033823 360674 460600 520477 605692 1234307 689292 520477 232925 411707 520477 816903 883699 129442 520477 44353 460600 548066 891159 995362 186268 548066 933553 1031928 1019141 348412 137035 520477 511173 652335 626786 396212 520477 935437 739365 1181092 1165701 1033823 876870 626786 596474 422098 995362 1122314 959420 335008 626786 1033823 520477 816903 401201 408021 39765 1016192 96614']\n"
     ]
    }
   ],
   "source": [
    "print(len(y))\n",
    "print(len(split_train))\n",
    "print(split_train[:5])"
   ]
  },
  {
   "cell_type": "code",
   "execution_count": 101,
   "metadata": {},
   "outputs": [
    {
     "data": {
      "text/plain": [
       "list"
      ]
     },
     "execution_count": 101,
     "metadata": {},
     "output_type": "execute_result"
    }
   ],
   "source": [
    "type(y)"
   ]
  },
  {
   "cell_type": "code",
   "execution_count": 113,
   "metadata": {},
   "outputs": [],
   "source": [
    "back_train = pd.DataFrame({'word_seg':split_train,'article_class':y})"
   ]
  },
  {
   "cell_type": "code",
   "execution_count": 119,
   "metadata": {},
   "outputs": [],
   "source": [
    "back_train = pd.DataFrame(split_train,columns = ['word_seg'])"
   ]
  },
  {
   "cell_type": "code",
   "execution_count": null,
   "metadata": {},
   "outputs": [],
   "source": [
    "back_train['article_class'] = y"
   ]
  },
  {
   "cell_type": "code",
   "execution_count": 173,
   "metadata": {
    "scrolled": true
   },
   "outputs": [],
   "source": [
    "back3.to_csv('data/back_train.csv')"
   ]
  },
  {
   "cell_type": "code",
   "execution_count": 122,
   "metadata": {},
   "outputs": [
    {
     "data": {
      "text/html": [
       "<div>\n",
       "<style scoped>\n",
       "    .dataframe tbody tr th:only-of-type {\n",
       "        vertical-align: middle;\n",
       "    }\n",
       "\n",
       "    .dataframe tbody tr th {\n",
       "        vertical-align: top;\n",
       "    }\n",
       "\n",
       "    .dataframe thead th {\n",
       "        text-align: right;\n",
       "    }\n",
       "</style>\n",
       "<table border=\"1\" class=\"dataframe\">\n",
       "  <thead>\n",
       "    <tr style=\"text-align: right;\">\n",
       "      <th></th>\n",
       "      <th>word_seg</th>\n",
       "      <th>article_class</th>\n",
       "    </tr>\n",
       "  </thead>\n",
       "  <tbody>\n",
       "    <tr>\n",
       "      <th>0</th>\n",
       "      <td>90540 816903 441039 816903 569138 816903 10343...</td>\n",
       "      <td>3</td>\n",
       "    </tr>\n",
       "    <tr>\n",
       "      <th>1</th>\n",
       "      <td>270411 1033823 676152 520477 300241 514147 108...</td>\n",
       "      <td>3</td>\n",
       "    </tr>\n",
       "    <tr>\n",
       "      <th>2</th>\n",
       "      <td>1027375 674220 995362 342914 911176 526298 674...</td>\n",
       "      <td>3</td>\n",
       "    </tr>\n",
       "    <tr>\n",
       "      <th>3</th>\n",
       "      <td>679740 1226448 1025743 323033 1033823 460600 5...</td>\n",
       "      <td>3</td>\n",
       "    </tr>\n",
       "    <tr>\n",
       "      <th>4</th>\n",
       "      <td>816903 1012629 957974 1033823 328210 947200 65...</td>\n",
       "      <td>12</td>\n",
       "    </tr>\n",
       "  </tbody>\n",
       "</table>\n",
       "</div>"
      ],
      "text/plain": [
       "                                            word_seg  article_class\n",
       "0  90540 816903 441039 816903 569138 816903 10343...              3\n",
       "1  270411 1033823 676152 520477 300241 514147 108...              3\n",
       "2  1027375 674220 995362 342914 911176 526298 674...              3\n",
       "3  679740 1226448 1025743 323033 1033823 460600 5...              3\n",
       "4  816903 1012629 957974 1033823 328210 947200 65...             12"
      ]
     },
     "execution_count": 122,
     "metadata": {},
     "output_type": "execute_result"
    }
   ],
   "source": [
    "back_train[:5]"
   ]
  },
  {
   "cell_type": "code",
   "execution_count": 132,
   "metadata": {},
   "outputs": [
    {
     "data": {
      "text/html": [
       "<div>\n",
       "<style scoped>\n",
       "    .dataframe tbody tr th:only-of-type {\n",
       "        vertical-align: middle;\n",
       "    }\n",
       "\n",
       "    .dataframe tbody tr th {\n",
       "        vertical-align: top;\n",
       "    }\n",
       "\n",
       "    .dataframe thead th {\n",
       "        text-align: right;\n",
       "    }\n",
       "</style>\n",
       "<table border=\"1\" class=\"dataframe\">\n",
       "  <thead>\n",
       "    <tr style=\"text-align: right;\">\n",
       "      <th></th>\n",
       "      <th>id</th>\n",
       "      <th>article</th>\n",
       "      <th>word_seg</th>\n",
       "      <th>article_class</th>\n",
       "    </tr>\n",
       "  </thead>\n",
       "  <tbody>\n",
       "    <tr>\n",
       "      <th>0</th>\n",
       "      <td>0</td>\n",
       "      <td>7368 1252069 365865 755561 1044285 129532 1053...</td>\n",
       "      <td>816903 597526 520477 1179558 1033823 758724 63...</td>\n",
       "      <td>14</td>\n",
       "    </tr>\n",
       "    <tr>\n",
       "      <th>1</th>\n",
       "      <td>1</td>\n",
       "      <td>581131 165432 7368 957317 1197553 570900 33659...</td>\n",
       "      <td>90540 816903 441039 816903 569138 816903 10343...</td>\n",
       "      <td>3</td>\n",
       "    </tr>\n",
       "    <tr>\n",
       "      <th>2</th>\n",
       "      <td>2</td>\n",
       "      <td>7368 87936 40494 490286 856005 641588 145611 1...</td>\n",
       "      <td>816903 1012629 957974 1033823 328210 947200 65...</td>\n",
       "      <td>12</td>\n",
       "    </tr>\n",
       "    <tr>\n",
       "      <th>3</th>\n",
       "      <td>3</td>\n",
       "      <td>299237 760651 299237 887082 159592 556634 7489...</td>\n",
       "      <td>563568 1239563 680125 780219 782805 1033823 19...</td>\n",
       "      <td>13</td>\n",
       "    </tr>\n",
       "    <tr>\n",
       "      <th>4</th>\n",
       "      <td>4</td>\n",
       "      <td>7368 7368 7368 865510 7368 396966 995243 37685...</td>\n",
       "      <td>816903 816903 816903 139132 816903 312320 1103...</td>\n",
       "      <td>12</td>\n",
       "    </tr>\n",
       "  </tbody>\n",
       "</table>\n",
       "</div>"
      ],
      "text/plain": [
       "   id                                            article  \\\n",
       "0   0  7368 1252069 365865 755561 1044285 129532 1053...   \n",
       "1   1  581131 165432 7368 957317 1197553 570900 33659...   \n",
       "2   2  7368 87936 40494 490286 856005 641588 145611 1...   \n",
       "3   3  299237 760651 299237 887082 159592 556634 7489...   \n",
       "4   4  7368 7368 7368 865510 7368 396966 995243 37685...   \n",
       "\n",
       "                                            word_seg  article_class  \n",
       "0  816903 597526 520477 1179558 1033823 758724 63...             14  \n",
       "1  90540 816903 441039 816903 569138 816903 10343...              3  \n",
       "2  816903 1012629 957974 1033823 328210 947200 65...             12  \n",
       "3  563568 1239563 680125 780219 782805 1033823 19...             13  \n",
       "4  816903 816903 816903 139132 816903 312320 1103...             12  "
      ]
     },
     "execution_count": 132,
     "metadata": {},
     "output_type": "execute_result"
    }
   ],
   "source": [
    "train[:5]"
   ]
  },
  {
   "cell_type": "code",
   "execution_count": 114,
   "metadata": {},
   "outputs": [
    {
     "name": "stdout",
     "output_type": "stream",
     "text": [
      "49145\n"
     ]
    },
    {
     "data": {
      "text/html": [
       "<div>\n",
       "<style scoped>\n",
       "    .dataframe tbody tr th:only-of-type {\n",
       "        vertical-align: middle;\n",
       "    }\n",
       "\n",
       "    .dataframe tbody tr th {\n",
       "        vertical-align: top;\n",
       "    }\n",
       "\n",
       "    .dataframe thead th {\n",
       "        text-align: right;\n",
       "    }\n",
       "</style>\n",
       "<table border=\"1\" class=\"dataframe\">\n",
       "  <thead>\n",
       "    <tr style=\"text-align: right;\">\n",
       "      <th></th>\n",
       "      <th>article_class</th>\n",
       "      <th>word_seg</th>\n",
       "    </tr>\n",
       "  </thead>\n",
       "  <tbody>\n",
       "    <tr>\n",
       "      <th>0</th>\n",
       "      <td>3</td>\n",
       "      <td>90540 816903 441039 816903 569138 816903 10343...</td>\n",
       "    </tr>\n",
       "    <tr>\n",
       "      <th>1</th>\n",
       "      <td>3</td>\n",
       "      <td>270411 1033823 676152 520477 300241 514147 108...</td>\n",
       "    </tr>\n",
       "    <tr>\n",
       "      <th>2</th>\n",
       "      <td>3</td>\n",
       "      <td>1027375 674220 995362 342914 911176 526298 674...</td>\n",
       "    </tr>\n",
       "    <tr>\n",
       "      <th>3</th>\n",
       "      <td>3</td>\n",
       "      <td>679740 1226448 1025743 323033 1033823 460600 5...</td>\n",
       "    </tr>\n",
       "    <tr>\n",
       "      <th>4</th>\n",
       "      <td>12</td>\n",
       "      <td>816903 1012629 957974 1033823 328210 947200 65...</td>\n",
       "    </tr>\n",
       "  </tbody>\n",
       "</table>\n",
       "</div>"
      ],
      "text/plain": [
       "   article_class                                           word_seg\n",
       "0              3  90540 816903 441039 816903 569138 816903 10343...\n",
       "1              3  270411 1033823 676152 520477 300241 514147 108...\n",
       "2              3  1027375 674220 995362 342914 911176 526298 674...\n",
       "3              3  679740 1226448 1025743 323033 1033823 460600 5...\n",
       "4             12  816903 1012629 957974 1033823 328210 947200 65..."
      ]
     },
     "execution_count": 114,
     "metadata": {},
     "output_type": "execute_result"
    }
   ],
   "source": [
    "print(len(back_train))\n",
    "back_train[:5]"
   ]
  },
  {
   "cell_type": "code",
   "execution_count": 35,
   "metadata": {},
   "outputs": [],
   "source": [
    "train_word_length = []\n",
    "back = []\n",
    "\n",
    "for line in train.word_seg.values:\n",
    "    line = line.split()\n",
    "    train_word_length.append(len(line))\n",
    "#     if len(line)>1000:\n",
    "#         line = line[-1000:]\n",
    "#         h = ' '.join(line)\n",
    "#         back.append(h)"
   ]
  },
  {
   "cell_type": "code",
   "execution_count": 50,
   "metadata": {},
   "outputs": [],
   "source": [
    "test = pd.read_csv('data/test_set.csv')\n",
    "test_word_length = []\n",
    "back = []\n",
    "for line in test.word_seg.values:\n",
    "\n",
    "    line = line.split()\n",
    "    test_word_length.append(len(line))"
   ]
  },
  {
   "cell_type": "code",
   "execution_count": 37,
   "metadata": {},
   "outputs": [
    {
     "data": {
      "text/plain": [
       "[627, 3062, 1588, 467, 1297]"
      ]
     },
     "execution_count": 37,
     "metadata": {},
     "output_type": "execute_result"
    }
   ],
   "source": [
    "len(train_word_length)\n",
    "train_word_length[:5]\n"
   ]
  },
  {
   "cell_type": "code",
   "execution_count": 55,
   "metadata": {},
   "outputs": [],
   "source": [
    "back_train['article_class'] = y\n",
    "\n",
    "back_train.to_csv('data/back_train.csv')"
   ]
  },
  {
   "cell_type": "code",
   "execution_count": 116,
   "metadata": {},
   "outputs": [
    {
     "data": {
      "text/plain": [
       "['90540 816903 441039 816903 569138 816903 1034376 997489 382714 1236006 520477 132364 1207796 89613 1033299 834740 133940 816903 848000 386932 520477 31046 766772 748483 481786 701424 522428 764656 572782 266161 432549 457828 968083 397939 323159 1033823 925313 520477 848000 220238 701424 500399 133940 816903 1256303 520477 1243427 520477 487094 993110 477703 768219 133940 1034376 140644 98991 1207796 569876 1130139 1033823 257190 878073 585102 1105940 985047 834740 520477 506606 266784 781202 566120 768219 133940 816903 31046 422170 441513 703615 847492 520477 300241 54111 1278725 173393 652252 133940 1014945 1231069 1046814 1033823 637864 520477 1121767 614484 572782 266161 432549 457828 968083 397939 426716 487693 525987 323159 1033823 512031 853939 896267 133940 816903 426716 457828 1115586 816903 682718 816903 703473 122061 816903 266161 432549 526298 487337 1033823 788176 54111 973043 1033823 620853 874881 520477 806905 487337 520261 960230 1033823 39741 138548 834740 806785 257811 1033823 1151443 995362 1183078 919096 33145 1269597 1033823 28028 885069 1190848 520477 532578 630379 54111 459953 906384 1033823 292730 76065 520477 124777 1187383 403305 6012 995362 968083 397939 765514 490535 132364 508687 834740 701269 1033823 1063442 1180488 9003 995362 848000 849254 1033823 830830 436553 909617 1107358 111874 441513 1204806 508687 834740 1134165 581584 1033823 477057 520477 1213569 286741 564561 847972 460020 577108 1000483 995362 816903 857438 410745 487452 54111 39741 1049092 508687 834740 262389 995362 1128239 1211274 1033823 973043 54111 319071 480656 792049 62979 39765 1000483 42109 1183078 943146 520477 99203 487337 763308 834740 970100 21772 441513 1088438 520477 487337 354668 300241 1154737 177456 169428 995362 3849 1276314 1191954 357663 520477 61571 138140 728407 1032942 520477 857438 1097161 138140 829988 847972 351200 184574 326225 1033823 1063442 930754 924496 995362 148697 489634 520477 968083 397939 765514 864963 834740 601707 1187383 920327 34638 591366 390998 1033823 1151443 995362 943469 520477 31046 1171534 508647 404543 1008883 774411 679740 554251 554251 796858 323697 74806 554251 554251 39741 404543 264689 693050 878073 848000 915090 995362 1122314 771550 1112816 390823 792049 520477 968083 397939 765514 1051390 1204806 54111 497735 898836 931714 834740 183248 995362 816903 421186 278629 1025743 743062 1253787 1028709 990423 1033823 39741 460600 1211274 1057544 726082 764656 1033823 1205256 25959 520477 848000 196732 54111 491804 193517 920327 918523 534086 437434 545370 676782 1033823 978329 995362 956848 1147459 454003 428304 520477 299571 686820 54111 132675 291049 39765 891753 329963 278877 520477 1146684 993908 864854 1033823 443042 329963 1054915 995362 404543 379223 477703 460600 1097038 810676 1264372 835345 1033823 724979 454003 132675 1000483 30110 874881 1033823 995362 1036409 327638 620352 807887 477703 1033823 479329 520477 23529 1122471 351248 460600 1275969 995362 973043 319071 39765 19054 300557 191765 1033823 1211274 520477 100382 323033 550816 520477 99203 54111 830830 333771 256357 1033823 1147110 325497 487337 460600 254376 1033823 520477 848000 678048 531723 487337 864854 1033823 461372 766147 381654 520477 335008 834740 1122314 299485 487337 1033823 65999 413137 1159919 995362 816903 133142 1033823 1211274 640040 657097 1005063 520477 930754 1163183 54111 743062 1253787 1028709 198573 1081412 520477 325725 947200 372099 1033823 833984 520477 857269 993908 874881 39765 689771 1033823 515268 995362 491804 1274886 879395 520477 413137 741266 920327 376863 681464 520477 684484 512606 54111 491804 74081 37356 726082 814644 1033823 299485 995362 1087585 525987 903212 520477 19054 411707 596474 249527 631072 1033823 1152407 520477 441513 19054 273954 1211274 1033823 132697 678048 447547 906873 520477 848512 1000483 30110 1039033 520477 848512 1000483 526298 639295 593996 995362 414956 135326 266161 432549 183909 1033823 69340 1164169 520477 1213233 355504 703473 421186 39741 490774 876819 460932 1033823 1063442 834740 520477 524739 54111 491804 299571 63641 7796 605692 37356 744561 1033823 1166631 833984 995362 816903 965936 457828 1115586 816903 3849 585102 1033823 196174 536257 559026 930754 117651 98991 584131 1018635 208234 834740 188412 995362 292350 1249493 460600 177456 184574 1122314 372872 865012 834740 505551 520477 99203 730920 1243222 520477 947501 481137 1033823 372872 806755 1207796 800760 834740 995362 640040 461372 596474 335008 883811 205051 36865 1227861 1033823 1010355 554251 554251 1211157 520477 404543 1119699 54111 1155254 685057 408478 1033823 461372 477703 554251 554251 52857 930754 325497 834740 1275770 1097502 1033823 188412 995362 82389 855343 1033823 810957 60020 1050600 300241 1163183 1249340 865012 33145 1033823 1172022 920327 142249 920327 330769 526298 481372 995362 628277 100078 123212 386932 133142 747276 411707 596474 249527 869415 834740 788465 1033823 309457 520477 831818 1088911 834740 865446 820449 663533 85261 995362 855343 1068760 427431 930754 1163183 674164 408183 420886 1033823 246662 520477 144530 1267246 1249639 520477 1122314 828063 1033823 286438 541144 848000 703615 468926 520477 791685 460600 788244 246662 1257817 1246265 1155254 290352 989410 995362 1211274 1057544 703615 848000 886244 1033823 460600 1134165 339680 54111 10242 325497 1166618 1033823 303011 995362 562647 37909 186268 460600 285392 520477 461372 528131 1275770 22959 717448 327773 1033823 477703 3849 930754 312623 54111 864525 325497 995362 434875 1211274 1057544 766772 329963 427992 37356 1251396 1033823 46113 460600 177456 520477 1122314 505551 787270 967562 98991 848000 1033823 305837 995362 973043 526298 487337 1033823 294755 1057544 441513 982084 577643 372872 522428 765318 995362 1087585 525987 903212 437792 930754 580056 834740 520477 184574 632718 422098 1033823 1233500 482387 526298 813838 272466 182491 54111 962638 1019141 995362 264512 477703 18911 1102666 487838 1061507 880464 1033823 243989 995362 816903 857503 266161 432549 526298 487337 788176 637301 269018 520477 806755 1084266 560863 834740 995362 934612 497735 881054 541144 477703 138140 1259951 520477 845860 848000 1097161 703615 54111 411707 596474 249527 1215425 1033823 605692 227353 834740 995362 110130 848000 403305 229783 742713 139754 810878 515459 909322 545596 855343 995362 266161 177325 655580 1231567 1104718 834740 292129 1061507 833984 1204806 54111 1211274 986821 807837 834740 995362 973043 413137 426095 847972 1183198 487337 1033823 294755 1057544 520477 1061507 719949 877081 460600 168220 576250 56052 541144 186144 596474 757105 1033823 39741 569876 949561 578634 1033823 995362 1089809 54111 514097 520477 84718 596474 351343 1033823 1178969 441513 1163183 686882 266161 432549 520477 819375 487337 275242 1061507 761520 757105 1106432 995362 816903 266161 432549 864895 54111 1057949 851313 847972 833859 995362 487337 588341 54111 514097 302083 1113620 520477 588341 1163183 41462 285591 509379 143333 526298 796260 119579 889545 995362 1194630 427169 54111 1190848 1033823 229218 1019141 930754 766772 806785 607116 520477 454003 201186 1218804 1063707',\n",
       " '270411 1033823 676152 520477 300241 514147 1087585 525987 903212 1005612 805359 920327 753759 569140 496316 1033823 727133 23156 995362 1109510 54111 616017 1183640 427169 266161 432549 552368 454003 608161 1079681 676152 352708 54111 847972 715797 995362 487337 1278895 436553 703473 266161 432571 843587 520477 663832 481786 461051 1197351 520477 1099927 1221867 1033823 1095834 995362 266161 432549 1136616 847972 1051868 487337 1033823 817257 588997 192802 520477 628277 934612 487337 858727 779802 520477 821567 930754 998762 1124631 834740 520477 845860 487337 814731 272665 214678 362972 995362 487337 1033823 603094 767231 520477 54111 807173 557269 520477 783993 920327 667652 920327 262962 920327 13153 412711 1207796 487337 487685 834740 806785 439302 995362 487337 614455 539463 1122314 591901 792049 520477 1051390 92684 834740 203167 995362 816903 266161 432549 205839 138140 69340 520477 1051390 1024511 1074748 487337 995362 1061507 423871 264476 703894 447215 834740 806785 142527 520477 608869 328266 375318 989488 1033823 1155254 158164 844647 520477 616017 234968 317301 520477 1166618 1120734 272017 995362 487337 703339 492100 1137533 520477 300241 690574 847972 846750 554251 554251 608869 1051390 194413 916075 834740 133940 266161 432549 1213233 557248 39765 1033823 998534 995362 487337 401118 847972 372959 264476 138047 194413 1033823 186144 622073 520477 1051868 834740 1134165 893547 995362 186144 264476 204775 460600 193306 834740 520477 1275770 300241 1249493 834740 487337 54059 1163183 956064 194413 995362 816903 266161 432549 441513 919060 1061562 186144 463806 520477 919060 454003 1191349 290352 487337 1051868 1155254 463809 766772 1134165 297388 920327 804391 733303 1033823 1254096 995362 487337 1051390 353815 719477 437143 520477 454003 834740 712824 520477 414858 668119 459953 401743 1033823 984580 1003816 325497 995362 266161 432549 732317 730221 520477 1036976 847972 292282 186144 264476 520477 1048677 501752 487337 1033823 1015669 194413 54111 516475 1033823 855343 1157791 1019141 995362 1201487 912844 1033823 1134165 477703 520477 63641 1171209 1201487 1101781 520477 1275770 95649 596474 186268 995362 186144 264476 603435 1051390 171767 520506 401743 520477 1275770 63641 1253787 307775 1033823 477703 144106 834740 520477 101137 487337 404543 683625 98991 685384 147973 591901 133940 816903 655002 457828 1115586 816903 266161 432549 870731 158164 454003 855343 1157791 995362 54111 532395 520477 487337 285591 834740 541521 1033823 129297 520477 766772 554665 520477 441513 766772 886177 995362 186144 423871 264476 460600 359207 1126193 54111 855343 1049092 1137386 806803 105283 918783 1140064 1203094 520477 1122314 603094 920327 554665 865012 834740 912348 1238333 1033823 129297 995362 266161 432549 956064 1010588 454003 520477 487337 54111 464075 1134165 585149 133940 1275770 300241 547191 1249493 1061507 989940 1166631 1033823 796522 920327 327773 526298 654705 995362 1238333 460600 564324 1253787 327773 1033823 989940 554251 554251 1275770 441513 547191 1249493 386932 186144 541521 1033823 264476 390288 54059 766772 200862 422098 588997 995362 388322 585149 857269 1154737 262022 325497 1033823 790149 133940 259154 766772 334227 707027 63641 435479 465148 574613 520477 61571 788244 54635 511173 964684 995362 816903 266161 1202830 65431 834740 54111 201161 229218 182491 1033823 830830 1179760 585149 1039539 995362 487337 378085 186144 758141 693050 1033823 663450 50182 355504 788176 63641 1114438 487337 995362 273954 1211274 1016854 184574 1061507 517925 728667 1033823 788176 878073 752134 834740 995362 848000 50182 1226165 1120033 1054611 618105 520477 1051390 634619 287496 1082716 188412 1121767 848000 182491 54111 962638 834740 995362 1211274 1057544 1016854 854891 1120734 540445 74350 1108767 1033823 477703 441513 547191 184574 477703 865012 759964 995362 816903 1025743 701424 392093 1091199 508687 186144 264476 481786 487337 1158514 995362 990423 266161 432549 1089318 1045686 995362 816903 487337 425654 338527 1061127 1033823 650017 520477 353815 585149 541185 1033823 129297 520477 1018377 454003 323327 1033823 855343 995362 54111 1150170 1134165 112533 792049 520477 487337 806905 834740 1160420 1114420 1019141 995362 1122314 129297 863247 798252 157586 920327 197769 920327 109974 1033823 961657 613494 995362 562647 22413 631148 320861 520477 369020 436553 674220 54111 240040 995362 816903 1025743 686820 806803 105283 990423 266161 432549 1032491 847972 111114 1140157 520477 1025743 400027 1062461 701424 201789 201789 701424 1154737 655201 1033823 303011 201789 201789 701424 460600 353815 655201 1033823 129297 1000483 1033823 520477 456758 520477 701424 427992 526298 655201 1158514 133940 990423 816903 459953 581584 995362 201133 674220 520477 266161 432549 177456 441513 1166618 520477 177456 441513 181556 995362 487337 951389 847972 184574 650017 243774 1097342 520477 171767 1114420 328266 613494 1089809 844647 520477 1136616 847972 1051868 1275770 613494 1209586 721442 441513 355504 995362 816903 1025743 701424 819591 266161 432549 968083 397939 133940 701424 427992 386932 821006 133940 990423 266161 418803 98991 312707 709522 995362 816903 707872 6127 905740 995362 487337 1051390 1078871 184574 861666 586333 242084 312707 629500 520477 328266 680217 831950 834740 559130 520477 1199320 855318 1033823 445221 292283 533686 448903 1000483 995362 873611 520477 1275770 520506 613494 930754 955978 98991 72103 722507 1033823 632079 995362 1235758 272671 1019141 1074872 300134 678604 738696 520477 374559 374394 995362 1151443 1033823 457012 18391 642119 1122061 520477 689292 1105258 834740 520477 404543 54111 913367 140644 98991 995431 995362 1274414 1019141 1033823 277708 280500 834740 1186241 252588 971229 520477 218617 1049092 1033823 995431 1048677 956848 616017 102614 995362 638160 41806 1033823 961657 921623 1083644 433993 1079208 13153 526298 1093719 556835 995362 54111 312707 357376 520477 266161 432549 285591 685384 147973 591901 520477 1109510 487337 85336 54111 607116 1019141 1207796 801215 1033823 746528 995362 816903 956064 931304 520477 613494 1049092 100264 710059 1033823 1031480 995362 1235758 992670 1010561 171962 65431 520477 844609 56652 454003 1127673 520477 608869 258547 403305 389870 454003 1267446 844647 995362 912348 562577 1103363 847972 981431 98991 520477 1157444 722412 266161 432549 521125 520477 698934 325768 225374 60151 520477 300241 184574 487337 248537 181950 1114823 844647 995362 855033 1033823 1173866 520477 1275770 950265 403305 725528 454003 266161 432549 521125 520477 520506 1279716 669962 487337 404285 146282 1059204 995362 300241 54111 830830 387031 935558 632948 1033823 159049 986351 328266 487337 1033823 285679 278889 437143 1033823 505107 520477 266161 432549 1138483 481825 650017 520477 1149298 834740 950265 1033823 728011 995362 115554 98737 240770 520477 930754 154877 801760 686860 39129 995362 674220 806755 54111 911176 1033823 294323 1130368 1205256 289763 1163783 520477 233929 243774 361906 345921 995362 285591 436383 562647 1033823 675104 820449 1075136 930185 98991 1138455 1251752 520477 266161 432549 582904 1010588 454003 487337 1033823 738279 739365 347982',\n",
       " '1027375 674220 995362 342914 911176 526298 674220 963900 520477 266161 432549 1162467 834740 995362 816903 1025743 701424 706675 1037347 655201 995362 701424 427992 526298 655201 437434 655201 1033823 788176 995362 655201 689292 679888 701424 834740 201789 201789 990423 816903 487337 697845 834740 183248 995362 266161 432549 1227364 847972 1278895 249694 1257522 911176 510564 1171578 161601 854170 995362 487337 1033823 285679 796795 460600 266161 177325 607116 1019141 285591 1033823 186144 423871 264476 1033823 285679 520477 845860 856385 1097161 710059 920327 632948 1033823 950265 856385 995362 487337 368356 185337 520477 457012 243774 1106783 520477 707872 460600 1093904 1033823 227822 520477 918835 1219671 808332 184574 266161 432549 157623 54111 1267446 1033823 1022805 806755 460600 241010 834740 995362 816903 768219 834740 992857 1072800 1149298 487337 728011 650017 520477 585149 708103 834740 1226448 1025743 701424 596474 363388 655201 133940 701424 1226165 655201 526298 1211274 54111 321830 554251 554251 655201 407475 755820 54111 1211274 960230 1033823 39741 1049092 995362 592110 54111 655201 404543 264512 285591 701424 1256802 520477 701424 300241 552368 454003 655201 834740 995362 655201 460600 806785 204485 520477 577406 1208415 834740 655201 995362 990423 816903 266161 432549 190067 58914 520477 608869 1133849 834740 743062 995362 816903 1025743 138140 1097342 520477 31046 655201 204775 1091199 1208415 834740 701424 520477 830830 300241 334417 652252 133940 680433 655201 810733 178725 701424 520477 204775 441513 18911 701424 419842 484936 178772 1000483 1033823 520477 1080587 655201 699607 207414 177456 303535 995362 701424 620853 655201 32538 184574 701424 915090 834740 995362 1190676 827017 655201 300241 223956 596474 18911 655201 1033823 788176 47305 1171995 834740 177456 995362 990423 816903 271975 457828 1115586 816903 796260 585149 992733 520477 124011 674220 129533 471375 995362 487337 3849 757369 854170 834740 995362 706161 264476 1133849 1152192 1033823 257556 520477 703339 858727 1004932 454003 1267446 520477 217414 1069083 995362 816903 1025743 701424 18911 1211274 1080587 701424 1033823 788176 1181092 834740 509379 177456 995362 848000 854891 19054 701424 788176 184574 372872 865012 505551 1033823 995362 99203 701424 1154737 177456 974132 520477 624637 526298 701424 767155 930754 1154737 133940 701424 706675 1037347 655201 995362 701424 880458 459665 655201 1208415 834740 701424 520477 1097342 541144 701424 956848 237210 325497 127068 995362 990423 816903 266161 632584 1210589 948879 290352 520477 285591 39765 723136 1033823 908744 504232 1207796 723823 834740 551275 297388 607119 995362 31046 355504 562647 790488 520477 460864 39765 806755 115679 834740 995362 816903 1025743 655201 346422 229658 250930 1166631 133940 990423 487337 1080587 423871 264476 386932 520477 1025743 680433 655201 806755 18911 834740 1061507 1222137 1033823 833984 520477 701424 441513 355504 490774 422098 1033823 1091199 1183198 655201 834740 995362 701424 138140 1101791 995362 31046 766772 177456 574651 490535 655201 1181092 1033823 520477 655201 1162467 386932 1199906 995362 990423 816903 423871 264476 351127 1180488 834740 1203094 995362 487337 1052956 671119 520477 409801 441513 956848 487337 992812 1033823 998534 1049092 194413 834740 995362 487337 263538 1065975 920327 676277 1033823 520477 1007204 297388 1221867 817257 520477 1279716 197769 520477 271386 1114540 109974 995362 726763 487337 1033823 817257 520477 1100007 280002 193776 1033823 292806 526298 851275 280002 1033823 588997 520477 487337 271386 526298 200832 264476 245480 995362 816903 1025743 300241 701424 303138 272277 966953 766772 527264 1080587 585149 867238 548833 133940 990423 487337 754713 98991 386932 520477 1025743 701424 819591 703473 122061 601211 995362 54111 1061507 1134596 1019141 135326 701424 183909 1033823 477703 806755 577019 834740 995362 701424 208979 950265 477703 732181 995362 262022 585149 460600 531525 54111 1061507 786748 1019141 1033823 431799 989940 995362 54111 398587 1033823 855343 776758 520477 598948 766772 39765 1033823 1152407 1198483 98991 806569 1097857 1033823 178772 995362 1192944 930754 54111 35156 526298 1122542 1019141 526298 1108767 987903 995362 766772 939268 477703 920327 436600 477703 628277 1025059 622871 739365 840522 1054611 1033823 989940 995362 701424 507321 691020 995362 990423 816903 1025743 323033 1033823 460600 520477 527264 323372 930754 596474 676949 598948 520477 1268082 598948 986821 766772 100078 930754 1207796 752134 834740 995362 1211157 520477 201133 701424 788176 701424 323372 59445 102499 1025059 1033823 585149 995362 701424 319071 362387 598948 186268 460600 691020 54111 1173199 1066408 1033823 765514 834740 995362 918835 701424 186268 460600 701424 1061507 729681 980337 1134165 834740 995362 990423 816903 816903 1257015 457828 1115586 816903 303845 703473 122061 755820 54111 855343 1049092 520477 266161 432549 956064 235778 520477 50182 1080587 178772 863657 710059 411358 1033823 730480 1097502 327773 520477 946811 1076422 995362 1051390 110494 487337 232680 18911 460600 1081563 534086 460600 177456 790149 184574 176827 865012 834740 33145 995362 816903 1025743 925757 102499 848000 133940 990423 703473 122061 386932 520477 1025743 167823 520477 701424 3849 403305 791344 403305 1101791 520477 157576 898948 153183 995362 655201 6475 1000483 944337 701424 652252 520477 454003 290352 494878 461372 1257367 989940 1033823 1251396 520477 25430 701424 18911 1033823 930754 1183198 655201 995362 990423 816903 196698 264476 673219 1140094 834740 677919 520477 266161 432549 351200 216515 703339 773476 300241 651513 520477 1051390 1094941 834740 995362 487337 404543 264512 1089809 1140064 520477 300241 285591 1070929 698607 1085362 861607 995362 487337 32538 48990 822676 520477 1048677 285591 841043 273954 1211274 151450 1033823 60020 184574 1134165 228959 703473 122061 521125 869455 844647 995362 174938 585149 403305 1054611 618105 520477 47261 427992 956848 220698 1049092 837188 292687 520477 602278 520477 674220 566670 54111 680217 520477 807887 847972 554821 998103 971961 995362 436553 54111 1211274 1057544 184574 703473 122061 674467 134176 792049 520477 674220 78141 1052956 554821 520477 822953 407290 16008 1033823 471375 844647 995362 628277 649861 1211274 93860 834740 703473 122061 1033823 796260 613494 995362 816903 152938 1112347 520477 1061507 423871 264476 3849 806755 1041558 454003 854170 995362 487337 1033823 359207 930754 679746 98991 520477 695132 54111 947677 1009412 1033823 425654 995362 266161 432549 138140 427992 844647 1000887 487337 1033823 518787 520477 99203 487337 1278146 441513 1130439 250930 138140 520477 39765 355504 1033420 497972 63641 487838 1122314 1107357 1033823 1211274 1057544 995362 487337 1267639 54111 876243 1049092 520477 330164 1278895 273954 1211274 184574 487337 1033823 497735 518787 101502 520477 1264280 216889 956848 613494 1049092 426618 834740 292687 995362 642241 98991 249694 1275770 566611 1022242 520477 266161 432549 24654 487337 482903 541144 585149 182491 54111 962638 1019141 995362 487337 473461 253161 703473 122061 386932 102499',\n",
       " '679740 1226448 1025743 323033 1033823 460600 520477 527264 323372 930754 596474 676949 598948 520477 1268082 598948 986821 766772 100078 930754 1207796 752134 834740 995362 990423 816903 266161 432549 839116 847972 171767 855343 66981 596474 249527 631072 158164 844647 995362 816903 816903 600200 572782 734299 457828 968083 397939 323159 694926 520477 901492 874561 650563 129533 889228 520477 658131 490774 422098 816903 608182 1226448',\n",
       " '816903 1012629 957974 1033823 328210 947200 652252 133940 928251 347900 520477 908963 196494 261940 520477 381891 710270 856385 1033823 560534 460600 1054308 211511 133940 701424 1033823 626786 554251 554251 611071 363704 520477 796858 878073 1033823 181254 862457 460600 1019141 101694 791116 802744 710270 520477 874881 101694 460600 61304 710270 995362 710270 883699 791685 1271195 520477 388322 701424 158677 184574 701424 200861 1033823 212672 1136151 336098 878073 943956 796260 971457 361815 816903 816903 816903 701424 710270 489884 460600 856385 915196 429703 520477 710746 918414 520477 79262 106451 22223 582420 226337 133940 698763 834740 386932 19054 262022 325497 1033823 796260 136414 520477 701424 956848 1019141 108492 1033823 560534 658134 220238 701424 844647 710270 856385 520477 845860 1278895 1133180 675505 1128634 844647 825039 968650 930754 740095 1033823 1126337 992670 419186 441513 768960 701424 300241 236630 834740 961017 520477 1128927 830830 560534 710270 414956 701424 458209 520477 794821 460600 250170 856385 710270 19054 541144 856385 596474 662360 370103 520477 84718 596474 474807 562647 414956 1134165 1009088 1243482 1037994 1033823 486973 460600 177456 816903 995362 816903 816903 701424 1198055 381891 710270 290352 816903 460600 428243 834740 430183 1233323 1033823 620765 1003539 605692 816903 816903 177526 701424 710270 266784 1033823 729976 816903 1140064 54111 1003767 553856 520477 956064 766772 293941 703615 515948 1134165 364245 17238 1171995 834740 548075 520477 791685 337587 520477 441513 1038736 754713 834740 816903 496677 441513 18911 796858 264512 605692 844647 435292 99203 729468 766772 347165 133940 816903 449599 78141 18911 796858 1181092 834740 802744 710270 520477 1191112 806755 810162 422098 834740 520477 388322 208199 1033823 54111 796473 520477 701424 441513 460600 830830 560534 78141 18911 802744 710270 1033823 149201 663669 554251 554251 1145370 444135 520477 99203 701424 110494 834740 1191954 1033823 605692 1081251 526298 1031928 566841 520477 1097161 403305 357402 834740 520477 54111 796858 582520 470829 792049 520477 701424 285591 347165 520477 788244 1091199 710270 1033823 837263 403305 766772 834740 133940 816903 816903 177526 701424 710270 266784 1033823 729976 876555 1128634 773259 299571 1091199 1172854 701424 856385 1071452 816903 845860 495458 1033823 477703 621682 19054 183909 520477 355504 748973 300241 138140 610577 844647 563674 995362 460600 738281 520477 701424 403305 357402 834740 133940 364245 386932 816903 655201 768219 31046 655201 1022460 526298 701424 321830 679740 3849 441513 689292 1013437 834740 520477 254270 520477 710270 1033823 1193939 441513 300241 1134165 1097342 878066 625235 1144961 520477 1122314 481786 655201 441513 19054 26226 605692 520477 845860 710270 792049 520477 679412 526298 119099 460600 481786 366122 1033823 133940 816903 19054 40165 860053 520477 541144 701424 403305 766772 834740 710270 1033823 907516 995362 791685 1080587 520477 1120734 1251396 229783 1033823 192454 879063 766772 196698 816903 1134165 460600 496412 816903 1134165 19054 3849 133940 1171031 1110074 719711 133940 816903 816903 177526 701424 710270 266784 1033823 729976 876555 1128634 773259 930754 464711 398207 1071452 816903 982084 416100 285591 701424 309047 1033823 1238896 54111 209541 441513 54111 882127 710270 322187 520477 701424 791685 1136616 133940 524739 796858 806755 823913 834740 460929 1126401 970106 520477 99203 448837 1154217 1207225 300241 264512 79262 784356 995362 1022460 701424 643062 138140 671335 520477 810733 813061 477703 930754 54111 710270 520477 701424 47305 404543 54111 495458 177456 133940 816903 816903 177526 701424 710270 266784 1033823 729976 816903 701424 1033823 856385 1116679 300241 429703 520477 79262 188650 920111 791685 1038736 139548 790149 520477 752991 939604 747481 920327 383832 920327 778165 2214 1122314 995362 541144 701424 280380 632718 226337 520477 205402 139891 39765 520477 568277 856385 847492 460600 120326 520477 119099 441513 460600 747560 762897 1033823 1260231 133940 701424 939470 706675 584069 856385 300241 524739 113525 596474 141776 918835 961479 34904 520477 1275770 541144 701424 961312 168220 1157823 1169457 447179 1033823 658781 105283 816903 816903 177526 701424 710270 266784 1033823 729976 816903 526298 1107358 386932 1069083 701424 1033823 162254 520477 487337 1012629 703615 264512 129638 794043 186144 35266 520477 99203 31046 577406 475197 520477 487337 482014 122948 975542 868560 133940 816903 816903 177526 701424 710270 266784 1033823 729976 816903 330269 19054 75941 576250 851405 1033823 825039 520477 761712 701424 354668 264512 305209 995362 240644 19081 728407 54111 1248446 324561 541185 834740 1146975 1033823 474610 520477 1275770 441513 460600 810733 6562 792049 701424 54059 49933 940898 324561 133940 816903 1241713 347900 200862 422098 520477 701424 229783 596474 26206 995362 930754 460600 508008 610495 1033823 520477 608869 844647 988775 768219 520477 379223 405723 40563 1097342 816903 1062736 794016 520477 379223 405723 1081251 739365 1130795 99203 40563 701424 157576 596474 764656 520477 1241713 19054 246539 1134165 40563 1097342 520477 626786 69046 1097342 1154737 746878 520477 1198055 54111 701424 1181092 834740 100078 83074 792049 701424 508687 834740 136106 1025277 1274638 520477 701424 441513 550798 460600 848000 133940 816903 796260 971457 944337 1241713 679740 816903 132516 778803 1242010 1167816 816903 1154737 386932 614857 728407 816903 482707 848000 293137 183082 411707 816903 152353 520477 655201 710270 758716 1163183 766772 121732 196698 446961 1033823 626786 1033823 187793 995362 1275770 1080587 520506 41306 1149037 779802 520477 524739 447420 626786 719519 211163 585245 441513 211163 520477 67906 559236 50182 883699 441513 596474 204775 1271195 995362 816903 573761 1006797 1097342 1033823 39765 1181454 1033823 405723 520477 183909 655201 1033823 626786 1145528 261174 1089809 520477 371600 405723 460600 796858 960230 1033823 90061 133940 801289 204775 1091199 178725 655201 1033823 466525 1256802 854888 591366 895011 1033823 632092 520477 1078721 1091199 1019141 796325 962375 632092 520477 710270 563434 520477 598948 473461 1181092 801477 1154737 520477 1271025 19054 422098 175320 223379 947200 329580 520477 371600 1097342 626786 930754 739365 707227 1033823 454003 1033823 995362 816903 701424 158677 710270 792049 19054 1142192 988775 96614 1181092 862457 520477 701424 460600 806785 922318 435479 1033823 1253164 520477 460458 427992 1181092 1174525 933553 520477 99203 701424 1033823 626786 620853 701424 1181092 1165701 995362 19054 54111 606233 739365 974472 454003 1033823 830830 808255 240651 789288 995362 816903 1165701 710270 788244 149201 1033823 360674 460600 520477 605692 1234307 689292 520477 232925 411707 520477 816903 883699 129442 520477 44353 460600 548066 891159 995362 186268 548066 933553 1031928 1019141 348412 137035 520477 511173 652335 626786 396212 520477 935437 739365 1181092 1165701 1033823 876870 626786 596474 422098 995362 1122314 959420 335008 626786 1033823 520477 816903 401201 408021 39765 1016192 96614']"
      ]
     },
     "execution_count": 116,
     "metadata": {},
     "output_type": "execute_result"
    }
   ],
   "source": [
    "back_train = list(back_train.word_seg)\n",
    "back_train[:5]"
   ]
  },
  {
   "cell_type": "code",
   "execution_count": 44,
   "metadata": {},
   "outputs": [
    {
     "data": {
      "text/plain": [
       "[0, 2, 4, 6, 8]"
      ]
     },
     "execution_count": 44,
     "metadata": {},
     "output_type": "execute_result"
    }
   ],
   "source": [
    "list(range(0,10,2))"
   ]
  },
  {
   "cell_type": "code",
   "execution_count": 49,
   "metadata": {},
   "outputs": [
    {
     "data": {
      "image/png": "[encoded data removed]",
      "text/plain": [
       "<Figure size 432x288 with 1 Axes>"
      ]
     },
     "metadata": {},
     "output_type": "display_data"
    }
   ],
   "source": [
    "from matplotlib import pyplot as plt \n",
    "import numpy as np  \n",
    "plt.hist(train_word_length, bins = list(range(0,7000,50)))\n",
    "plt.title(\"train_word_length\") \n",
    "plt.show()"
   ]
  },
  {
   "cell_type": "code",
   "execution_count": 51,
   "metadata": {},
   "outputs": [
    {
     "data": {
      "image/png": "[encoded data removed]",
      "text/plain": [
       "<Figure size 432x288 with 1 Axes>"
      ]
     },
     "metadata": {},
     "output_type": "display_data"
    }
   ],
   "source": [
    "from matplotlib import pyplot as plt \n",
    "import numpy as np  \n",
    "plt.hist(test_word_length, bins = list(range(0,7000,50)))\n",
    "plt.title(\"test_word_length\") \n",
    "plt.show()"
   ]
  },
  {
   "cell_type": "code",
   "execution_count": 32,
   "metadata": {},
   "outputs": [
    {
     "data": {
      "text/plain": [
       "7154"
      ]
     },
     "execution_count": 32,
     "metadata": {},
     "output_type": "execute_result"
    }
   ],
   "source": [
    "len(back[4])"
   ]
  },
  {
   "cell_type": "code",
   "execution_count": 31,
   "metadata": {},
   "outputs": [],
   "source": [
    "back_train = pd.DataFrame(back,columns = ['word_seg'])"
   ]
  },
  {
   "cell_type": "code",
   "execution_count": 57,
   "metadata": {},
   "outputs": [],
   "source": [
    "back_train.to_csv('data/back_train.csv')"
   ]
  },
  {
   "cell_type": "code",
   "execution_count": 34,
   "metadata": {},
   "outputs": [
    {
     "data": {
      "text/plain": [
       "20099"
      ]
     },
     "execution_count": 34,
     "metadata": {},
     "output_type": "execute_result"
    }
   ],
   "source": [
    "len(back_train)"
   ]
  },
  {
   "cell_type": "code",
   "execution_count": 58,
   "metadata": {},
   "outputs": [],
   "source": [
    "back_y = pd.get_dummies(back_train['article_class']).values"
   ]
  },
  {
   "cell_type": "code",
   "execution_count": 66,
   "metadata": {},
   "outputs": [
    {
     "data": {
      "text/plain": [
       "array([[0, 0, 1, 0, 0, 0, 0, 0, 0, 0, 0, 0, 0, 0, 0, 0, 0, 0, 0],\n",
       "       [0, 0, 0, 0, 0, 0, 0, 0, 0, 0, 0, 1, 0, 0, 0, 0, 0, 0, 0],\n",
       "       [0, 0, 0, 0, 0, 0, 0, 0, 0, 0, 0, 1, 0, 0, 0, 0, 0, 0, 0],\n",
       "       [0, 0, 0, 0, 0, 0, 0, 0, 0, 0, 0, 0, 1, 0, 0, 0, 0, 0, 0],\n",
       "       [0, 0, 0, 0, 0, 0, 0, 0, 0, 0, 0, 0, 0, 0, 0, 0, 0, 0, 1]],\n",
       "      dtype=uint8)"
      ]
     },
     "execution_count": 66,
     "metadata": {},
     "output_type": "execute_result"
    }
   ],
   "source": [
    "temp1 = back_y[:5]\n",
    "temp1"
   ]
  },
  {
   "cell_type": "code",
   "execution_count": 62,
   "metadata": {},
   "outputs": [],
   "source": [
    "temp2 = back_y[5:10]"
   ]
  },
  {
   "cell_type": "code",
   "execution_count": 68,
   "metadata": {},
   "outputs": [
    {
     "data": {
      "text/plain": [
       "array([[0, 0, 1, 0, 0, 0, 0, 0, 0, 0, 0, 0, 0, 0, 0, 0, 0, 0, 0],\n",
       "       [0, 0, 0, 0, 0, 0, 0, 0, 0, 0, 0, 1, 0, 0, 0, 0, 0, 0, 0],\n",
       "       [0, 0, 0, 0, 0, 0, 0, 0, 0, 0, 0, 1, 0, 0, 0, 0, 0, 0, 0],\n",
       "       [0, 0, 0, 0, 0, 0, 0, 0, 0, 0, 0, 0, 1, 0, 0, 0, 0, 0, 0],\n",
       "       [0, 0, 0, 0, 0, 0, 0, 0, 0, 0, 0, 0, 0, 0, 0, 0, 0, 0, 1],\n",
       "       [0, 0, 0, 1, 0, 0, 0, 0, 0, 0, 0, 0, 0, 0, 0, 0, 0, 0, 0],\n",
       "       [0, 0, 0, 0, 0, 0, 0, 0, 0, 1, 0, 0, 0, 0, 0, 0, 0, 0, 0],\n",
       "       [0, 0, 0, 0, 0, 0, 0, 0, 1, 0, 0, 0, 0, 0, 0, 0, 0, 0, 0],\n",
       "       [0, 0, 0, 0, 0, 1, 0, 0, 0, 0, 0, 0, 0, 0, 0, 0, 0, 0, 0],\n",
       "       [0, 0, 0, 1, 0, 0, 0, 0, 0, 0, 0, 0, 0, 0, 0, 0, 0, 0, 0]],\n",
       "      dtype=uint8)"
      ]
     },
     "execution_count": 68,
     "metadata": {},
     "output_type": "execute_result"
    }
   ],
   "source": [
    "temp3 = np.concatenate((temp1,temp2),axis = 0)\n",
    "temp3"
   ]
  },
  {
   "cell_type": "code",
   "execution_count": 65,
   "metadata": {},
   "outputs": [
    {
     "data": {
      "text/plain": [
       "array([[0, 0, 1, 0, 0, 0, 0, 0, 0, 0, 0, 0, 0, 0, 0, 0, 0, 0, 0, 0, 0, 0,\n",
       "        1, 0, 0, 0, 0, 0, 0, 0, 0, 0, 0, 0, 0, 0, 0, 0],\n",
       "       [0, 0, 0, 0, 0, 0, 0, 0, 0, 0, 0, 1, 0, 0, 0, 0, 0, 0, 0, 0, 0, 0,\n",
       "        0, 0, 0, 0, 0, 0, 1, 0, 0, 0, 0, 0, 0, 0, 0, 0],\n",
       "       [0, 0, 0, 0, 0, 0, 0, 0, 0, 0, 0, 1, 0, 0, 0, 0, 0, 0, 0, 0, 0, 0,\n",
       "        0, 0, 0, 0, 0, 1, 0, 0, 0, 0, 0, 0, 0, 0, 0, 0],\n",
       "       [0, 0, 0, 0, 0, 0, 0, 0, 0, 0, 0, 0, 1, 0, 0, 0, 0, 0, 0, 0, 0, 0,\n",
       "        0, 0, 1, 0, 0, 0, 0, 0, 0, 0, 0, 0, 0, 0, 0, 0],\n",
       "       [0, 0, 0, 0, 0, 0, 0, 0, 0, 0, 0, 0, 0, 0, 0, 0, 0, 0, 1, 0, 0, 0,\n",
       "        1, 0, 0, 0, 0, 0, 0, 0, 0, 0, 0, 0, 0, 0, 0, 0]], dtype=uint8)"
      ]
     },
     "execution_count": 65,
     "metadata": {},
     "output_type": "execute_result"
    }
   ],
   "source": [
    "temp3"
   ]
  },
  {
   "cell_type": "code",
   "execution_count": 8,
   "metadata": {
    "scrolled": true
   },
   "outputs": [
    {
     "data": {
      "text/html": [
       "<div>\n",
       "<style scoped>\n",
       "    .dataframe tbody tr th:only-of-type {\n",
       "        vertical-align: middle;\n",
       "    }\n",
       "\n",
       "    .dataframe tbody tr th {\n",
       "        vertical-align: top;\n",
       "    }\n",
       "\n",
       "    .dataframe thead th {\n",
       "        text-align: right;\n",
       "    }\n",
       "</style>\n",
       "<table border=\"1\" class=\"dataframe\">\n",
       "  <thead>\n",
       "    <tr style=\"text-align: right;\">\n",
       "      <th></th>\n",
       "      <th>Unnamed: 0</th>\n",
       "      <th>id</th>\n",
       "      <th>article</th>\n",
       "      <th>word_seg</th>\n",
       "      <th>article_class</th>\n",
       "      <th>article_len</th>\n",
       "      <th>word_len</th>\n",
       "    </tr>\n",
       "  </thead>\n",
       "  <tbody>\n",
       "    <tr>\n",
       "      <th>61069</th>\n",
       "      <td>61069</td>\n",
       "      <td>61069</td>\n",
       "      <td>699820 699820 699820 699820 699820 699820 6998...</td>\n",
       "      <td>409779 816903 409779 816903 608182 1226448</td>\n",
       "      <td>12</td>\n",
       "      <td>123</td>\n",
       "      <td>6</td>\n",
       "    </tr>\n",
       "    <tr>\n",
       "      <th>59251</th>\n",
       "      <td>59251</td>\n",
       "      <td>59251</td>\n",
       "      <td>699820 699820 699820 699820 699820 699820 6998...</td>\n",
       "      <td>409779 816903 409779 816903 608182 1226448</td>\n",
       "      <td>12</td>\n",
       "      <td>123</td>\n",
       "      <td>6</td>\n",
       "    </tr>\n",
       "    <tr>\n",
       "      <th>60076</th>\n",
       "      <td>60076</td>\n",
       "      <td>60076</td>\n",
       "      <td>1120647 360394 40494 1080029 7368 1197553 2305...</td>\n",
       "      <td>235466 816903 467613 816903 684941 816903 2940...</td>\n",
       "      <td>19</td>\n",
       "      <td>71</td>\n",
       "      <td>17</td>\n",
       "    </tr>\n",
       "    <tr>\n",
       "      <th>69340</th>\n",
       "      <td>69340</td>\n",
       "      <td>69340</td>\n",
       "      <td>7368 828585 658597 79747 103648 112530 1038275...</td>\n",
       "      <td>816903 128289 1226448 874627 33633 1233653 816...</td>\n",
       "      <td>12</td>\n",
       "      <td>115</td>\n",
       "      <td>17</td>\n",
       "    </tr>\n",
       "    <tr>\n",
       "      <th>1915</th>\n",
       "      <td>1915</td>\n",
       "      <td>1915</td>\n",
       "      <td>881890 581131 1030656 626254 961786 581131 611...</td>\n",
       "      <td>386754 1224594 1234861 1224594 85838 816903 83...</td>\n",
       "      <td>19</td>\n",
       "      <td>75</td>\n",
       "      <td>22</td>\n",
       "    </tr>\n",
       "  </tbody>\n",
       "</table>\n",
       "</div>"
      ],
      "text/plain": [
       "       Unnamed: 0     id                                            article  \\\n",
       "61069       61069  61069  699820 699820 699820 699820 699820 699820 6998...   \n",
       "59251       59251  59251  699820 699820 699820 699820 699820 699820 6998...   \n",
       "60076       60076  60076  1120647 360394 40494 1080029 7368 1197553 2305...   \n",
       "69340       69340  69340  7368 828585 658597 79747 103648 112530 1038275...   \n",
       "1915         1915   1915  881890 581131 1030656 626254 961786 581131 611...   \n",
       "\n",
       "                                                word_seg  article_class  \\\n",
       "61069         409779 816903 409779 816903 608182 1226448             12   \n",
       "59251         409779 816903 409779 816903 608182 1226448             12   \n",
       "60076  235466 816903 467613 816903 684941 816903 2940...             19   \n",
       "69340  816903 128289 1226448 874627 33633 1233653 816...             12   \n",
       "1915   386754 1224594 1234861 1224594 85838 816903 83...             19   \n",
       "\n",
       "       article_len  word_len  \n",
       "61069          123         6  \n",
       "59251          123         6  \n",
       "60076           71        17  \n",
       "69340          115        17  \n",
       "1915            75        22  "
      ]
     },
     "execution_count": 8,
     "metadata": {},
     "output_type": "execute_result"
    }
   ],
   "source": [
    "# data_length = pd.DataFrame({'article_len':[0]})\n",
    "\n",
    "# x_article = list(new_train.article)\n",
    "\n",
    "# x_word = list(new_train.word_seg)\n",
    "\n",
    "# i = 0\n",
    "# for x in x_article:\n",
    "#     data_length.loc[i] = len(x.split(\" \"))\n",
    "#     i += 1\n",
    "\n",
    "# data_length['word_len']=0\n",
    "\n",
    "# i = 0\n",
    "# for x in x_word:\n",
    "#     data_length['word_len'][i] = len(x.split(\" \"))\n",
    "#     i += 1\n",
    "\n",
    "# data_length.describe()\n",
    "\n",
    "# data_length[(data_length['word_len']<7) | (data_length['article_len']<51) ]\n",
    "\n",
    "# new_train.iloc[59251]\n",
    "\n",
    "# all_train = pd.concat([new_train,data_length],axis=1)\n",
    "\n",
    "# all_train.head()\n",
    "# all_train.to_csv('all_train.csv')\n",
    "\n",
    "sort_all = all_train.sort_values([\"word_len\"])\n",
    "sort_all.head()"
   ]
  },
  {
   "cell_type": "code",
   "execution_count": 11,
   "metadata": {},
   "outputs": [
    {
     "data": {
      "text/html": [
       "<div>\n",
       "<style scoped>\n",
       "    .dataframe tbody tr th:only-of-type {\n",
       "        vertical-align: middle;\n",
       "    }\n",
       "\n",
       "    .dataframe tbody tr th {\n",
       "        vertical-align: top;\n",
       "    }\n",
       "\n",
       "    .dataframe thead th {\n",
       "        text-align: right;\n",
       "    }\n",
       "</style>\n",
       "<table border=\"1\" class=\"dataframe\">\n",
       "  <thead>\n",
       "    <tr style=\"text-align: right;\">\n",
       "      <th></th>\n",
       "      <th>Unnamed: 0</th>\n",
       "      <th>id</th>\n",
       "      <th>article_class</th>\n",
       "      <th>article_len</th>\n",
       "      <th>word_len</th>\n",
       "    </tr>\n",
       "  </thead>\n",
       "  <tbody>\n",
       "    <tr>\n",
       "      <th>count</th>\n",
       "      <td>102277.000000</td>\n",
       "      <td>102277.000000</td>\n",
       "      <td>102277.000000</td>\n",
       "      <td>102277.000000</td>\n",
       "      <td>102277.000000</td>\n",
       "    </tr>\n",
       "    <tr>\n",
       "      <th>mean</th>\n",
       "      <td>51138.000000</td>\n",
       "      <td>51138.000000</td>\n",
       "      <td>10.262356</td>\n",
       "      <td>1177.100159</td>\n",
       "      <td>716.954604</td>\n",
       "    </tr>\n",
       "    <tr>\n",
       "      <th>std</th>\n",
       "      <td>29524.971078</td>\n",
       "      <td>29524.971078</td>\n",
       "      <td>5.370785</td>\n",
       "      <td>1348.431565</td>\n",
       "      <td>801.804540</td>\n",
       "    </tr>\n",
       "    <tr>\n",
       "      <th>min</th>\n",
       "      <td>0.000000</td>\n",
       "      <td>0.000000</td>\n",
       "      <td>1.000000</td>\n",
       "      <td>50.000000</td>\n",
       "      <td>6.000000</td>\n",
       "    </tr>\n",
       "    <tr>\n",
       "      <th>25%</th>\n",
       "      <td>25569.000000</td>\n",
       "      <td>25569.000000</td>\n",
       "      <td>6.000000</td>\n",
       "      <td>497.000000</td>\n",
       "      <td>305.000000</td>\n",
       "    </tr>\n",
       "    <tr>\n",
       "      <th>50%</th>\n",
       "      <td>51138.000000</td>\n",
       "      <td>51138.000000</td>\n",
       "      <td>10.000000</td>\n",
       "      <td>842.000000</td>\n",
       "      <td>514.000000</td>\n",
       "    </tr>\n",
       "    <tr>\n",
       "      <th>75%</th>\n",
       "      <td>76707.000000</td>\n",
       "      <td>76707.000000</td>\n",
       "      <td>15.000000</td>\n",
       "      <td>1408.000000</td>\n",
       "      <td>862.000000</td>\n",
       "    </tr>\n",
       "    <tr>\n",
       "      <th>max</th>\n",
       "      <td>102276.000000</td>\n",
       "      <td>102276.000000</td>\n",
       "      <td>19.000000</td>\n",
       "      <td>55804.000000</td>\n",
       "      <td>39759.000000</td>\n",
       "    </tr>\n",
       "  </tbody>\n",
       "</table>\n",
       "</div>"
      ],
      "text/plain": [
       "          Unnamed: 0             id  article_class    article_len  \\\n",
       "count  102277.000000  102277.000000  102277.000000  102277.000000   \n",
       "mean    51138.000000   51138.000000      10.262356    1177.100159   \n",
       "std     29524.971078   29524.971078       5.370785    1348.431565   \n",
       "min         0.000000       0.000000       1.000000      50.000000   \n",
       "25%     25569.000000   25569.000000       6.000000     497.000000   \n",
       "50%     51138.000000   51138.000000      10.000000     842.000000   \n",
       "75%     76707.000000   76707.000000      15.000000    1408.000000   \n",
       "max    102276.000000  102276.000000      19.000000   55804.000000   \n",
       "\n",
       "            word_len  \n",
       "count  102277.000000  \n",
       "mean      716.954604  \n",
       "std       801.804540  \n",
       "min         6.000000  \n",
       "25%       305.000000  \n",
       "50%       514.000000  \n",
       "75%       862.000000  \n",
       "max     39759.000000  "
      ]
     },
     "execution_count": 11,
     "metadata": {},
     "output_type": "execute_result"
    }
   ],
   "source": [
    "all_train.describe()"
   ]
  },
  {
   "cell_type": "code",
   "execution_count": 9,
   "metadata": {},
   "outputs": [],
   "source": [
    "#long_train = all_train.loc[all_train.article_len>1000]\n",
    "#short_train = all_train.loc[all_train.article_len<1001]"
   ]
  },
  {
   "cell_type": "code",
   "execution_count": 10,
   "metadata": {},
   "outputs": [
    {
     "data": {
      "text/plain": [
       "41511"
      ]
     },
     "execution_count": 10,
     "metadata": {},
     "output_type": "execute_result"
    }
   ],
   "source": [
    "len(long_train)"
   ]
  },
  {
   "cell_type": "code",
   "execution_count": 11,
   "metadata": {},
   "outputs": [
    {
     "data": {
      "text/html": [
       "<div>\n",
       "<style scoped>\n",
       "    .dataframe tbody tr th:only-of-type {\n",
       "        vertical-align: middle;\n",
       "    }\n",
       "\n",
       "    .dataframe tbody tr th {\n",
       "        vertical-align: top;\n",
       "    }\n",
       "\n",
       "    .dataframe thead th {\n",
       "        text-align: right;\n",
       "    }\n",
       "</style>\n",
       "<table border=\"1\" class=\"dataframe\">\n",
       "  <thead>\n",
       "    <tr style=\"text-align: right;\">\n",
       "      <th></th>\n",
       "      <th>Unnamed: 0</th>\n",
       "      <th>id</th>\n",
       "      <th>article</th>\n",
       "      <th>word_seg</th>\n",
       "      <th>article_class</th>\n",
       "      <th>article_len</th>\n",
       "      <th>word_len</th>\n",
       "    </tr>\n",
       "  </thead>\n",
       "  <tbody>\n",
       "    <tr>\n",
       "      <th>0</th>\n",
       "      <td>0</td>\n",
       "      <td>0</td>\n",
       "      <td>7368 1252069 365865 755561 1044285 129532 1053...</td>\n",
       "      <td>816903 597526 520477 1179558 1033823 758724 63...</td>\n",
       "      <td>14</td>\n",
       "      <td>1047</td>\n",
       "      <td>627</td>\n",
       "    </tr>\n",
       "    <tr>\n",
       "      <th>1</th>\n",
       "      <td>1</td>\n",
       "      <td>1</td>\n",
       "      <td>581131 165432 7368 957317 1197553 570900 33659...</td>\n",
       "      <td>90540 816903 441039 816903 569138 816903 10343...</td>\n",
       "      <td>3</td>\n",
       "      <td>4785</td>\n",
       "      <td>3062</td>\n",
       "    </tr>\n",
       "    <tr>\n",
       "      <th>2</th>\n",
       "      <td>2</td>\n",
       "      <td>2</td>\n",
       "      <td>7368 87936 40494 490286 856005 641588 145611 1...</td>\n",
       "      <td>816903 1012629 957974 1033823 328210 947200 65...</td>\n",
       "      <td>12</td>\n",
       "      <td>2407</td>\n",
       "      <td>1588</td>\n",
       "    </tr>\n",
       "    <tr>\n",
       "      <th>3</th>\n",
       "      <td>4</td>\n",
       "      <td>4</td>\n",
       "      <td>7368 7368 7368 865510 7368 396966 995243 37685...</td>\n",
       "      <td>816903 816903 816903 139132 816903 312320 1103...</td>\n",
       "      <td>12</td>\n",
       "      <td>1974</td>\n",
       "      <td>1297</td>\n",
       "    </tr>\n",
       "    <tr>\n",
       "      <th>4</th>\n",
       "      <td>5</td>\n",
       "      <td>5</td>\n",
       "      <td>7368 1160791 299237 1238054 569999 1044285 117...</td>\n",
       "      <td>816903 669476 21577 520477 1004165 4184 616471...</td>\n",
       "      <td>13</td>\n",
       "      <td>3947</td>\n",
       "      <td>2548</td>\n",
       "    </tr>\n",
       "  </tbody>\n",
       "</table>\n",
       "</div>"
      ],
      "text/plain": [
       "   Unnamed: 0  id                                            article  \\\n",
       "0           0   0  7368 1252069 365865 755561 1044285 129532 1053...   \n",
       "1           1   1  581131 165432 7368 957317 1197553 570900 33659...   \n",
       "2           2   2  7368 87936 40494 490286 856005 641588 145611 1...   \n",
       "3           4   4  7368 7368 7368 865510 7368 396966 995243 37685...   \n",
       "4           5   5  7368 1160791 299237 1238054 569999 1044285 117...   \n",
       "\n",
       "                                            word_seg  article_class  \\\n",
       "0  816903 597526 520477 1179558 1033823 758724 63...             14   \n",
       "1  90540 816903 441039 816903 569138 816903 10343...              3   \n",
       "2  816903 1012629 957974 1033823 328210 947200 65...             12   \n",
       "3  816903 816903 816903 139132 816903 312320 1103...             12   \n",
       "4  816903 669476 21577 520477 1004165 4184 616471...             13   \n",
       "\n",
       "   article_len  word_len  \n",
       "0         1047       627  \n",
       "1         4785      3062  \n",
       "2         2407      1588  \n",
       "3         1974      1297  \n",
       "4         3947      2548  "
      ]
     },
     "execution_count": 11,
     "metadata": {},
     "output_type": "execute_result"
    }
   ],
   "source": [
    "long_train.head()"
   ]
  },
  {
   "cell_type": "code",
   "execution_count": 12,
   "metadata": {},
   "outputs": [
    {
     "data": {
      "image/png": "[encoded data removed]",
      "text/plain": [
       "<Figure size 432x288 with 1 Axes>"
      ]
     },
     "metadata": {},
     "output_type": "display_data"
    }
   ],
   "source": [
    "\n",
    "len_table = new_train['article_class'].value_counts()\n",
    "\n",
    "len_table\n",
    "\n",
    "len_table = len_table.sort_index()\n",
    "\n",
    "y = len_table.values\n",
    "\n",
    "type(y)\n",
    "\n",
    "x = list(range(1,20))\n",
    "\n",
    "plt.bar(range(1,20,1),y)\n",
    "plt.show()"
   ]
  },
  {
   "cell_type": "code",
   "execution_count": 13,
   "metadata": {},
   "outputs": [],
   "source": [
    "long_table = long_train['article_class'].value_counts()"
   ]
  },
  {
   "cell_type": "code",
   "execution_count": 14,
   "metadata": {},
   "outputs": [
    {
     "data": {
      "text/plain": [
       "<BarContainer object of 19 artists>"
      ]
     },
     "execution_count": 14,
     "metadata": {},
     "output_type": "execute_result"
    },
    {
     "data": {
      "image/png": "[encoded data removed]",
      "text/plain": [
       "<Figure size 432x288 with 1 Axes>"
      ]
     },
     "metadata": {},
     "output_type": "display_data"
    }
   ],
   "source": [
    "long_table = long_table.sort_index()\n",
    "ly = long_table.values\n",
    "plt.bar(range(1,20,1),ly)"
   ]
  },
  {
   "cell_type": "code",
   "execution_count": 15,
   "metadata": {},
   "outputs": [
    {
     "ename": "NameError",
     "evalue": "name 'short_table' is not defined",
     "output_type": "error",
     "traceback": [
      "\u001b[0;31m---------------------------------------------------------------------------\u001b[0m",
      "\u001b[0;31mNameError\u001b[0m                                 Traceback (most recent call last)",
      "\u001b[0;32m<ipython-input-15-818118322090>\u001b[0m in \u001b[0;36m<module>\u001b[0;34m()\u001b[0m\n\u001b[0;32m----> 1\u001b[0;31m \u001b[0mshort_table\u001b[0m\u001b[0;34m\u001b[0m\u001b[0m\n\u001b[0m",
      "\u001b[0;31mNameError\u001b[0m: name 'short_table' is not defined"
     ]
    }
   ],
   "source": [
    "short_table"
   ]
  },
  {
   "cell_type": "code",
   "execution_count": 16,
   "metadata": {},
   "outputs": [
    {
     "data": {
      "text/plain": [
       "1     5375\n",
       "2     2901\n",
       "3     8313\n",
       "4     3824\n",
       "5     2369\n",
       "6     6888\n",
       "7     3038\n",
       "8     6972\n",
       "9     7675\n",
       "10    4963\n",
       "11    3571\n",
       "12    5326\n",
       "13    7907\n",
       "14    6740\n",
       "15    7511\n",
       "16    3220\n",
       "17    3094\n",
       "18    7066\n",
       "19    5524\n",
       "Name: article_class, dtype: int64"
      ]
     },
     "execution_count": 16,
     "metadata": {},
     "output_type": "execute_result"
    }
   ],
   "source": [
    "len_table"
   ]
  },
  {
   "cell_type": "code",
   "execution_count": 17,
   "metadata": {},
   "outputs": [
    {
     "data": {
      "text/plain": [
       "<BarContainer object of 19 artists>"
      ]
     },
     "execution_count": 17,
     "metadata": {},
     "output_type": "execute_result"
    },
    {
     "data": {
      "image/png": "[encoded data removed]",
      "text/plain": [
       "<Figure size 432x288 with 1 Axes>"
      ]
     },
     "metadata": {},
     "output_type": "display_data"
    }
   ],
   "source": [
    "short_table = short_train['article_class'].value_counts()\n",
    "short_table = short_table.sort_index()\n",
    "ly = short_table.values\n",
    "plt.bar(range(1,20,1),ly)"
   ]
  },
  {
   "cell_type": "code",
   "execution_count": 18,
   "metadata": {},
   "outputs": [
    {
     "data": {
      "text/plain": [
       "60766"
      ]
     },
     "execution_count": 18,
     "metadata": {},
     "output_type": "execute_result"
    }
   ],
   "source": [
    "len(long_train)\n",
    "len(short_train)"
   ]
  },
  {
   "cell_type": "code",
   "execution_count": 19,
   "metadata": {},
   "outputs": [
    {
     "data": {
      "image/png": "[encoded data removed]",
      "text/plain": [
       "<Figure size 432x288 with 1 Axes>"
      ]
     },
     "metadata": {},
     "output_type": "display_data"
    }
   ],
   "source": [
    "df = pd.DataFrame(np.array([y,ly]).T,columns=['short','long']).plot.bar()"
   ]
  },
  {
   "cell_type": "code",
   "execution_count": 20,
   "metadata": {},
   "outputs": [
    {
     "data": {
      "image/png": "[encoded data removed]",
      "text/plain": [
       "<Figure size 432x288 with 1 Axes>"
      ]
     },
     "metadata": {},
     "output_type": "display_data"
    }
   ],
   "source": [
    "df = pd.DataFrame(np.array([y,ly]).T,columns=['short','long']).plot.bar(stacked=True)"
   ]
  },
  {
   "cell_type": "code",
   "execution_count": 21,
   "metadata": {},
   "outputs": [],
   "source": [
    "def length_table(table):\n",
    "\n",
    "    len_table = table['article_class'].value_counts()\n",
    "\n",
    "    len_table = len_table.sort_index()\n",
    "    y = len_table.values\n",
    "\n",
    "    plt.bar(range(1,20,1),y)\n",
    "    plt.show()"
   ]
  },
  {
   "cell_type": "code",
   "execution_count": null,
   "metadata": {},
   "outputs": [],
   "source": [
    "pd.read_csv('enhance_data.csv')"
   ]
  },
  {
   "cell_type": "code",
   "execution_count": 46,
   "metadata": {},
   "outputs": [
    {
     "ename": "ValueError",
     "evalue": "cannot reindex from a duplicate axis",
     "output_type": "error",
     "traceback": [
      "\u001b[0;31m---------------------------------------------------------------------------\u001b[0m",
      "\u001b[0;31mValueError\u001b[0m                                Traceback (most recent call last)",
      "\u001b[0;32m<ipython-input-46-cda6ccd843ee>\u001b[0m in \u001b[0;36m<module>\u001b[0;34m()\u001b[0m\n\u001b[1;32m      3\u001b[0m \u001b[0;34m\u001b[0m\u001b[0m\n\u001b[1;32m      4\u001b[0m \u001b[0;32mfor\u001b[0m \u001b[0mi\u001b[0m \u001b[0;32min\u001b[0m \u001b[0mrange\u001b[0m\u001b[0;34m(\u001b[0m\u001b[0;36m20\u001b[0m\u001b[0;34m)\u001b[0m\u001b[0;34m:\u001b[0m\u001b[0;34m\u001b[0m\u001b[0m\n\u001b[0;32m----> 5\u001b[0;31m     \u001b[0mclassi\u001b[0m \u001b[0;34m=\u001b[0m \u001b[0mall_enhance\u001b[0m\u001b[0;34m.\u001b[0m\u001b[0mloc\u001b[0m\u001b[0;34m[\u001b[0m\u001b[0mall_enhance2\u001b[0m\u001b[0;34m.\u001b[0m\u001b[0marticle_class\u001b[0m\u001b[0;34m==\u001b[0m\u001b[0mi\u001b[0m\u001b[0;34m]\u001b[0m\u001b[0;34m\u001b[0m\u001b[0m\n\u001b[0m\u001b[1;32m      6\u001b[0m     \u001b[0mclassi_d\u001b[0m \u001b[0;34m=\u001b[0m \u001b[0mclassi\u001b[0m\u001b[0;34m.\u001b[0m\u001b[0mcopy\u001b[0m\u001b[0;34m(\u001b[0m\u001b[0;34m)\u001b[0m\u001b[0;34m\u001b[0m\u001b[0m\n\u001b[1;32m      7\u001b[0m     \u001b[0mclassi_d\u001b[0m\u001b[0;34m.\u001b[0m\u001b[0mword_seg\u001b[0m \u001b[0;34m=\u001b[0m \u001b[0mnp\u001b[0m\u001b[0;34m.\u001b[0m\u001b[0mrandom\u001b[0m\u001b[0;34m.\u001b[0m\u001b[0mpermutation\u001b[0m\u001b[0;34m(\u001b[0m\u001b[0mclassi\u001b[0m\u001b[0;34m.\u001b[0m\u001b[0mword_seg\u001b[0m\u001b[0;34m.\u001b[0m\u001b[0mvalues\u001b[0m\u001b[0;34m)\u001b[0m\u001b[0;34m\u001b[0m\u001b[0m\n",
      "\u001b[0;32m~/.local/lib/python3.5/site-packages/pandas/core/indexing.py\u001b[0m in \u001b[0;36m__getitem__\u001b[0;34m(self, key)\u001b[0m\n\u001b[1;32m   1476\u001b[0m \u001b[0;34m\u001b[0m\u001b[0m\n\u001b[1;32m   1477\u001b[0m             \u001b[0mmaybe_callable\u001b[0m \u001b[0;34m=\u001b[0m \u001b[0mcom\u001b[0m\u001b[0;34m.\u001b[0m\u001b[0m_apply_if_callable\u001b[0m\u001b[0;34m(\u001b[0m\u001b[0mkey\u001b[0m\u001b[0;34m,\u001b[0m \u001b[0mself\u001b[0m\u001b[0;34m.\u001b[0m\u001b[0mobj\u001b[0m\u001b[0;34m)\u001b[0m\u001b[0;34m\u001b[0m\u001b[0m\n\u001b[0;32m-> 1478\u001b[0;31m             \u001b[0;32mreturn\u001b[0m \u001b[0mself\u001b[0m\u001b[0;34m.\u001b[0m\u001b[0m_getitem_axis\u001b[0m\u001b[0;34m(\u001b[0m\u001b[0mmaybe_callable\u001b[0m\u001b[0;34m,\u001b[0m \u001b[0maxis\u001b[0m\u001b[0;34m=\u001b[0m\u001b[0maxis\u001b[0m\u001b[0;34m)\u001b[0m\u001b[0;34m\u001b[0m\u001b[0m\n\u001b[0m\u001b[1;32m   1479\u001b[0m \u001b[0;34m\u001b[0m\u001b[0m\n\u001b[1;32m   1480\u001b[0m     \u001b[0;32mdef\u001b[0m \u001b[0m_is_scalar_access\u001b[0m\u001b[0;34m(\u001b[0m\u001b[0mself\u001b[0m\u001b[0;34m,\u001b[0m \u001b[0mkey\u001b[0m\u001b[0;34m)\u001b[0m\u001b[0;34m:\u001b[0m\u001b[0;34m\u001b[0m\u001b[0m\n",
      "\u001b[0;32m~/.local/lib/python3.5/site-packages/pandas/core/indexing.py\u001b[0m in \u001b[0;36m_getitem_axis\u001b[0;34m(self, key, axis)\u001b[0m\n\u001b[1;32m   1866\u001b[0m             \u001b[0;32mreturn\u001b[0m \u001b[0mself\u001b[0m\u001b[0;34m.\u001b[0m\u001b[0m_get_slice_axis\u001b[0m\u001b[0;34m(\u001b[0m\u001b[0mkey\u001b[0m\u001b[0;34m,\u001b[0m \u001b[0maxis\u001b[0m\u001b[0;34m=\u001b[0m\u001b[0maxis\u001b[0m\u001b[0;34m)\u001b[0m\u001b[0;34m\u001b[0m\u001b[0m\n\u001b[1;32m   1867\u001b[0m         \u001b[0;32melif\u001b[0m \u001b[0mcom\u001b[0m\u001b[0;34m.\u001b[0m\u001b[0mis_bool_indexer\u001b[0m\u001b[0;34m(\u001b[0m\u001b[0mkey\u001b[0m\u001b[0;34m)\u001b[0m\u001b[0;34m:\u001b[0m\u001b[0;34m\u001b[0m\u001b[0m\n\u001b[0;32m-> 1868\u001b[0;31m             \u001b[0;32mreturn\u001b[0m \u001b[0mself\u001b[0m\u001b[0;34m.\u001b[0m\u001b[0m_getbool_axis\u001b[0m\u001b[0;34m(\u001b[0m\u001b[0mkey\u001b[0m\u001b[0;34m,\u001b[0m \u001b[0maxis\u001b[0m\u001b[0;34m=\u001b[0m\u001b[0maxis\u001b[0m\u001b[0;34m)\u001b[0m\u001b[0;34m\u001b[0m\u001b[0m\n\u001b[0m\u001b[1;32m   1869\u001b[0m         \u001b[0;32melif\u001b[0m \u001b[0mis_list_like_indexer\u001b[0m\u001b[0;34m(\u001b[0m\u001b[0mkey\u001b[0m\u001b[0;34m)\u001b[0m\u001b[0;34m:\u001b[0m\u001b[0;34m\u001b[0m\u001b[0m\n\u001b[1;32m   1870\u001b[0m \u001b[0;34m\u001b[0m\u001b[0m\n",
      "\u001b[0;32m~/.local/lib/python3.5/site-packages/pandas/core/indexing.py\u001b[0m in \u001b[0;36m_getbool_axis\u001b[0;34m(self, key, axis)\u001b[0m\n\u001b[1;32m   1491\u001b[0m             \u001b[0maxis\u001b[0m \u001b[0;34m=\u001b[0m \u001b[0mself\u001b[0m\u001b[0;34m.\u001b[0m\u001b[0maxis\u001b[0m \u001b[0;32mor\u001b[0m \u001b[0;36m0\u001b[0m\u001b[0;34m\u001b[0m\u001b[0m\n\u001b[1;32m   1492\u001b[0m         \u001b[0mlabels\u001b[0m \u001b[0;34m=\u001b[0m \u001b[0mself\u001b[0m\u001b[0;34m.\u001b[0m\u001b[0mobj\u001b[0m\u001b[0;34m.\u001b[0m\u001b[0m_get_axis\u001b[0m\u001b[0;34m(\u001b[0m\u001b[0maxis\u001b[0m\u001b[0;34m)\u001b[0m\u001b[0;34m\u001b[0m\u001b[0m\n\u001b[0;32m-> 1493\u001b[0;31m         \u001b[0mkey\u001b[0m \u001b[0;34m=\u001b[0m \u001b[0mcheck_bool_indexer\u001b[0m\u001b[0;34m(\u001b[0m\u001b[0mlabels\u001b[0m\u001b[0;34m,\u001b[0m \u001b[0mkey\u001b[0m\u001b[0;34m)\u001b[0m\u001b[0;34m\u001b[0m\u001b[0m\n\u001b[0m\u001b[1;32m   1494\u001b[0m         \u001b[0minds\u001b[0m\u001b[0;34m,\u001b[0m \u001b[0;34m=\u001b[0m \u001b[0mkey\u001b[0m\u001b[0;34m.\u001b[0m\u001b[0mnonzero\u001b[0m\u001b[0;34m(\u001b[0m\u001b[0;34m)\u001b[0m\u001b[0;34m\u001b[0m\u001b[0m\n\u001b[1;32m   1495\u001b[0m         \u001b[0;32mtry\u001b[0m\u001b[0;34m:\u001b[0m\u001b[0;34m\u001b[0m\u001b[0m\n",
      "\u001b[0;32m~/.local/lib/python3.5/site-packages/pandas/core/indexing.py\u001b[0m in \u001b[0;36mcheck_bool_indexer\u001b[0;34m(ax, key)\u001b[0m\n\u001b[1;32m   2351\u001b[0m     \u001b[0mresult\u001b[0m \u001b[0;34m=\u001b[0m \u001b[0mkey\u001b[0m\u001b[0;34m\u001b[0m\u001b[0m\n\u001b[1;32m   2352\u001b[0m     \u001b[0;32mif\u001b[0m \u001b[0misinstance\u001b[0m\u001b[0;34m(\u001b[0m\u001b[0mkey\u001b[0m\u001b[0;34m,\u001b[0m \u001b[0mABCSeries\u001b[0m\u001b[0;34m)\u001b[0m \u001b[0;32mand\u001b[0m \u001b[0;32mnot\u001b[0m \u001b[0mkey\u001b[0m\u001b[0;34m.\u001b[0m\u001b[0mindex\u001b[0m\u001b[0;34m.\u001b[0m\u001b[0mequals\u001b[0m\u001b[0;34m(\u001b[0m\u001b[0max\u001b[0m\u001b[0;34m)\u001b[0m\u001b[0;34m:\u001b[0m\u001b[0;34m\u001b[0m\u001b[0m\n\u001b[0;32m-> 2353\u001b[0;31m         \u001b[0mresult\u001b[0m \u001b[0;34m=\u001b[0m \u001b[0mresult\u001b[0m\u001b[0;34m.\u001b[0m\u001b[0mreindex\u001b[0m\u001b[0;34m(\u001b[0m\u001b[0max\u001b[0m\u001b[0;34m)\u001b[0m\u001b[0;34m\u001b[0m\u001b[0m\n\u001b[0m\u001b[1;32m   2354\u001b[0m         \u001b[0mmask\u001b[0m \u001b[0;34m=\u001b[0m \u001b[0misna\u001b[0m\u001b[0;34m(\u001b[0m\u001b[0mresult\u001b[0m\u001b[0;34m.\u001b[0m\u001b[0m_values\u001b[0m\u001b[0;34m)\u001b[0m\u001b[0;34m\u001b[0m\u001b[0m\n\u001b[1;32m   2355\u001b[0m         \u001b[0;32mif\u001b[0m \u001b[0mmask\u001b[0m\u001b[0;34m.\u001b[0m\u001b[0many\u001b[0m\u001b[0;34m(\u001b[0m\u001b[0;34m)\u001b[0m\u001b[0;34m:\u001b[0m\u001b[0;34m\u001b[0m\u001b[0m\n",
      "\u001b[0;32m~/.local/lib/python3.5/site-packages/pandas/core/series.py\u001b[0m in \u001b[0;36mreindex\u001b[0;34m(self, index, **kwargs)\u001b[0m\n\u001b[1;32m   3323\u001b[0m     \u001b[0;34m@\u001b[0m\u001b[0mAppender\u001b[0m\u001b[0;34m(\u001b[0m\u001b[0mgeneric\u001b[0m\u001b[0;34m.\u001b[0m\u001b[0m_shared_docs\u001b[0m\u001b[0;34m[\u001b[0m\u001b[0;34m'reindex'\u001b[0m\u001b[0;34m]\u001b[0m \u001b[0;34m%\u001b[0m \u001b[0m_shared_doc_kwargs\u001b[0m\u001b[0;34m)\u001b[0m\u001b[0;34m\u001b[0m\u001b[0m\n\u001b[1;32m   3324\u001b[0m     \u001b[0;32mdef\u001b[0m \u001b[0mreindex\u001b[0m\u001b[0;34m(\u001b[0m\u001b[0mself\u001b[0m\u001b[0;34m,\u001b[0m \u001b[0mindex\u001b[0m\u001b[0;34m=\u001b[0m\u001b[0;32mNone\u001b[0m\u001b[0;34m,\u001b[0m \u001b[0;34m**\u001b[0m\u001b[0mkwargs\u001b[0m\u001b[0;34m)\u001b[0m\u001b[0;34m:\u001b[0m\u001b[0;34m\u001b[0m\u001b[0m\n\u001b[0;32m-> 3325\u001b[0;31m         \u001b[0;32mreturn\u001b[0m \u001b[0msuper\u001b[0m\u001b[0;34m(\u001b[0m\u001b[0mSeries\u001b[0m\u001b[0;34m,\u001b[0m \u001b[0mself\u001b[0m\u001b[0;34m)\u001b[0m\u001b[0;34m.\u001b[0m\u001b[0mreindex\u001b[0m\u001b[0;34m(\u001b[0m\u001b[0mindex\u001b[0m\u001b[0;34m=\u001b[0m\u001b[0mindex\u001b[0m\u001b[0;34m,\u001b[0m \u001b[0;34m**\u001b[0m\u001b[0mkwargs\u001b[0m\u001b[0;34m)\u001b[0m\u001b[0;34m\u001b[0m\u001b[0m\n\u001b[0m\u001b[1;32m   3326\u001b[0m \u001b[0;34m\u001b[0m\u001b[0m\n\u001b[1;32m   3327\u001b[0m     def drop(self, labels=None, axis=0, index=None, columns=None,\n",
      "\u001b[0;32m~/.local/lib/python3.5/site-packages/pandas/core/generic.py\u001b[0m in \u001b[0;36mreindex\u001b[0;34m(self, *args, **kwargs)\u001b[0m\n\u001b[1;32m   3687\u001b[0m         \u001b[0;31m# perform the reindex on the axes\u001b[0m\u001b[0;34m\u001b[0m\u001b[0;34m\u001b[0m\u001b[0m\n\u001b[1;32m   3688\u001b[0m         return self._reindex_axes(axes, level, limit, tolerance, method,\n\u001b[0;32m-> 3689\u001b[0;31m                                   fill_value, copy).__finalize__(self)\n\u001b[0m\u001b[1;32m   3690\u001b[0m \u001b[0;34m\u001b[0m\u001b[0m\n\u001b[1;32m   3691\u001b[0m     def _reindex_axes(self, axes, level, limit, tolerance, method, fill_value,\n",
      "\u001b[0;32m~/.local/lib/python3.5/site-packages/pandas/core/generic.py\u001b[0m in \u001b[0;36m_reindex_axes\u001b[0;34m(self, axes, level, limit, tolerance, method, fill_value, copy)\u001b[0m\n\u001b[1;32m   3705\u001b[0m             obj = obj._reindex_with_indexers({axis: [new_index, indexer]},\n\u001b[1;32m   3706\u001b[0m                                              \u001b[0mfill_value\u001b[0m\u001b[0;34m=\u001b[0m\u001b[0mfill_value\u001b[0m\u001b[0;34m,\u001b[0m\u001b[0;34m\u001b[0m\u001b[0m\n\u001b[0;32m-> 3707\u001b[0;31m                                              copy=copy, allow_dups=False)\n\u001b[0m\u001b[1;32m   3708\u001b[0m \u001b[0;34m\u001b[0m\u001b[0m\n\u001b[1;32m   3709\u001b[0m         \u001b[0;32mreturn\u001b[0m \u001b[0mobj\u001b[0m\u001b[0;34m\u001b[0m\u001b[0m\n",
      "\u001b[0;32m~/.local/lib/python3.5/site-packages/pandas/core/generic.py\u001b[0m in \u001b[0;36m_reindex_with_indexers\u001b[0;34m(self, reindexers, fill_value, copy, allow_dups)\u001b[0m\n\u001b[1;32m   3808\u001b[0m                                                 \u001b[0mfill_value\u001b[0m\u001b[0;34m=\u001b[0m\u001b[0mfill_value\u001b[0m\u001b[0;34m,\u001b[0m\u001b[0;34m\u001b[0m\u001b[0m\n\u001b[1;32m   3809\u001b[0m                                                 \u001b[0mallow_dups\u001b[0m\u001b[0;34m=\u001b[0m\u001b[0mallow_dups\u001b[0m\u001b[0;34m,\u001b[0m\u001b[0;34m\u001b[0m\u001b[0m\n\u001b[0;32m-> 3810\u001b[0;31m                                                 copy=copy)\n\u001b[0m\u001b[1;32m   3811\u001b[0m \u001b[0;34m\u001b[0m\u001b[0m\n\u001b[1;32m   3812\u001b[0m         \u001b[0;32mif\u001b[0m \u001b[0mcopy\u001b[0m \u001b[0;32mand\u001b[0m \u001b[0mnew_data\u001b[0m \u001b[0;32mis\u001b[0m \u001b[0mself\u001b[0m\u001b[0;34m.\u001b[0m\u001b[0m_data\u001b[0m\u001b[0;34m:\u001b[0m\u001b[0;34m\u001b[0m\u001b[0m\n",
      "\u001b[0;32m~/.local/lib/python3.5/site-packages/pandas/core/internals.py\u001b[0m in \u001b[0;36mreindex_indexer\u001b[0;34m(self, new_axis, indexer, axis, fill_value, allow_dups, copy)\u001b[0m\n\u001b[1;32m   4412\u001b[0m         \u001b[0;31m# some axes don't allow reindexing with dups\u001b[0m\u001b[0;34m\u001b[0m\u001b[0;34m\u001b[0m\u001b[0m\n\u001b[1;32m   4413\u001b[0m         \u001b[0;32mif\u001b[0m \u001b[0;32mnot\u001b[0m \u001b[0mallow_dups\u001b[0m\u001b[0;34m:\u001b[0m\u001b[0;34m\u001b[0m\u001b[0m\n\u001b[0;32m-> 4414\u001b[0;31m             \u001b[0mself\u001b[0m\u001b[0;34m.\u001b[0m\u001b[0maxes\u001b[0m\u001b[0;34m[\u001b[0m\u001b[0maxis\u001b[0m\u001b[0;34m]\u001b[0m\u001b[0;34m.\u001b[0m\u001b[0m_can_reindex\u001b[0m\u001b[0;34m(\u001b[0m\u001b[0mindexer\u001b[0m\u001b[0;34m)\u001b[0m\u001b[0;34m\u001b[0m\u001b[0m\n\u001b[0m\u001b[1;32m   4415\u001b[0m \u001b[0;34m\u001b[0m\u001b[0m\n\u001b[1;32m   4416\u001b[0m         \u001b[0;32mif\u001b[0m \u001b[0maxis\u001b[0m \u001b[0;34m>=\u001b[0m \u001b[0mself\u001b[0m\u001b[0;34m.\u001b[0m\u001b[0mndim\u001b[0m\u001b[0;34m:\u001b[0m\u001b[0;34m\u001b[0m\u001b[0m\n",
      "\u001b[0;32m~/.local/lib/python3.5/site-packages/pandas/core/indexes/base.py\u001b[0m in \u001b[0;36m_can_reindex\u001b[0;34m(self, indexer)\u001b[0m\n\u001b[1;32m   3574\u001b[0m         \u001b[0;31m# trying to reindex on an axis with duplicates\u001b[0m\u001b[0;34m\u001b[0m\u001b[0;34m\u001b[0m\u001b[0m\n\u001b[1;32m   3575\u001b[0m         \u001b[0;32mif\u001b[0m \u001b[0;32mnot\u001b[0m \u001b[0mself\u001b[0m\u001b[0;34m.\u001b[0m\u001b[0mis_unique\u001b[0m \u001b[0;32mand\u001b[0m \u001b[0mlen\u001b[0m\u001b[0;34m(\u001b[0m\u001b[0mindexer\u001b[0m\u001b[0;34m)\u001b[0m\u001b[0;34m:\u001b[0m\u001b[0;34m\u001b[0m\u001b[0m\n\u001b[0;32m-> 3576\u001b[0;31m             \u001b[0;32mraise\u001b[0m \u001b[0mValueError\u001b[0m\u001b[0;34m(\u001b[0m\u001b[0;34m\"cannot reindex from a duplicate axis\"\u001b[0m\u001b[0;34m)\u001b[0m\u001b[0;34m\u001b[0m\u001b[0m\n\u001b[0m\u001b[1;32m   3577\u001b[0m \u001b[0;34m\u001b[0m\u001b[0m\n\u001b[1;32m   3578\u001b[0m     def reindex(self, target, method=None, level=None, limit=None,\n",
      "\u001b[0;31mValueError\u001b[0m: cannot reindex from a duplicate axis"
     ]
    }
   ],
   "source": [
    "#all_enhance = new_train.copy()\n",
    "#all_enhance2 = pd.DataFrame()\n",
    "\n",
    "for i in range(20):\n",
    "    classi = all_enhance.loc[all_enhance2.article_class==i]\n",
    "    classi_d = classi.copy()\n",
    "    classi_d.word_seg = np.random.permutation(classi.word_seg.values)\n",
    "    classi_d.article = np.random.permutation(classi.article.values)\n",
    "    if (len(classi)<10000):\n",
    "        all_classi = pd.concat([classi,classi_d],axis=0)\n",
    "    else:\n",
    "        all_classi = classi\n",
    "    all_enhance2 = pd.concat([all_enhance2,all_classi],axis=0)\n",
    "length_table(all_enhance2)"
   ]
  },
  {
   "cell_type": "code",
   "execution_count": 44,
   "metadata": {},
   "outputs": [
    {
     "name": "stdout",
     "output_type": "stream",
     "text": [
      "[118974 118979 118981 118983 118985] 2604\n",
      "204554\n"
     ]
    },
    {
     "ename": "NameError",
     "evalue": "name 'enhance_data' is not defined",
     "output_type": "error",
     "traceback": [
      "\u001b[0;31m---------------------------------------------------------------------------\u001b[0m",
      "\u001b[0;31mNameError\u001b[0m                                 Traceback (most recent call last)",
      "\u001b[0;32m<ipython-input-44-ddee54830f9c>\u001b[0m in \u001b[0;36m<module>\u001b[0;34m()\u001b[0m\n\u001b[1;32m      3\u001b[0m \u001b[0mprint\u001b[0m\u001b[0;34m(\u001b[0m\u001b[0mdrop_list\u001b[0m\u001b[0;34m[\u001b[0m\u001b[0;34m:\u001b[0m\u001b[0;36m5\u001b[0m\u001b[0;34m]\u001b[0m\u001b[0;34m,\u001b[0m\u001b[0mlen\u001b[0m\u001b[0;34m(\u001b[0m\u001b[0mdrop_list\u001b[0m\u001b[0;34m)\u001b[0m\u001b[0;34m)\u001b[0m\u001b[0;34m\u001b[0m\u001b[0m\n\u001b[1;32m      4\u001b[0m \u001b[0mprint\u001b[0m\u001b[0;34m(\u001b[0m\u001b[0mlen\u001b[0m\u001b[0;34m(\u001b[0m\u001b[0mall_enhance2\u001b[0m\u001b[0;34m)\u001b[0m\u001b[0;34m)\u001b[0m\u001b[0;34m\u001b[0m\u001b[0m\n\u001b[0;32m----> 5\u001b[0;31m \u001b[0menhance_data\u001b[0m \u001b[0;34m=\u001b[0m \u001b[0mall_enhance2\u001b[0m\u001b[0;34m.\u001b[0m\u001b[0mdrop\u001b[0m\u001b[0;34m(\u001b[0m\u001b[0menhance_data\u001b[0m\u001b[0;34m.\u001b[0m\u001b[0mindex\u001b[0m\u001b[0;34m[\u001b[0m\u001b[0mlist\u001b[0m\u001b[0;34m(\u001b[0m\u001b[0mdrop_list\u001b[0m\u001b[0;34m)\u001b[0m\u001b[0;34m]\u001b[0m\u001b[0;34m)\u001b[0m\u001b[0;34m\u001b[0m\u001b[0m\n\u001b[0m\u001b[1;32m      6\u001b[0m \u001b[0mprint\u001b[0m\u001b[0;34m(\u001b[0m\u001b[0mlen\u001b[0m\u001b[0;34m(\u001b[0m\u001b[0mall_enhance2\u001b[0m\u001b[0;34m)\u001b[0m\u001b[0;34m,\u001b[0m\u001b[0mlen\u001b[0m\u001b[0;34m(\u001b[0m\u001b[0menhance_data\u001b[0m\u001b[0;34m)\u001b[0m\u001b[0;34m)\u001b[0m\u001b[0;34m\u001b[0m\u001b[0m\n\u001b[1;32m      7\u001b[0m \u001b[0mlength_table\u001b[0m\u001b[0;34m(\u001b[0m\u001b[0menhance_data\u001b[0m\u001b[0;34m)\u001b[0m\u001b[0;34m\u001b[0m\u001b[0m\n",
      "\u001b[0;31mNameError\u001b[0m: name 'enhance_data' is not defined"
     ]
    }
   ],
   "source": [
    "drop_list = np.random.randint(118974,128826,size=3000)\n",
    "drop_list = np.unique(drop_list)\n",
    "print(drop_list[:5],len(drop_list))\n",
    "print(len(all_enhance2))\n",
    "enhance_data = all_enhance2.drop(enhance_data.index[list(drop_list)])\n",
    "print(len(all_enhance2),len(enhance_data))\n",
    "length_table(enhance_data)"
   ]
  },
  {
   "cell_type": "code",
   "execution_count": 24,
   "metadata": {},
   "outputs": [
    {
     "ename": "NameError",
     "evalue": "name 'enhance_data' is not defined",
     "output_type": "error",
     "traceback": [
      "\u001b[0;31m---------------------------------------------------------------------------\u001b[0m",
      "\u001b[0;31mNameError\u001b[0m                                 Traceback (most recent call last)",
      "\u001b[0;32m<ipython-input-24-2d35fe66f102>\u001b[0m in \u001b[0;36m<module>\u001b[0;34m()\u001b[0m\n\u001b[0;32m----> 1\u001b[0;31m \u001b[0menhance_data\u001b[0m\u001b[0;34m.\u001b[0m\u001b[0mto_csv\u001b[0m\u001b[0;34m(\u001b[0m\u001b[0;34m'enhance_data.csv'\u001b[0m\u001b[0;34m)\u001b[0m\u001b[0;34m\u001b[0m\u001b[0m\n\u001b[0m",
      "\u001b[0;31mNameError\u001b[0m: name 'enhance_data' is not defined"
     ]
    }
   ],
   "source": [
    "enhance_data.to_csv('enhance_data.csv')"
   ]
  },
  {
   "cell_type": "code",
   "execution_count": 25,
   "metadata": {},
   "outputs": [
    {
     "ename": "NameError",
     "evalue": "name 'enhance_data' is not defined",
     "output_type": "error",
     "traceback": [
      "\u001b[0;31m---------------------------------------------------------------------------\u001b[0m",
      "\u001b[0;31mNameError\u001b[0m                                 Traceback (most recent call last)",
      "\u001b[0;32m<ipython-input-25-64784cb1e374>\u001b[0m in \u001b[0;36m<module>\u001b[0;34m()\u001b[0m\n\u001b[1;32m      1\u001b[0m \u001b[0;31m#enhance_data = all_enhance2.copy()\u001b[0m\u001b[0;34m\u001b[0m\u001b[0;34m\u001b[0m\u001b[0m\n\u001b[0;32m----> 2\u001b[0;31m \u001b[0menhance_data\u001b[0m\u001b[0;34m.\u001b[0m\u001b[0mdrop\u001b[0m\u001b[0;34m(\u001b[0m\u001b[0;36m118972\u001b[0m\u001b[0;34m)\u001b[0m\u001b[0;34m\u001b[0m\u001b[0m\n\u001b[0m\u001b[1;32m      3\u001b[0m \u001b[0menhance_data\u001b[0m\u001b[0;34m[\u001b[0m\u001b[0;36m118970\u001b[0m\u001b[0;34m:\u001b[0m\u001b[0;36m118980\u001b[0m\u001b[0;34m]\u001b[0m\u001b[0;34m\u001b[0m\u001b[0m\n",
      "\u001b[0;31mNameError\u001b[0m: name 'enhance_data' is not defined"
     ]
    }
   ],
   "source": [
    "#enhance_data = all_enhance2.copy()\n",
    "enhance_data.drop(118972)\n",
    "enhance_data[118970:118980]"
   ]
  },
  {
   "cell_type": "code",
   "execution_count": 26,
   "metadata": {},
   "outputs": [
    {
     "ename": "NameError",
     "evalue": "name 'enhance_data' is not defined",
     "output_type": "error",
     "traceback": [
      "\u001b[0;31m---------------------------------------------------------------------------\u001b[0m",
      "\u001b[0;31mNameError\u001b[0m                                 Traceback (most recent call last)",
      "\u001b[0;32m<ipython-input-26-606765aa5006>\u001b[0m in \u001b[0;36m<module>\u001b[0;34m()\u001b[0m\n\u001b[1;32m      1\u001b[0m \u001b[0;31m#enhance_data = all_enhance2.copy()\u001b[0m\u001b[0;34m\u001b[0m\u001b[0;34m\u001b[0m\u001b[0m\n\u001b[0;32m----> 2\u001b[0;31m \u001b[0menhance_data\u001b[0m \u001b[0;34m=\u001b[0m \u001b[0menhance_data\u001b[0m\u001b[0;34m.\u001b[0m\u001b[0mdrop\u001b[0m\u001b[0;34m(\u001b[0m\u001b[0menhance_data\u001b[0m\u001b[0;34m.\u001b[0m\u001b[0mindex\u001b[0m\u001b[0;34m[\u001b[0m\u001b[0;34m[\u001b[0m\u001b[0;36m118976\u001b[0m\u001b[0;34m,\u001b[0m\u001b[0;36m118973\u001b[0m\u001b[0;34m]\u001b[0m\u001b[0;34m]\u001b[0m\u001b[0;34m)\u001b[0m\u001b[0;34m\u001b[0m\u001b[0m\n\u001b[0m\u001b[1;32m      3\u001b[0m \u001b[0menhance_data\u001b[0m\u001b[0;34m[\u001b[0m\u001b[0;36m118970\u001b[0m\u001b[0;34m:\u001b[0m\u001b[0;36m118980\u001b[0m\u001b[0;34m]\u001b[0m\u001b[0;34m\u001b[0m\u001b[0m\n",
      "\u001b[0;31mNameError\u001b[0m: name 'enhance_data' is not defined"
     ]
    }
   ],
   "source": [
    "#enhance_data = all_enhance2.copy()\n",
    "enhance_data = enhance_data.drop(enhance_data.index[[118976,118973]])\n",
    "enhance_data[118970:118980]"
   ]
  },
  {
   "cell_type": "code",
   "execution_count": 27,
   "metadata": {},
   "outputs": [
    {
     "ename": "NameError",
     "evalue": "name 'enhance_data' is not defined",
     "output_type": "error",
     "traceback": [
      "\u001b[0;31m---------------------------------------------------------------------------\u001b[0m",
      "\u001b[0;31mNameError\u001b[0m                                 Traceback (most recent call last)",
      "\u001b[0;32m<ipython-input-27-78569050167d>\u001b[0m in \u001b[0;36m<module>\u001b[0;34m()\u001b[0m\n\u001b[0;32m----> 1\u001b[0;31m \u001b[0menhance_data\u001b[0m\u001b[0;34m.\u001b[0m\u001b[0mshape\u001b[0m\u001b[0;34m\u001b[0m\u001b[0m\n\u001b[0m",
      "\u001b[0;31mNameError\u001b[0m: name 'enhance_data' is not defined"
     ]
    }
   ],
   "source": [
    "enhance_data.shape"
   ]
  },
  {
   "cell_type": "code",
   "execution_count": 28,
   "metadata": {},
   "outputs": [
    {
     "data": {
      "image/png": "[encoded data removed]",
      "text/plain": [
       "<Figure size 432x288 with 1 Axes>"
      ]
     },
     "metadata": {},
     "output_type": "display_data"
    }
   ],
   "source": [
    "\n",
    "\n",
    "type(y)\n",
    "\n",
    "x = list(range(1,20))\n",
    "\n",
    "plt.bar(range(1,20,1),y)\n",
    "plt.show()"
   ]
  },
  {
   "cell_type": "code",
   "execution_count": 29,
   "metadata": {},
   "outputs": [],
   "source": [
    "class1 = all_train.loc[all_train.article_class==1]\n",
    "class1_d = class1.copy()\n",
    "class1_d.word_seg = np.random.permutation(class1.word_seg.values)\n",
    "class1_d.article = np.random.permutation(class1.article.values)"
   ]
  },
  {
   "cell_type": "code",
   "execution_count": 30,
   "metadata": {},
   "outputs": [
    {
     "data": {
      "text/plain": [
       "array([[0.25097316, 0.3049541 , 0.2719386 , 0.57003659],\n",
       "       [0.35951561, 0.05439847, 0.79591565, 0.83807303],\n",
       "       [0.33381776, 0.23562483, 0.71180429, 0.18034866],\n",
       "       [0.76399618, 0.38293861, 0.91998316, 0.07423802],\n",
       "       [0.10888044, 0.75798299, 0.73053331, 0.74155051],\n",
       "       [0.79638712, 0.32284959, 0.35389378, 0.33819636],\n",
       "       [0.45623007, 0.25158508, 0.60426233, 0.16727638],\n",
       "       [0.10576718, 0.41436304, 0.67863563, 0.96677144],\n",
       "       [0.01234356, 0.26781123, 0.96680334, 0.80369139],\n",
       "       [0.07666986, 0.74097709, 0.26960075, 0.10927462]])"
      ]
     },
     "execution_count": 30,
     "metadata": {},
     "output_type": "execute_result"
    }
   ],
   "source": [
    "np.random.rand(10, 4)"
   ]
  },
  {
   "cell_type": "code",
   "execution_count": 31,
   "metadata": {},
   "outputs": [
    {
     "data": {
      "text/html": [
       "<div>\n",
       "<style scoped>\n",
       "    .dataframe tbody tr th:only-of-type {\n",
       "        vertical-align: middle;\n",
       "    }\n",
       "\n",
       "    .dataframe tbody tr th {\n",
       "        vertical-align: top;\n",
       "    }\n",
       "\n",
       "    .dataframe thead th {\n",
       "        text-align: right;\n",
       "    }\n",
       "</style>\n",
       "<table border=\"1\" class=\"dataframe\">\n",
       "  <thead>\n",
       "    <tr style=\"text-align: right;\">\n",
       "      <th></th>\n",
       "      <th>Unnamed: 0</th>\n",
       "      <th>id</th>\n",
       "      <th>article_class</th>\n",
       "      <th>article_len</th>\n",
       "      <th>word_len</th>\n",
       "    </tr>\n",
       "  </thead>\n",
       "  <tbody>\n",
       "    <tr>\n",
       "      <th>count</th>\n",
       "      <td>41511.000000</td>\n",
       "      <td>41511.000000</td>\n",
       "      <td>41511.000000</td>\n",
       "      <td>41511.000000</td>\n",
       "      <td>41511.000000</td>\n",
       "    </tr>\n",
       "    <tr>\n",
       "      <th>mean</th>\n",
       "      <td>50829.368601</td>\n",
       "      <td>50829.368601</td>\n",
       "      <td>10.753656</td>\n",
       "      <td>2102.269085</td>\n",
       "      <td>1275.185348</td>\n",
       "    </tr>\n",
       "    <tr>\n",
       "      <th>std</th>\n",
       "      <td>29577.356344</td>\n",
       "      <td>29577.356344</td>\n",
       "      <td>5.509307</td>\n",
       "      <td>1714.584649</td>\n",
       "      <td>1010.715437</td>\n",
       "    </tr>\n",
       "    <tr>\n",
       "      <th>min</th>\n",
       "      <td>0.000000</td>\n",
       "      <td>0.000000</td>\n",
       "      <td>1.000000</td>\n",
       "      <td>1001.000000</td>\n",
       "      <td>74.000000</td>\n",
       "    </tr>\n",
       "    <tr>\n",
       "      <th>25%</th>\n",
       "      <td>25077.500000</td>\n",
       "      <td>25077.500000</td>\n",
       "      <td>7.000000</td>\n",
       "      <td>1236.000000</td>\n",
       "      <td>756.000000</td>\n",
       "    </tr>\n",
       "    <tr>\n",
       "      <th>50%</th>\n",
       "      <td>50802.000000</td>\n",
       "      <td>50802.000000</td>\n",
       "      <td>11.000000</td>\n",
       "      <td>1604.000000</td>\n",
       "      <td>982.000000</td>\n",
       "    </tr>\n",
       "    <tr>\n",
       "      <th>75%</th>\n",
       "      <td>76250.000000</td>\n",
       "      <td>76250.000000</td>\n",
       "      <td>15.000000</td>\n",
       "      <td>2330.000000</td>\n",
       "      <td>1418.000000</td>\n",
       "    </tr>\n",
       "    <tr>\n",
       "      <th>max</th>\n",
       "      <td>102275.000000</td>\n",
       "      <td>102275.000000</td>\n",
       "      <td>19.000000</td>\n",
       "      <td>55804.000000</td>\n",
       "      <td>39759.000000</td>\n",
       "    </tr>\n",
       "  </tbody>\n",
       "</table>\n",
       "</div>"
      ],
      "text/plain": [
       "          Unnamed: 0             id  article_class   article_len      word_len\n",
       "count   41511.000000   41511.000000   41511.000000  41511.000000  41511.000000\n",
       "mean    50829.368601   50829.368601      10.753656   2102.269085   1275.185348\n",
       "std     29577.356344   29577.356344       5.509307   1714.584649   1010.715437\n",
       "min         0.000000       0.000000       1.000000   1001.000000     74.000000\n",
       "25%     25077.500000   25077.500000       7.000000   1236.000000    756.000000\n",
       "50%     50802.000000   50802.000000      11.000000   1604.000000    982.000000\n",
       "75%     76250.000000   76250.000000      15.000000   2330.000000   1418.000000\n",
       "max    102275.000000  102275.000000      19.000000  55804.000000  39759.000000"
      ]
     },
     "execution_count": 31,
     "metadata": {},
     "output_type": "execute_result"
    }
   ],
   "source": [
    "long_train.describe()"
   ]
  },
  {
   "cell_type": "code",
   "execution_count": 32,
   "metadata": {},
   "outputs": [
    {
     "data": {
      "text/plain": [
       "(41511, 7)"
      ]
     },
     "execution_count": 32,
     "metadata": {},
     "output_type": "execute_result"
    }
   ],
   "source": [
    "long_train.shape"
   ]
  },
  {
   "cell_type": "code",
   "execution_count": 33,
   "metadata": {},
   "outputs": [
    {
     "name": "stderr",
     "output_type": "stream",
     "text": [
      "/home/ginko/.local/lib/python3.5/site-packages/pandas/core/generic.py:4405: SettingWithCopyWarning: \n",
      "A value is trying to be set on a copy of a slice from a DataFrame.\n",
      "Try using .loc[row_indexer,col_indexer] = value instead\n",
      "\n",
      "See the caveats in the documentation: http://pandas.pydata.org/pandas-docs/stable/indexing.html#indexing-view-versus-copy\n",
      "  self[name] = value\n"
     ]
    }
   ],
   "source": [
    "class2 = all_train.loc[all_train.article_class==2]\n",
    "class2_s= class2\n",
    "class2_s.word_seg = np.random.permutation(class2.word_seg.values)\n",
    "class2_s.article = np.random.permutation(class2.article.values)"
   ]
  },
  {
   "cell_type": "code",
   "execution_count": 34,
   "metadata": {},
   "outputs": [],
   "source": [
    "def dropout(d,p=0.3):\n",
    "        len_ = len(d)\n",
    "        index = np.random.choice(len_,int(len_*p))\n",
    "        d[index]=0\n",
    "        return d     "
   ]
  },
  {
   "cell_type": "code",
   "execution_count": 35,
   "metadata": {},
   "outputs": [],
   "source": [
    "\n",
    "class2 = all_train.loc[all_train.article_class==2]\n",
    "class2_d = class2.copy()\n",
    "sentences=[]\n",
    "for sentence in class2_d.word_seg:\n",
    "    sentence = list(map(int,(sentence.split())))\n",
    "    sentence = np.array(sentence)\n",
    "    sentence = dropout(sentence)\n",
    "    sentences.append(dropout(sentence))\n",
    "class2_d.word_seg = str(sentences)\n",
    "\n",
    "characters=[]\n",
    "\n",
    "for character in class2_d.article:\n",
    "    character = list(map(int,(character.split())))\n",
    "    character = np.array(character)\n",
    "    character = dropout(character)\n",
    "    characters.append(dropout(character))\n",
    "class2_d.article = characters"
   ]
  },
  {
   "cell_type": "code",
   "execution_count": 36,
   "metadata": {
    "scrolled": true
   },
   "outputs": [
    {
     "data": {
      "text/html": [
       "<div>\n",
       "<style scoped>\n",
       "    .dataframe tbody tr th:only-of-type {\n",
       "        vertical-align: middle;\n",
       "    }\n",
       "\n",
       "    .dataframe tbody tr th {\n",
       "        vertical-align: top;\n",
       "    }\n",
       "\n",
       "    .dataframe thead th {\n",
       "        text-align: right;\n",
       "    }\n",
       "</style>\n",
       "<table border=\"1\" class=\"dataframe\">\n",
       "  <thead>\n",
       "    <tr style=\"text-align: right;\">\n",
       "      <th></th>\n",
       "      <th>Unnamed: 0</th>\n",
       "      <th>id</th>\n",
       "      <th>article</th>\n",
       "      <th>word_seg</th>\n",
       "      <th>article_class</th>\n",
       "      <th>article_len</th>\n",
       "      <th>word_len</th>\n",
       "    </tr>\n",
       "  </thead>\n",
       "  <tbody>\n",
       "    <tr>\n",
       "      <th>23</th>\n",
       "      <td>23</td>\n",
       "      <td>23</td>\n",
       "      <td>330242 788037 40494 1080029 79747 7368 1015617...</td>\n",
       "      <td>713291 135124 1226448 816903 69892 520477 3696...</td>\n",
       "      <td>2</td>\n",
       "      <td>1344</td>\n",
       "      <td>748</td>\n",
       "    </tr>\n",
       "    <tr>\n",
       "      <th>40</th>\n",
       "      <td>40</td>\n",
       "      <td>40</td>\n",
       "      <td>881890 581131 1030656 626254 826453 581131 611...</td>\n",
       "      <td>386754 166959 1234861 166959 866203 816903 816...</td>\n",
       "      <td>2</td>\n",
       "      <td>1014</td>\n",
       "      <td>637</td>\n",
       "    </tr>\n",
       "    <tr>\n",
       "      <th>89</th>\n",
       "      <td>89</td>\n",
       "      <td>89</td>\n",
       "      <td>415555 1269463 1176703 493242 249303 119827 77...</td>\n",
       "      <td>362928 273817 613610 834740 960761 1033823 248...</td>\n",
       "      <td>2</td>\n",
       "      <td>2516</td>\n",
       "      <td>1318</td>\n",
       "    </tr>\n",
       "    <tr>\n",
       "      <th>95</th>\n",
       "      <td>95</td>\n",
       "      <td>95</td>\n",
       "      <td>442871 177198 663773 873355 649585 1111942 736...</td>\n",
       "      <td>563297 1022450 816903 806905 277944 1122314 72...</td>\n",
       "      <td>2</td>\n",
       "      <td>946</td>\n",
       "      <td>548</td>\n",
       "    </tr>\n",
       "    <tr>\n",
       "      <th>169</th>\n",
       "      <td>169</td>\n",
       "      <td>169</td>\n",
       "      <td>556634 837240 239992 530023 1123801 1218217 27...</td>\n",
       "      <td>3849 1127790 10188 806755 460600 1134165 13814...</td>\n",
       "      <td>2</td>\n",
       "      <td>529</td>\n",
       "      <td>295</td>\n",
       "    </tr>\n",
       "    <tr>\n",
       "      <th>176</th>\n",
       "      <td>176</td>\n",
       "      <td>176</td>\n",
       "      <td>7368 1177293 269807 656831 690980 206763 12596...</td>\n",
       "      <td>816903 856115 289954 960860 1005033 674551 234...</td>\n",
       "      <td>2</td>\n",
       "      <td>500</td>\n",
       "      <td>294</td>\n",
       "    </tr>\n",
       "    <tr>\n",
       "      <th>181</th>\n",
       "      <td>181</td>\n",
       "      <td>181</td>\n",
       "      <td>7368 1069392 776048 330242 758098 177198 83655...</td>\n",
       "      <td>816903 870553 260177 1138348 1033823 785181 10...</td>\n",
       "      <td>2</td>\n",
       "      <td>1356</td>\n",
       "      <td>819</td>\n",
       "    </tr>\n",
       "    <tr>\n",
       "      <th>197</th>\n",
       "      <td>197</td>\n",
       "      <td>197</td>\n",
       "      <td>7368 316709 171803 1266092 177198 7368 297797 ...</td>\n",
       "      <td>816903 36028 898058 816903 238458 561409 16695...</td>\n",
       "      <td>2</td>\n",
       "      <td>302</td>\n",
       "      <td>193</td>\n",
       "    </tr>\n",
       "    <tr>\n",
       "      <th>327</th>\n",
       "      <td>327</td>\n",
       "      <td>327</td>\n",
       "      <td>7368 1220011 1017514 7368 371412 103127 595261...</td>\n",
       "      <td>816903 16476 816903 1255425 433405 876569 8169...</td>\n",
       "      <td>2</td>\n",
       "      <td>184</td>\n",
       "      <td>115</td>\n",
       "    </tr>\n",
       "    <tr>\n",
       "      <th>448</th>\n",
       "      <td>448</td>\n",
       "      <td>448</td>\n",
       "      <td>1035104 311096 75959 617883 348926 177198 8560...</td>\n",
       "      <td>1197717 114395 734667 1033823 229718 460600 73...</td>\n",
       "      <td>2</td>\n",
       "      <td>477</td>\n",
       "      <td>301</td>\n",
       "    </tr>\n",
       "    <tr>\n",
       "      <th>454</th>\n",
       "      <td>454</td>\n",
       "      <td>454</td>\n",
       "      <td>1188406 797945 1259689 1103771 7368 1080029 11...</td>\n",
       "      <td>481058 1083160 816903 1141728 816903 481058 10...</td>\n",
       "      <td>2</td>\n",
       "      <td>321</td>\n",
       "      <td>186</td>\n",
       "    </tr>\n",
       "    <tr>\n",
       "      <th>523</th>\n",
       "      <td>523</td>\n",
       "      <td>523</td>\n",
       "      <td>186887 1273519 1220011 790700 641588 605972 62...</td>\n",
       "      <td>844647 1032237 87727 1264884 63641 573761 1033...</td>\n",
       "      <td>2</td>\n",
       "      <td>1607</td>\n",
       "      <td>1012</td>\n",
       "    </tr>\n",
       "    <tr>\n",
       "      <th>530</th>\n",
       "      <td>530</td>\n",
       "      <td>530</td>\n",
       "      <td>669302 422632 595261 177198 1042214 7368 35983...</td>\n",
       "      <td>985489 40445 816903 460600 553724 1033823 6252...</td>\n",
       "      <td>2</td>\n",
       "      <td>1525</td>\n",
       "      <td>896</td>\n",
       "    </tr>\n",
       "    <tr>\n",
       "      <th>586</th>\n",
       "      <td>586</td>\n",
       "      <td>586</td>\n",
       "      <td>1077049 195449 124790 383866 559442 285876 436...</td>\n",
       "      <td>766772 72103 783993 541144 1119307 228070 5514...</td>\n",
       "      <td>2</td>\n",
       "      <td>1515</td>\n",
       "      <td>921</td>\n",
       "    </tr>\n",
       "    <tr>\n",
       "      <th>753</th>\n",
       "      <td>753</td>\n",
       "      <td>753</td>\n",
       "      <td>881890 581131 1030656 626254 87641 1115109 108...</td>\n",
       "      <td>386754 778979 600366 1005846 54111 1067570 816...</td>\n",
       "      <td>2</td>\n",
       "      <td>1613</td>\n",
       "      <td>1022</td>\n",
       "    </tr>\n",
       "    <tr>\n",
       "      <th>824</th>\n",
       "      <td>824</td>\n",
       "      <td>824</td>\n",
       "      <td>538313 31240 139922 817220 187170 226739 10442...</td>\n",
       "      <td>386932 454003 661350 1101966 520477 598948 186...</td>\n",
       "      <td>2</td>\n",
       "      <td>3060</td>\n",
       "      <td>1808</td>\n",
       "    </tr>\n",
       "    <tr>\n",
       "      <th>839</th>\n",
       "      <td>839</td>\n",
       "      <td>839</td>\n",
       "      <td>7368 102015 544882 7368 569999 159592 998012 5...</td>\n",
       "      <td>816903 591689 816903 1171681 1253787 1178429 8...</td>\n",
       "      <td>2</td>\n",
       "      <td>2526</td>\n",
       "      <td>1520</td>\n",
       "    </tr>\n",
       "    <tr>\n",
       "      <th>840</th>\n",
       "      <td>840</td>\n",
       "      <td>840</td>\n",
       "      <td>996173 664699 666906 7368 518445 230719 132960...</td>\n",
       "      <td>1197043 816903 235756 816903 612398 380428 121...</td>\n",
       "      <td>2</td>\n",
       "      <td>3027</td>\n",
       "      <td>1835</td>\n",
       "    </tr>\n",
       "    <tr>\n",
       "      <th>1038</th>\n",
       "      <td>1038</td>\n",
       "      <td>1038</td>\n",
       "      <td>828236 1269463 7368 1177293 195449 907327 1219...</td>\n",
       "      <td>287730 816903 37544 1025743 955021 792049 9904...</td>\n",
       "      <td>2</td>\n",
       "      <td>1205</td>\n",
       "      <td>729</td>\n",
       "    </tr>\n",
       "    <tr>\n",
       "      <th>1101</th>\n",
       "      <td>1101</td>\n",
       "      <td>1101</td>\n",
       "      <td>730478 1212404 1150026 268683 206763 730478 42...</td>\n",
       "      <td>633818 727530 1176105 633818 596474 774532 520...</td>\n",
       "      <td>2</td>\n",
       "      <td>1327</td>\n",
       "      <td>792</td>\n",
       "    </tr>\n",
       "    <tr>\n",
       "      <th>1131</th>\n",
       "      <td>1131</td>\n",
       "      <td>1131</td>\n",
       "      <td>7368 474675 222667 611112 599682 7368 1077049 ...</td>\n",
       "      <td>816903 1061507 340401 966562 816903 941582 490...</td>\n",
       "      <td>2</td>\n",
       "      <td>2474</td>\n",
       "      <td>1509</td>\n",
       "    </tr>\n",
       "    <tr>\n",
       "      <th>1146</th>\n",
       "      <td>1146</td>\n",
       "      <td>1146</td>\n",
       "      <td>7368 263884 1114890 907448 743139 42898 770757...</td>\n",
       "      <td>816903 1146706 739280 426715 520477 1109510 33...</td>\n",
       "      <td>2</td>\n",
       "      <td>703</td>\n",
       "      <td>418</td>\n",
       "    </tr>\n",
       "    <tr>\n",
       "      <th>1167</th>\n",
       "      <td>1167</td>\n",
       "      <td>1167</td>\n",
       "      <td>1059994 452751 770757 265988 790700 420804 736...</td>\n",
       "      <td>730666 985047 133940 816903 91133 490535 11452...</td>\n",
       "      <td>2</td>\n",
       "      <td>2377</td>\n",
       "      <td>1481</td>\n",
       "    </tr>\n",
       "    <tr>\n",
       "      <th>1182</th>\n",
       "      <td>1182</td>\n",
       "      <td>1182</td>\n",
       "      <td>966819 780230 390051 625647 195356 354809 7368...</td>\n",
       "      <td>693588 1137386 212509 22666 816903 166959 1669...</td>\n",
       "      <td>2</td>\n",
       "      <td>1512</td>\n",
       "      <td>1025</td>\n",
       "    </tr>\n",
       "    <tr>\n",
       "      <th>1225</th>\n",
       "      <td>1225</td>\n",
       "      <td>1225</td>\n",
       "      <td>27234 1108822 378979 846763 89539 4665 1044285...</td>\n",
       "      <td>161505 1113110 652252 1134471 520477 250933 40...</td>\n",
       "      <td>2</td>\n",
       "      <td>3267</td>\n",
       "      <td>2052</td>\n",
       "    </tr>\n",
       "    <tr>\n",
       "      <th>1230</th>\n",
       "      <td>1230</td>\n",
       "      <td>1230</td>\n",
       "      <td>1219589 861608 112530 339099 163882 1093776 12...</td>\n",
       "      <td>1025743 806720 564179 462569 403305 462569 520...</td>\n",
       "      <td>2</td>\n",
       "      <td>1180</td>\n",
       "      <td>768</td>\n",
       "    </tr>\n",
       "    <tr>\n",
       "      <th>1265</th>\n",
       "      <td>1265</td>\n",
       "      <td>1265</td>\n",
       "      <td>1155302 383866 486215 99552 921820 1242140 736...</td>\n",
       "      <td>73450 996399 909784 816903 268553 520477 76431...</td>\n",
       "      <td>2</td>\n",
       "      <td>520</td>\n",
       "      <td>353</td>\n",
       "    </tr>\n",
       "    <tr>\n",
       "      <th>1266</th>\n",
       "      <td>1266</td>\n",
       "      <td>1266</td>\n",
       "      <td>1160791 299237 1106142 291456 7792 7368 229154...</td>\n",
       "      <td>669476 638334 834740 816903 1133849 1064575 10...</td>\n",
       "      <td>2</td>\n",
       "      <td>1516</td>\n",
       "      <td>885</td>\n",
       "    </tr>\n",
       "    <tr>\n",
       "      <th>1267</th>\n",
       "      <td>1267</td>\n",
       "      <td>1267</td>\n",
       "      <td>263884 263884 1240468 542587 1219589 316564 76...</td>\n",
       "      <td>283853 98951 1025743 829191 324604 844647 1033...</td>\n",
       "      <td>2</td>\n",
       "      <td>1260</td>\n",
       "      <td>737</td>\n",
       "    </tr>\n",
       "    <tr>\n",
       "      <th>1371</th>\n",
       "      <td>1371</td>\n",
       "      <td>1371</td>\n",
       "      <td>957317 628499 504767 628499 1141594 664699 636...</td>\n",
       "      <td>598526 816903 886866 816903 891499 663669 8483...</td>\n",
       "      <td>2</td>\n",
       "      <td>2544</td>\n",
       "      <td>1568</td>\n",
       "    </tr>\n",
       "    <tr>\n",
       "      <th>...</th>\n",
       "      <td>...</td>\n",
       "      <td>...</td>\n",
       "      <td>...</td>\n",
       "      <td>...</td>\n",
       "      <td>...</td>\n",
       "      <td>...</td>\n",
       "      <td>...</td>\n",
       "    </tr>\n",
       "    <tr>\n",
       "      <th>101135</th>\n",
       "      <td>101135</td>\n",
       "      <td>101135</td>\n",
       "      <td>667300 119827 799951 647942 195449 856005 1122...</td>\n",
       "      <td>109807 1279582 589909 1033823 1145228 920327 4...</td>\n",
       "      <td>2</td>\n",
       "      <td>1957</td>\n",
       "      <td>1258</td>\n",
       "    </tr>\n",
       "    <tr>\n",
       "      <th>101186</th>\n",
       "      <td>101186</td>\n",
       "      <td>101186</td>\n",
       "      <td>7368 848367 737544 359838 268876 6437 332929 8...</td>\n",
       "      <td>816903 501257 460600 1134596 1019141 1033823 1...</td>\n",
       "      <td>2</td>\n",
       "      <td>783</td>\n",
       "      <td>477</td>\n",
       "    </tr>\n",
       "    <tr>\n",
       "      <th>101225</th>\n",
       "      <td>101225</td>\n",
       "      <td>101225</td>\n",
       "      <td>134738 658824 1044285 837240 909573 427848 122...</td>\n",
       "      <td>933419 520477 54111 287496 596474 411707 10338...</td>\n",
       "      <td>2</td>\n",
       "      <td>2095</td>\n",
       "      <td>1260</td>\n",
       "    </tr>\n",
       "    <tr>\n",
       "      <th>101263</th>\n",
       "      <td>101263</td>\n",
       "      <td>101263</td>\n",
       "      <td>465761 1155302 1048690 1044285 354209 649585 7...</td>\n",
       "      <td>1149092 503804 520477 978909 816903 61123 1115...</td>\n",
       "      <td>2</td>\n",
       "      <td>2321</td>\n",
       "      <td>1434</td>\n",
       "    </tr>\n",
       "    <tr>\n",
       "      <th>101268</th>\n",
       "      <td>101268</td>\n",
       "      <td>101268</td>\n",
       "      <td>7368 734011 639060 1103771 1091793 7368 793630...</td>\n",
       "      <td>816903 627250 271456 816903 203284 939470 6581...</td>\n",
       "      <td>2</td>\n",
       "      <td>1875</td>\n",
       "      <td>1058</td>\n",
       "    </tr>\n",
       "    <tr>\n",
       "      <th>101363</th>\n",
       "      <td>101363</td>\n",
       "      <td>101363</td>\n",
       "      <td>42610 979713 1145994 856005 1169505 171803 239...</td>\n",
       "      <td>726082 1100357 1033823 252588 920327 726082 95...</td>\n",
       "      <td>2</td>\n",
       "      <td>2506</td>\n",
       "      <td>1491</td>\n",
       "    </tr>\n",
       "    <tr>\n",
       "      <th>101394</th>\n",
       "      <td>101394</td>\n",
       "      <td>101394</td>\n",
       "      <td>7368 836872 42789 1125206 394856 359838 195449...</td>\n",
       "      <td>816903 1098157 1247384 930754 460600 696059 10...</td>\n",
       "      <td>2</td>\n",
       "      <td>1772</td>\n",
       "      <td>1053</td>\n",
       "    </tr>\n",
       "    <tr>\n",
       "      <th>101395</th>\n",
       "      <td>101395</td>\n",
       "      <td>101395</td>\n",
       "      <td>1030656 581131 581131 581131 1265539 1030656 5...</td>\n",
       "      <td>369538 236744 369538 816903 912149 816903 9298...</td>\n",
       "      <td>2</td>\n",
       "      <td>1033</td>\n",
       "      <td>668</td>\n",
       "    </tr>\n",
       "    <tr>\n",
       "      <th>101396</th>\n",
       "      <td>101396</td>\n",
       "      <td>101396</td>\n",
       "      <td>7368 1030656 699820 849828 328717 641588 91628...</td>\n",
       "      <td>816903 426716 1115586 1016062 730089 1084225 8...</td>\n",
       "      <td>2</td>\n",
       "      <td>1903</td>\n",
       "      <td>1054</td>\n",
       "    </tr>\n",
       "    <tr>\n",
       "      <th>101441</th>\n",
       "      <td>101441</td>\n",
       "      <td>101441</td>\n",
       "      <td>661985 1025490 7368 7368 1219589 62534 482098 ...</td>\n",
       "      <td>41553 816903 816903 1025743 397835 960860 9904...</td>\n",
       "      <td>2</td>\n",
       "      <td>2585</td>\n",
       "      <td>1529</td>\n",
       "    </tr>\n",
       "    <tr>\n",
       "      <th>101473</th>\n",
       "      <td>101473</td>\n",
       "      <td>101473</td>\n",
       "      <td>7368 7368 977266 964907 611112 599682 420804 7...</td>\n",
       "      <td>816903 816903 535449 340401 966562 133940 8169...</td>\n",
       "      <td>2</td>\n",
       "      <td>482</td>\n",
       "      <td>317</td>\n",
       "    </tr>\n",
       "    <tr>\n",
       "      <th>101553</th>\n",
       "      <td>101553</td>\n",
       "      <td>101553</td>\n",
       "      <td>881890 581131 1030656 626254 753262 365865 623...</td>\n",
       "      <td>386754 474247 554251 554251 701424 454003 1097...</td>\n",
       "      <td>2</td>\n",
       "      <td>2443</td>\n",
       "      <td>1443</td>\n",
       "    </tr>\n",
       "    <tr>\n",
       "      <th>101565</th>\n",
       "      <td>101565</td>\n",
       "      <td>101565</td>\n",
       "      <td>7368 7368 7368 186887 758098 943589 1044285 33...</td>\n",
       "      <td>816903 816903 816903 844647 978326 520477 4343...</td>\n",
       "      <td>2</td>\n",
       "      <td>1050</td>\n",
       "      <td>687</td>\n",
       "    </tr>\n",
       "    <tr>\n",
       "      <th>101592</th>\n",
       "      <td>101592</td>\n",
       "      <td>101592</td>\n",
       "      <td>7368 647942 599682 393322 563158 466409 585998...</td>\n",
       "      <td>816903 71823 600600 1160580 960230 520477 1206...</td>\n",
       "      <td>2</td>\n",
       "      <td>398</td>\n",
       "      <td>251</td>\n",
       "    </tr>\n",
       "    <tr>\n",
       "      <th>101656</th>\n",
       "      <td>101656</td>\n",
       "      <td>101656</td>\n",
       "      <td>1220011 758098 112530 856005 105340 713747 107...</td>\n",
       "      <td>411707 1097851 1033823 720530 251102 816903 25...</td>\n",
       "      <td>2</td>\n",
       "      <td>774</td>\n",
       "      <td>458</td>\n",
       "    </tr>\n",
       "    <tr>\n",
       "      <th>101676</th>\n",
       "      <td>101676</td>\n",
       "      <td>101676</td>\n",
       "      <td>7368 979583 1209583 293908 967671 1057842 7974...</td>\n",
       "      <td>816903 282245 587224 962395 1226448 939457 816...</td>\n",
       "      <td>2</td>\n",
       "      <td>1606</td>\n",
       "      <td>1014</td>\n",
       "    </tr>\n",
       "    <tr>\n",
       "      <th>101699</th>\n",
       "      <td>101699</td>\n",
       "      <td>101699</td>\n",
       "      <td>1269463 646742 911283 625647 585998 348926 807...</td>\n",
       "      <td>888159 512376 85194 962375 34747 87376 572824 ...</td>\n",
       "      <td>2</td>\n",
       "      <td>421</td>\n",
       "      <td>235</td>\n",
       "    </tr>\n",
       "    <tr>\n",
       "      <th>101805</th>\n",
       "      <td>101805</td>\n",
       "      <td>101805</td>\n",
       "      <td>72184 748781 453516 1209583 459347 514351 1840...</td>\n",
       "      <td>1062133 144973 960860 1005033 674551 816903 57...</td>\n",
       "      <td>2</td>\n",
       "      <td>9837</td>\n",
       "      <td>5463</td>\n",
       "    </tr>\n",
       "    <tr>\n",
       "      <th>101857</th>\n",
       "      <td>101857</td>\n",
       "      <td>101857</td>\n",
       "      <td>581088 918076 139275 690980 1250524 838536 420...</td>\n",
       "      <td>1067791 1026025 1233002 961513 816903 135124 8...</td>\n",
       "      <td>2</td>\n",
       "      <td>3413</td>\n",
       "      <td>2045</td>\n",
       "    </tr>\n",
       "    <tr>\n",
       "      <th>101862</th>\n",
       "      <td>101862</td>\n",
       "      <td>101862</td>\n",
       "      <td>313405 7368 113290 313405 732391 713747 123032...</td>\n",
       "      <td>557146 816903 56573 1061562 427999 816903 4905...</td>\n",
       "      <td>2</td>\n",
       "      <td>577</td>\n",
       "      <td>317</td>\n",
       "    </tr>\n",
       "    <tr>\n",
       "      <th>101910</th>\n",
       "      <td>101910</td>\n",
       "      <td>101910</td>\n",
       "      <td>7368 1225691 359838 195449 365865 1160791 2992...</td>\n",
       "      <td>816903 403305 460600 661248 669476 599826 5204...</td>\n",
       "      <td>2</td>\n",
       "      <td>807</td>\n",
       "      <td>557</td>\n",
       "    </tr>\n",
       "    <tr>\n",
       "      <th>101967</th>\n",
       "      <td>101967</td>\n",
       "      <td>101967</td>\n",
       "      <td>29924 285569 219953 87936 760651 82849 538313 ...</td>\n",
       "      <td>412138 482411 290288 386932 1226448 816903 102...</td>\n",
       "      <td>2</td>\n",
       "      <td>2146</td>\n",
       "      <td>1374</td>\n",
       "    </tr>\n",
       "    <tr>\n",
       "      <th>101988</th>\n",
       "      <td>101988</td>\n",
       "      <td>101988</td>\n",
       "      <td>860679 1167313 31757 1022665 1007781 324149 45...</td>\n",
       "      <td>557307 514147 308132 693469 1181663 520477 967...</td>\n",
       "      <td>2</td>\n",
       "      <td>1010</td>\n",
       "      <td>607</td>\n",
       "    </tr>\n",
       "    <tr>\n",
       "      <th>102026</th>\n",
       "      <td>102026</td>\n",
       "      <td>102026</td>\n",
       "      <td>7368 623194 773255 887468 862363 79747 7368 83...</td>\n",
       "      <td>816903 64275 1132317 1226448 816903 233756 122...</td>\n",
       "      <td>2</td>\n",
       "      <td>5438</td>\n",
       "      <td>3348</td>\n",
       "    </tr>\n",
       "    <tr>\n",
       "      <th>102027</th>\n",
       "      <td>102027</td>\n",
       "      <td>102027</td>\n",
       "      <td>22232 195449 471443 595261 331227 249303 44287...</td>\n",
       "      <td>82976 588532 835037 768219 440903 816903 41794...</td>\n",
       "      <td>2</td>\n",
       "      <td>553</td>\n",
       "      <td>343</td>\n",
       "    </tr>\n",
       "    <tr>\n",
       "      <th>102102</th>\n",
       "      <td>102102</td>\n",
       "      <td>102102</td>\n",
       "      <td>7368 195449 743139 195449 160510 7368 1265539 ...</td>\n",
       "      <td>816903 965067 150661 816903 236744 816903 9908...</td>\n",
       "      <td>2</td>\n",
       "      <td>1600</td>\n",
       "      <td>989</td>\n",
       "    </tr>\n",
       "    <tr>\n",
       "      <th>102108</th>\n",
       "      <td>102108</td>\n",
       "      <td>102108</td>\n",
       "      <td>266913 7792 797945 968221 856005 155248 979713...</td>\n",
       "      <td>730920 1051465 1033823 508399 526298 1081305 5...</td>\n",
       "      <td>2</td>\n",
       "      <td>884</td>\n",
       "      <td>526</td>\n",
       "    </tr>\n",
       "    <tr>\n",
       "      <th>102125</th>\n",
       "      <td>102125</td>\n",
       "      <td>102125</td>\n",
       "      <td>376591 206763 6437 856005 1220011 1232729 7506...</td>\n",
       "      <td>1067311 1033823 1196641 778968 930754 460600 7...</td>\n",
       "      <td>2</td>\n",
       "      <td>253</td>\n",
       "      <td>158</td>\n",
       "    </tr>\n",
       "    <tr>\n",
       "      <th>102178</th>\n",
       "      <td>102178</td>\n",
       "      <td>102178</td>\n",
       "      <td>240433 358305 856005 658824 1269463 359838 456...</td>\n",
       "      <td>697306 1033823 449130 460600 177456 816903 460...</td>\n",
       "      <td>2</td>\n",
       "      <td>813</td>\n",
       "      <td>504</td>\n",
       "    </tr>\n",
       "    <tr>\n",
       "      <th>102256</th>\n",
       "      <td>102256</td>\n",
       "      <td>102256</td>\n",
       "      <td>537848 837240 669302 1111942 856005 670411 178...</td>\n",
       "      <td>1089809 54111 803740 1033823 163634 520477 116...</td>\n",
       "      <td>2</td>\n",
       "      <td>670</td>\n",
       "      <td>414</td>\n",
       "    </tr>\n",
       "  </tbody>\n",
       "</table>\n",
       "<p>2901 rows × 7 columns</p>\n",
       "</div>"
      ],
      "text/plain": [
       "        Unnamed: 0      id                                            article  \\\n",
       "23              23      23  330242 788037 40494 1080029 79747 7368 1015617...   \n",
       "40              40      40  881890 581131 1030656 626254 826453 581131 611...   \n",
       "89              89      89  415555 1269463 1176703 493242 249303 119827 77...   \n",
       "95              95      95  442871 177198 663773 873355 649585 1111942 736...   \n",
       "169            169     169  556634 837240 239992 530023 1123801 1218217 27...   \n",
       "176            176     176  7368 1177293 269807 656831 690980 206763 12596...   \n",
       "181            181     181  7368 1069392 776048 330242 758098 177198 83655...   \n",
       "197            197     197  7368 316709 171803 1266092 177198 7368 297797 ...   \n",
       "327            327     327  7368 1220011 1017514 7368 371412 103127 595261...   \n",
       "448            448     448  1035104 311096 75959 617883 348926 177198 8560...   \n",
       "454            454     454  1188406 797945 1259689 1103771 7368 1080029 11...   \n",
       "523            523     523  186887 1273519 1220011 790700 641588 605972 62...   \n",
       "530            530     530  669302 422632 595261 177198 1042214 7368 35983...   \n",
       "586            586     586  1077049 195449 124790 383866 559442 285876 436...   \n",
       "753            753     753  881890 581131 1030656 626254 87641 1115109 108...   \n",
       "824            824     824  538313 31240 139922 817220 187170 226739 10442...   \n",
       "839            839     839  7368 102015 544882 7368 569999 159592 998012 5...   \n",
       "840            840     840  996173 664699 666906 7368 518445 230719 132960...   \n",
       "1038          1038    1038  828236 1269463 7368 1177293 195449 907327 1219...   \n",
       "1101          1101    1101  730478 1212404 1150026 268683 206763 730478 42...   \n",
       "1131          1131    1131  7368 474675 222667 611112 599682 7368 1077049 ...   \n",
       "1146          1146    1146  7368 263884 1114890 907448 743139 42898 770757...   \n",
       "1167          1167    1167  1059994 452751 770757 265988 790700 420804 736...   \n",
       "1182          1182    1182  966819 780230 390051 625647 195356 354809 7368...   \n",
       "1225          1225    1225  27234 1108822 378979 846763 89539 4665 1044285...   \n",
       "1230          1230    1230  1219589 861608 112530 339099 163882 1093776 12...   \n",
       "1265          1265    1265  1155302 383866 486215 99552 921820 1242140 736...   \n",
       "1266          1266    1266  1160791 299237 1106142 291456 7792 7368 229154...   \n",
       "1267          1267    1267  263884 263884 1240468 542587 1219589 316564 76...   \n",
       "1371          1371    1371  957317 628499 504767 628499 1141594 664699 636...   \n",
       "...            ...     ...                                                ...   \n",
       "101135      101135  101135  667300 119827 799951 647942 195449 856005 1122...   \n",
       "101186      101186  101186  7368 848367 737544 359838 268876 6437 332929 8...   \n",
       "101225      101225  101225  134738 658824 1044285 837240 909573 427848 122...   \n",
       "101263      101263  101263  465761 1155302 1048690 1044285 354209 649585 7...   \n",
       "101268      101268  101268  7368 734011 639060 1103771 1091793 7368 793630...   \n",
       "101363      101363  101363  42610 979713 1145994 856005 1169505 171803 239...   \n",
       "101394      101394  101394  7368 836872 42789 1125206 394856 359838 195449...   \n",
       "101395      101395  101395  1030656 581131 581131 581131 1265539 1030656 5...   \n",
       "101396      101396  101396  7368 1030656 699820 849828 328717 641588 91628...   \n",
       "101441      101441  101441  661985 1025490 7368 7368 1219589 62534 482098 ...   \n",
       "101473      101473  101473  7368 7368 977266 964907 611112 599682 420804 7...   \n",
       "101553      101553  101553  881890 581131 1030656 626254 753262 365865 623...   \n",
       "101565      101565  101565  7368 7368 7368 186887 758098 943589 1044285 33...   \n",
       "101592      101592  101592  7368 647942 599682 393322 563158 466409 585998...   \n",
       "101656      101656  101656  1220011 758098 112530 856005 105340 713747 107...   \n",
       "101676      101676  101676  7368 979583 1209583 293908 967671 1057842 7974...   \n",
       "101699      101699  101699  1269463 646742 911283 625647 585998 348926 807...   \n",
       "101805      101805  101805  72184 748781 453516 1209583 459347 514351 1840...   \n",
       "101857      101857  101857  581088 918076 139275 690980 1250524 838536 420...   \n",
       "101862      101862  101862  313405 7368 113290 313405 732391 713747 123032...   \n",
       "101910      101910  101910  7368 1225691 359838 195449 365865 1160791 2992...   \n",
       "101967      101967  101967  29924 285569 219953 87936 760651 82849 538313 ...   \n",
       "101988      101988  101988  860679 1167313 31757 1022665 1007781 324149 45...   \n",
       "102026      102026  102026  7368 623194 773255 887468 862363 79747 7368 83...   \n",
       "102027      102027  102027  22232 195449 471443 595261 331227 249303 44287...   \n",
       "102102      102102  102102  7368 195449 743139 195449 160510 7368 1265539 ...   \n",
       "102108      102108  102108  266913 7792 797945 968221 856005 155248 979713...   \n",
       "102125      102125  102125  376591 206763 6437 856005 1220011 1232729 7506...   \n",
       "102178      102178  102178  240433 358305 856005 658824 1269463 359838 456...   \n",
       "102256      102256  102256  537848 837240 669302 1111942 856005 670411 178...   \n",
       "\n",
       "                                                 word_seg  article_class  \\\n",
       "23      713291 135124 1226448 816903 69892 520477 3696...              2   \n",
       "40      386754 166959 1234861 166959 866203 816903 816...              2   \n",
       "89      362928 273817 613610 834740 960761 1033823 248...              2   \n",
       "95      563297 1022450 816903 806905 277944 1122314 72...              2   \n",
       "169     3849 1127790 10188 806755 460600 1134165 13814...              2   \n",
       "176     816903 856115 289954 960860 1005033 674551 234...              2   \n",
       "181     816903 870553 260177 1138348 1033823 785181 10...              2   \n",
       "197     816903 36028 898058 816903 238458 561409 16695...              2   \n",
       "327     816903 16476 816903 1255425 433405 876569 8169...              2   \n",
       "448     1197717 114395 734667 1033823 229718 460600 73...              2   \n",
       "454     481058 1083160 816903 1141728 816903 481058 10...              2   \n",
       "523     844647 1032237 87727 1264884 63641 573761 1033...              2   \n",
       "530     985489 40445 816903 460600 553724 1033823 6252...              2   \n",
       "586     766772 72103 783993 541144 1119307 228070 5514...              2   \n",
       "753     386754 778979 600366 1005846 54111 1067570 816...              2   \n",
       "824     386932 454003 661350 1101966 520477 598948 186...              2   \n",
       "839     816903 591689 816903 1171681 1253787 1178429 8...              2   \n",
       "840     1197043 816903 235756 816903 612398 380428 121...              2   \n",
       "1038    287730 816903 37544 1025743 955021 792049 9904...              2   \n",
       "1101    633818 727530 1176105 633818 596474 774532 520...              2   \n",
       "1131    816903 1061507 340401 966562 816903 941582 490...              2   \n",
       "1146    816903 1146706 739280 426715 520477 1109510 33...              2   \n",
       "1167    730666 985047 133940 816903 91133 490535 11452...              2   \n",
       "1182    693588 1137386 212509 22666 816903 166959 1669...              2   \n",
       "1225    161505 1113110 652252 1134471 520477 250933 40...              2   \n",
       "1230    1025743 806720 564179 462569 403305 462569 520...              2   \n",
       "1265    73450 996399 909784 816903 268553 520477 76431...              2   \n",
       "1266    669476 638334 834740 816903 1133849 1064575 10...              2   \n",
       "1267    283853 98951 1025743 829191 324604 844647 1033...              2   \n",
       "1371    598526 816903 886866 816903 891499 663669 8483...              2   \n",
       "...                                                   ...            ...   \n",
       "101135  109807 1279582 589909 1033823 1145228 920327 4...              2   \n",
       "101186  816903 501257 460600 1134596 1019141 1033823 1...              2   \n",
       "101225  933419 520477 54111 287496 596474 411707 10338...              2   \n",
       "101263  1149092 503804 520477 978909 816903 61123 1115...              2   \n",
       "101268  816903 627250 271456 816903 203284 939470 6581...              2   \n",
       "101363  726082 1100357 1033823 252588 920327 726082 95...              2   \n",
       "101394  816903 1098157 1247384 930754 460600 696059 10...              2   \n",
       "101395  369538 236744 369538 816903 912149 816903 9298...              2   \n",
       "101396  816903 426716 1115586 1016062 730089 1084225 8...              2   \n",
       "101441  41553 816903 816903 1025743 397835 960860 9904...              2   \n",
       "101473  816903 816903 535449 340401 966562 133940 8169...              2   \n",
       "101553  386754 474247 554251 554251 701424 454003 1097...              2   \n",
       "101565  816903 816903 816903 844647 978326 520477 4343...              2   \n",
       "101592  816903 71823 600600 1160580 960230 520477 1206...              2   \n",
       "101656  411707 1097851 1033823 720530 251102 816903 25...              2   \n",
       "101676  816903 282245 587224 962395 1226448 939457 816...              2   \n",
       "101699  888159 512376 85194 962375 34747 87376 572824 ...              2   \n",
       "101805  1062133 144973 960860 1005033 674551 816903 57...              2   \n",
       "101857  1067791 1026025 1233002 961513 816903 135124 8...              2   \n",
       "101862  557146 816903 56573 1061562 427999 816903 4905...              2   \n",
       "101910  816903 403305 460600 661248 669476 599826 5204...              2   \n",
       "101967  412138 482411 290288 386932 1226448 816903 102...              2   \n",
       "101988  557307 514147 308132 693469 1181663 520477 967...              2   \n",
       "102026  816903 64275 1132317 1226448 816903 233756 122...              2   \n",
       "102027  82976 588532 835037 768219 440903 816903 41794...              2   \n",
       "102102  816903 965067 150661 816903 236744 816903 9908...              2   \n",
       "102108  730920 1051465 1033823 508399 526298 1081305 5...              2   \n",
       "102125  1067311 1033823 1196641 778968 930754 460600 7...              2   \n",
       "102178  697306 1033823 449130 460600 177456 816903 460...              2   \n",
       "102256  1089809 54111 803740 1033823 163634 520477 116...              2   \n",
       "\n",
       "        article_len  word_len  \n",
       "23             1344       748  \n",
       "40             1014       637  \n",
       "89             2516      1318  \n",
       "95              946       548  \n",
       "169             529       295  \n",
       "176             500       294  \n",
       "181            1356       819  \n",
       "197             302       193  \n",
       "327             184       115  \n",
       "448             477       301  \n",
       "454             321       186  \n",
       "523            1607      1012  \n",
       "530            1525       896  \n",
       "586            1515       921  \n",
       "753            1613      1022  \n",
       "824            3060      1808  \n",
       "839            2526      1520  \n",
       "840            3027      1835  \n",
       "1038           1205       729  \n",
       "1101           1327       792  \n",
       "1131           2474      1509  \n",
       "1146            703       418  \n",
       "1167           2377      1481  \n",
       "1182           1512      1025  \n",
       "1225           3267      2052  \n",
       "1230           1180       768  \n",
       "1265            520       353  \n",
       "1266           1516       885  \n",
       "1267           1260       737  \n",
       "1371           2544      1568  \n",
       "...             ...       ...  \n",
       "101135         1957      1258  \n",
       "101186          783       477  \n",
       "101225         2095      1260  \n",
       "101263         2321      1434  \n",
       "101268         1875      1058  \n",
       "101363         2506      1491  \n",
       "101394         1772      1053  \n",
       "101395         1033       668  \n",
       "101396         1903      1054  \n",
       "101441         2585      1529  \n",
       "101473          482       317  \n",
       "101553         2443      1443  \n",
       "101565         1050       687  \n",
       "101592          398       251  \n",
       "101656          774       458  \n",
       "101676         1606      1014  \n",
       "101699          421       235  \n",
       "101805         9837      5463  \n",
       "101857         3413      2045  \n",
       "101862          577       317  \n",
       "101910          807       557  \n",
       "101967         2146      1374  \n",
       "101988         1010       607  \n",
       "102026         5438      3348  \n",
       "102027          553       343  \n",
       "102102         1600       989  \n",
       "102108          884       526  \n",
       "102125          253       158  \n",
       "102178          813       504  \n",
       "102256          670       414  \n",
       "\n",
       "[2901 rows x 7 columns]"
      ]
     },
     "execution_count": 36,
     "metadata": {},
     "output_type": "execute_result"
    }
   ],
   "source": [
    "class2"
   ]
  },
  {
   "cell_type": "code",
   "execution_count": 37,
   "metadata": {
    "scrolled": true
   },
   "outputs": [
    {
     "data": {
      "text/html": [
       "<div>\n",
       "<style scoped>\n",
       "    .dataframe tbody tr th:only-of-type {\n",
       "        vertical-align: middle;\n",
       "    }\n",
       "\n",
       "    .dataframe tbody tr th {\n",
       "        vertical-align: top;\n",
       "    }\n",
       "\n",
       "    .dataframe thead th {\n",
       "        text-align: right;\n",
       "    }\n",
       "</style>\n",
       "<table border=\"1\" class=\"dataframe\">\n",
       "  <thead>\n",
       "    <tr style=\"text-align: right;\">\n",
       "      <th></th>\n",
       "      <th>Unnamed: 0</th>\n",
       "      <th>id</th>\n",
       "      <th>article</th>\n",
       "      <th>word_seg</th>\n",
       "      <th>article_class</th>\n",
       "      <th>article_len</th>\n",
       "      <th>word_len</th>\n",
       "    </tr>\n",
       "  </thead>\n",
       "  <tbody>\n",
       "    <tr>\n",
       "      <th>23</th>\n",
       "      <td>23</td>\n",
       "      <td>23</td>\n",
       "      <td>[330242, 0, 0, 1080029, 79747, 0, 0, 0, 0, 471...</td>\n",
       "      <td>[array([      0,  135124,       0,  816903,   ...</td>\n",
       "      <td>2</td>\n",
       "      <td>1344</td>\n",
       "      <td>748</td>\n",
       "    </tr>\n",
       "    <tr>\n",
       "      <th>40</th>\n",
       "      <td>40</td>\n",
       "      <td>40</td>\n",
       "      <td>[0, 0, 1030656, 626254, 0, 0, 611112, 826453, ...</td>\n",
       "      <td>[array([      0,  135124,       0,  816903,   ...</td>\n",
       "      <td>2</td>\n",
       "      <td>1014</td>\n",
       "      <td>637</td>\n",
       "    </tr>\n",
       "    <tr>\n",
       "      <th>89</th>\n",
       "      <td>89</td>\n",
       "      <td>89</td>\n",
       "      <td>[415555, 0, 0, 0, 0, 0, 7792, 0, 1161763, 6860...</td>\n",
       "      <td>[array([      0,  135124,       0,  816903,   ...</td>\n",
       "      <td>2</td>\n",
       "      <td>2516</td>\n",
       "      <td>1318</td>\n",
       "    </tr>\n",
       "    <tr>\n",
       "      <th>95</th>\n",
       "      <td>95</td>\n",
       "      <td>95</td>\n",
       "      <td>[442871, 0, 663773, 873355, 649585, 0, 0, 0, 3...</td>\n",
       "      <td>[array([      0,  135124,       0,  816903,   ...</td>\n",
       "      <td>2</td>\n",
       "      <td>946</td>\n",
       "      <td>548</td>\n",
       "    </tr>\n",
       "    <tr>\n",
       "      <th>169</th>\n",
       "      <td>169</td>\n",
       "      <td>169</td>\n",
       "      <td>[556634, 837240, 0, 0, 1123801, 1218217, 27271...</td>\n",
       "      <td>[array([      0,  135124,       0,  816903,   ...</td>\n",
       "      <td>2</td>\n",
       "      <td>529</td>\n",
       "      <td>295</td>\n",
       "    </tr>\n",
       "    <tr>\n",
       "      <th>176</th>\n",
       "      <td>176</td>\n",
       "      <td>176</td>\n",
       "      <td>[0, 1177293, 269807, 656831, 690980, 206763, 1...</td>\n",
       "      <td>[array([      0,  135124,       0,  816903,   ...</td>\n",
       "      <td>2</td>\n",
       "      <td>500</td>\n",
       "      <td>294</td>\n",
       "    </tr>\n",
       "    <tr>\n",
       "      <th>181</th>\n",
       "      <td>181</td>\n",
       "      <td>181</td>\n",
       "      <td>[7368, 1069392, 776048, 330242, 758098, 177198...</td>\n",
       "      <td>[array([      0,  135124,       0,  816903,   ...</td>\n",
       "      <td>2</td>\n",
       "      <td>1356</td>\n",
       "      <td>819</td>\n",
       "    </tr>\n",
       "    <tr>\n",
       "      <th>197</th>\n",
       "      <td>197</td>\n",
       "      <td>197</td>\n",
       "      <td>[0, 0, 171803, 1266092, 177198, 7368, 297797, ...</td>\n",
       "      <td>[array([      0,  135124,       0,  816903,   ...</td>\n",
       "      <td>2</td>\n",
       "      <td>302</td>\n",
       "      <td>193</td>\n",
       "    </tr>\n",
       "    <tr>\n",
       "      <th>327</th>\n",
       "      <td>327</td>\n",
       "      <td>327</td>\n",
       "      <td>[0, 0, 1017514, 7368, 371412, 0, 0, 0, 308719,...</td>\n",
       "      <td>[array([      0,  135124,       0,  816903,   ...</td>\n",
       "      <td>2</td>\n",
       "      <td>184</td>\n",
       "      <td>115</td>\n",
       "    </tr>\n",
       "    <tr>\n",
       "      <th>448</th>\n",
       "      <td>448</td>\n",
       "      <td>448</td>\n",
       "      <td>[1035104, 0, 75959, 617883, 0, 177198, 856005,...</td>\n",
       "      <td>[array([      0,  135124,       0,  816903,   ...</td>\n",
       "      <td>2</td>\n",
       "      <td>477</td>\n",
       "      <td>301</td>\n",
       "    </tr>\n",
       "    <tr>\n",
       "      <th>454</th>\n",
       "      <td>454</td>\n",
       "      <td>454</td>\n",
       "      <td>[1188406, 0, 1259689, 0, 0, 0, 0, 7368, 118840...</td>\n",
       "      <td>[array([      0,  135124,       0,  816903,   ...</td>\n",
       "      <td>2</td>\n",
       "      <td>321</td>\n",
       "      <td>186</td>\n",
       "    </tr>\n",
       "    <tr>\n",
       "      <th>523</th>\n",
       "      <td>523</td>\n",
       "      <td>523</td>\n",
       "      <td>[0, 1273519, 0, 0, 641588, 0, 623194, 0, 76227...</td>\n",
       "      <td>[array([      0,  135124,       0,  816903,   ...</td>\n",
       "      <td>2</td>\n",
       "      <td>1607</td>\n",
       "      <td>1012</td>\n",
       "    </tr>\n",
       "    <tr>\n",
       "      <th>530</th>\n",
       "      <td>530</td>\n",
       "      <td>530</td>\n",
       "      <td>[669302, 422632, 595261, 177198, 0, 7368, 3598...</td>\n",
       "      <td>[array([      0,  135124,       0,  816903,   ...</td>\n",
       "      <td>2</td>\n",
       "      <td>1525</td>\n",
       "      <td>896</td>\n",
       "    </tr>\n",
       "    <tr>\n",
       "      <th>586</th>\n",
       "      <td>586</td>\n",
       "      <td>586</td>\n",
       "      <td>[1077049, 195449, 124790, 383866, 559442, 2858...</td>\n",
       "      <td>[array([      0,  135124,       0,  816903,   ...</td>\n",
       "      <td>2</td>\n",
       "      <td>1515</td>\n",
       "      <td>921</td>\n",
       "    </tr>\n",
       "    <tr>\n",
       "      <th>753</th>\n",
       "      <td>753</td>\n",
       "      <td>753</td>\n",
       "      <td>[0, 0, 1030656, 0, 87641, 1115109, 0, 268876, ...</td>\n",
       "      <td>[array([      0,  135124,       0,  816903,   ...</td>\n",
       "      <td>2</td>\n",
       "      <td>1613</td>\n",
       "      <td>1022</td>\n",
       "    </tr>\n",
       "    <tr>\n",
       "      <th>824</th>\n",
       "      <td>824</td>\n",
       "      <td>824</td>\n",
       "      <td>[0, 0, 139922, 817220, 0, 0, 0, 145611, 493242...</td>\n",
       "      <td>[array([      0,  135124,       0,  816903,   ...</td>\n",
       "      <td>2</td>\n",
       "      <td>3060</td>\n",
       "      <td>1808</td>\n",
       "    </tr>\n",
       "    <tr>\n",
       "      <th>839</th>\n",
       "      <td>839</td>\n",
       "      <td>839</td>\n",
       "      <td>[0, 102015, 0, 7368, 569999, 159592, 998012, 5...</td>\n",
       "      <td>[array([      0,  135124,       0,  816903,   ...</td>\n",
       "      <td>2</td>\n",
       "      <td>2526</td>\n",
       "      <td>1520</td>\n",
       "    </tr>\n",
       "    <tr>\n",
       "      <th>840</th>\n",
       "      <td>840</td>\n",
       "      <td>840</td>\n",
       "      <td>[996173, 664699, 666906, 7368, 518445, 0, 0, 0...</td>\n",
       "      <td>[array([      0,  135124,       0,  816903,   ...</td>\n",
       "      <td>2</td>\n",
       "      <td>3027</td>\n",
       "      <td>1835</td>\n",
       "    </tr>\n",
       "    <tr>\n",
       "      <th>1038</th>\n",
       "      <td>1038</td>\n",
       "      <td>1038</td>\n",
       "      <td>[828236, 1269463, 7368, 0, 195449, 907327, 0, ...</td>\n",
       "      <td>[array([      0,  135124,       0,  816903,   ...</td>\n",
       "      <td>2</td>\n",
       "      <td>1205</td>\n",
       "      <td>729</td>\n",
       "    </tr>\n",
       "    <tr>\n",
       "      <th>1101</th>\n",
       "      <td>1101</td>\n",
       "      <td>1101</td>\n",
       "      <td>[730478, 1212404, 1150026, 268683, 0, 730478, ...</td>\n",
       "      <td>[array([      0,  135124,       0,  816903,   ...</td>\n",
       "      <td>2</td>\n",
       "      <td>1327</td>\n",
       "      <td>792</td>\n",
       "    </tr>\n",
       "    <tr>\n",
       "      <th>1131</th>\n",
       "      <td>1131</td>\n",
       "      <td>1131</td>\n",
       "      <td>[7368, 0, 0, 0, 599682, 7368, 1077049, 545638,...</td>\n",
       "      <td>[array([      0,  135124,       0,  816903,   ...</td>\n",
       "      <td>2</td>\n",
       "      <td>2474</td>\n",
       "      <td>1509</td>\n",
       "    </tr>\n",
       "    <tr>\n",
       "      <th>1146</th>\n",
       "      <td>1146</td>\n",
       "      <td>1146</td>\n",
       "      <td>[7368, 263884, 1114890, 907448, 743139, 42898,...</td>\n",
       "      <td>[array([      0,  135124,       0,  816903,   ...</td>\n",
       "      <td>2</td>\n",
       "      <td>703</td>\n",
       "      <td>418</td>\n",
       "    </tr>\n",
       "    <tr>\n",
       "      <th>1167</th>\n",
       "      <td>1167</td>\n",
       "      <td>1167</td>\n",
       "      <td>[1059994, 0, 0, 265988, 790700, 0, 7368, 12140...</td>\n",
       "      <td>[array([      0,  135124,       0,  816903,   ...</td>\n",
       "      <td>2</td>\n",
       "      <td>2377</td>\n",
       "      <td>1481</td>\n",
       "    </tr>\n",
       "    <tr>\n",
       "      <th>1182</th>\n",
       "      <td>1182</td>\n",
       "      <td>1182</td>\n",
       "      <td>[0, 0, 390051, 0, 195356, 0, 7368, 826453, 0, ...</td>\n",
       "      <td>[array([      0,  135124,       0,  816903,   ...</td>\n",
       "      <td>2</td>\n",
       "      <td>1512</td>\n",
       "      <td>1025</td>\n",
       "    </tr>\n",
       "    <tr>\n",
       "      <th>1225</th>\n",
       "      <td>1225</td>\n",
       "      <td>1225</td>\n",
       "      <td>[27234, 1108822, 0, 0, 0, 4665, 1044285, 41442...</td>\n",
       "      <td>[array([      0,  135124,       0,  816903,   ...</td>\n",
       "      <td>2</td>\n",
       "      <td>3267</td>\n",
       "      <td>2052</td>\n",
       "    </tr>\n",
       "    <tr>\n",
       "      <th>1230</th>\n",
       "      <td>1230</td>\n",
       "      <td>1230</td>\n",
       "      <td>[0, 861608, 0, 0, 163882, 1093776, 0, 1093776,...</td>\n",
       "      <td>[array([      0,  135124,       0,  816903,   ...</td>\n",
       "      <td>2</td>\n",
       "      <td>1180</td>\n",
       "      <td>768</td>\n",
       "    </tr>\n",
       "    <tr>\n",
       "      <th>1265</th>\n",
       "      <td>1265</td>\n",
       "      <td>1265</td>\n",
       "      <td>[0, 383866, 0, 0, 921820, 0, 0, 195449, 124214...</td>\n",
       "      <td>[array([      0,  135124,       0,  816903,   ...</td>\n",
       "      <td>2</td>\n",
       "      <td>520</td>\n",
       "      <td>353</td>\n",
       "    </tr>\n",
       "    <tr>\n",
       "      <th>1266</th>\n",
       "      <td>1266</td>\n",
       "      <td>1266</td>\n",
       "      <td>[1160791, 0, 1106142, 291456, 0, 7368, 229154,...</td>\n",
       "      <td>[array([      0,  135124,       0,  816903,   ...</td>\n",
       "      <td>2</td>\n",
       "      <td>1516</td>\n",
       "      <td>885</td>\n",
       "    </tr>\n",
       "    <tr>\n",
       "      <th>1267</th>\n",
       "      <td>1267</td>\n",
       "      <td>1267</td>\n",
       "      <td>[263884, 263884, 0, 542587, 0, 316564, 760651,...</td>\n",
       "      <td>[array([      0,  135124,       0,  816903,   ...</td>\n",
       "      <td>2</td>\n",
       "      <td>1260</td>\n",
       "      <td>737</td>\n",
       "    </tr>\n",
       "    <tr>\n",
       "      <th>1371</th>\n",
       "      <td>1371</td>\n",
       "      <td>1371</td>\n",
       "      <td>[0, 628499, 504767, 0, 1141594, 664699, 0, 365...</td>\n",
       "      <td>[array([      0,  135124,       0,  816903,   ...</td>\n",
       "      <td>2</td>\n",
       "      <td>2544</td>\n",
       "      <td>1568</td>\n",
       "    </tr>\n",
       "    <tr>\n",
       "      <th>...</th>\n",
       "      <td>...</td>\n",
       "      <td>...</td>\n",
       "      <td>...</td>\n",
       "      <td>...</td>\n",
       "      <td>...</td>\n",
       "      <td>...</td>\n",
       "      <td>...</td>\n",
       "    </tr>\n",
       "    <tr>\n",
       "      <th>101135</th>\n",
       "      <td>101135</td>\n",
       "      <td>101135</td>\n",
       "      <td>[667300, 119827, 0, 0, 195449, 856005, 1122654...</td>\n",
       "      <td>[array([      0,  135124,       0,  816903,   ...</td>\n",
       "      <td>2</td>\n",
       "      <td>1957</td>\n",
       "      <td>1258</td>\n",
       "    </tr>\n",
       "    <tr>\n",
       "      <th>101186</th>\n",
       "      <td>101186</td>\n",
       "      <td>101186</td>\n",
       "      <td>[0, 0, 737544, 0, 268876, 6437, 0, 856005, 690...</td>\n",
       "      <td>[array([      0,  135124,       0,  816903,   ...</td>\n",
       "      <td>2</td>\n",
       "      <td>783</td>\n",
       "      <td>477</td>\n",
       "    </tr>\n",
       "    <tr>\n",
       "      <th>101225</th>\n",
       "      <td>101225</td>\n",
       "      <td>101225</td>\n",
       "      <td>[0, 658824, 1044285, 0, 0, 0, 0, 0, 664581, 0,...</td>\n",
       "      <td>[array([      0,  135124,       0,  816903,   ...</td>\n",
       "      <td>2</td>\n",
       "      <td>2095</td>\n",
       "      <td>1260</td>\n",
       "    </tr>\n",
       "    <tr>\n",
       "      <th>101263</th>\n",
       "      <td>101263</td>\n",
       "      <td>101263</td>\n",
       "      <td>[465761, 0, 1048690, 1044285, 354209, 649585, ...</td>\n",
       "      <td>[array([      0,  135124,       0,  816903,   ...</td>\n",
       "      <td>2</td>\n",
       "      <td>2321</td>\n",
       "      <td>1434</td>\n",
       "    </tr>\n",
       "    <tr>\n",
       "      <th>101268</th>\n",
       "      <td>101268</td>\n",
       "      <td>101268</td>\n",
       "      <td>[7368, 0, 639060, 1103771, 0, 7368, 793630, 59...</td>\n",
       "      <td>[array([      0,  135124,       0,  816903,   ...</td>\n",
       "      <td>2</td>\n",
       "      <td>1875</td>\n",
       "      <td>1058</td>\n",
       "    </tr>\n",
       "    <tr>\n",
       "      <th>101363</th>\n",
       "      <td>101363</td>\n",
       "      <td>101363</td>\n",
       "      <td>[42610, 0, 0, 0, 0, 171803, 239755, 42610, 0, ...</td>\n",
       "      <td>[array([      0,  135124,       0,  816903,   ...</td>\n",
       "      <td>2</td>\n",
       "      <td>2506</td>\n",
       "      <td>1491</td>\n",
       "    </tr>\n",
       "    <tr>\n",
       "      <th>101394</th>\n",
       "      <td>101394</td>\n",
       "      <td>101394</td>\n",
       "      <td>[0, 0, 42789, 1125206, 0, 359838, 195449, 0, 3...</td>\n",
       "      <td>[array([      0,  135124,       0,  816903,   ...</td>\n",
       "      <td>2</td>\n",
       "      <td>1772</td>\n",
       "      <td>1053</td>\n",
       "    </tr>\n",
       "    <tr>\n",
       "      <th>101395</th>\n",
       "      <td>101395</td>\n",
       "      <td>101395</td>\n",
       "      <td>[1030656, 0, 0, 581131, 1265539, 1030656, 0, 0...</td>\n",
       "      <td>[array([      0,  135124,       0,  816903,   ...</td>\n",
       "      <td>2</td>\n",
       "      <td>1033</td>\n",
       "      <td>668</td>\n",
       "    </tr>\n",
       "    <tr>\n",
       "      <th>101396</th>\n",
       "      <td>101396</td>\n",
       "      <td>101396</td>\n",
       "      <td>[0, 1030656, 0, 849828, 0, 641588, 916286, 184...</td>\n",
       "      <td>[array([      0,  135124,       0,  816903,   ...</td>\n",
       "      <td>2</td>\n",
       "      <td>1903</td>\n",
       "      <td>1054</td>\n",
       "    </tr>\n",
       "    <tr>\n",
       "      <th>101441</th>\n",
       "      <td>101441</td>\n",
       "      <td>101441</td>\n",
       "      <td>[661985, 1025490, 0, 0, 0, 0, 482098, 0, 0, 11...</td>\n",
       "      <td>[array([      0,  135124,       0,  816903,   ...</td>\n",
       "      <td>2</td>\n",
       "      <td>2585</td>\n",
       "      <td>1529</td>\n",
       "    </tr>\n",
       "    <tr>\n",
       "      <th>101473</th>\n",
       "      <td>101473</td>\n",
       "      <td>101473</td>\n",
       "      <td>[7368, 7368, 977266, 0, 0, 0, 420804, 7368, 21...</td>\n",
       "      <td>[array([      0,  135124,       0,  816903,   ...</td>\n",
       "      <td>2</td>\n",
       "      <td>482</td>\n",
       "      <td>317</td>\n",
       "    </tr>\n",
       "    <tr>\n",
       "      <th>101553</th>\n",
       "      <td>101553</td>\n",
       "      <td>101553</td>\n",
       "      <td>[0, 581131, 1030656, 0, 753262, 365865, 623194...</td>\n",
       "      <td>[array([      0,  135124,       0,  816903,   ...</td>\n",
       "      <td>2</td>\n",
       "      <td>2443</td>\n",
       "      <td>1443</td>\n",
       "    </tr>\n",
       "    <tr>\n",
       "      <th>101565</th>\n",
       "      <td>101565</td>\n",
       "      <td>101565</td>\n",
       "      <td>[7368, 0, 7368, 0, 758098, 943589, 0, 337797, ...</td>\n",
       "      <td>[array([      0,  135124,       0,  816903,   ...</td>\n",
       "      <td>2</td>\n",
       "      <td>1050</td>\n",
       "      <td>687</td>\n",
       "    </tr>\n",
       "    <tr>\n",
       "      <th>101592</th>\n",
       "      <td>101592</td>\n",
       "      <td>101592</td>\n",
       "      <td>[7368, 647942, 599682, 393322, 0, 466409, 5859...</td>\n",
       "      <td>[array([      0,  135124,       0,  816903,   ...</td>\n",
       "      <td>2</td>\n",
       "      <td>398</td>\n",
       "      <td>251</td>\n",
       "    </tr>\n",
       "    <tr>\n",
       "      <th>101656</th>\n",
       "      <td>101656</td>\n",
       "      <td>101656</td>\n",
       "      <td>[0, 758098, 112530, 0, 105340, 0, 1076236, 0, ...</td>\n",
       "      <td>[array([      0,  135124,       0,  816903,   ...</td>\n",
       "      <td>2</td>\n",
       "      <td>774</td>\n",
       "      <td>458</td>\n",
       "    </tr>\n",
       "    <tr>\n",
       "      <th>101676</th>\n",
       "      <td>101676</td>\n",
       "      <td>101676</td>\n",
       "      <td>[7368, 979583, 1209583, 293908, 0, 0, 79747, 3...</td>\n",
       "      <td>[array([      0,  135124,       0,  816903,   ...</td>\n",
       "      <td>2</td>\n",
       "      <td>1606</td>\n",
       "      <td>1014</td>\n",
       "    </tr>\n",
       "    <tr>\n",
       "      <th>101699</th>\n",
       "      <td>101699</td>\n",
       "      <td>101699</td>\n",
       "      <td>[1269463, 646742, 0, 625647, 0, 0, 807565, 622...</td>\n",
       "      <td>[array([      0,  135124,       0,  816903,   ...</td>\n",
       "      <td>2</td>\n",
       "      <td>421</td>\n",
       "      <td>235</td>\n",
       "    </tr>\n",
       "    <tr>\n",
       "      <th>101805</th>\n",
       "      <td>101805</td>\n",
       "      <td>101805</td>\n",
       "      <td>[0, 0, 0, 0, 459347, 514351, 184021, 1261099, ...</td>\n",
       "      <td>[array([      0,  135124,       0,  816903,   ...</td>\n",
       "      <td>2</td>\n",
       "      <td>9837</td>\n",
       "      <td>5463</td>\n",
       "    </tr>\n",
       "    <tr>\n",
       "      <th>101857</th>\n",
       "      <td>101857</td>\n",
       "      <td>101857</td>\n",
       "      <td>[581088, 918076, 0, 690980, 1250524, 838536, 0...</td>\n",
       "      <td>[array([      0,  135124,       0,  816903,   ...</td>\n",
       "      <td>2</td>\n",
       "      <td>3413</td>\n",
       "      <td>2045</td>\n",
       "    </tr>\n",
       "    <tr>\n",
       "      <th>101862</th>\n",
       "      <td>101862</td>\n",
       "      <td>101862</td>\n",
       "      <td>[313405, 0, 113290, 0, 0, 0, 1230324, 0, 0, 73...</td>\n",
       "      <td>[array([      0,  135124,       0,  816903,   ...</td>\n",
       "      <td>2</td>\n",
       "      <td>577</td>\n",
       "      <td>317</td>\n",
       "    </tr>\n",
       "    <tr>\n",
       "      <th>101910</th>\n",
       "      <td>101910</td>\n",
       "      <td>101910</td>\n",
       "      <td>[0, 0, 0, 0, 365865, 0, 299237, 0, 1044285, 73...</td>\n",
       "      <td>[array([      0,  135124,       0,  816903,   ...</td>\n",
       "      <td>2</td>\n",
       "      <td>807</td>\n",
       "      <td>557</td>\n",
       "    </tr>\n",
       "    <tr>\n",
       "      <th>101967</th>\n",
       "      <td>101967</td>\n",
       "      <td>101967</td>\n",
       "      <td>[0, 0, 219953, 0, 760651, 82849, 0, 0, 7368, 0...</td>\n",
       "      <td>[array([      0,  135124,       0,  816903,   ...</td>\n",
       "      <td>2</td>\n",
       "      <td>2146</td>\n",
       "      <td>1374</td>\n",
       "    </tr>\n",
       "    <tr>\n",
       "      <th>101988</th>\n",
       "      <td>101988</td>\n",
       "      <td>101988</td>\n",
       "      <td>[860679, 0, 31757, 0, 0, 324149, 459347, 0, 0,...</td>\n",
       "      <td>[array([      0,  135124,       0,  816903,   ...</td>\n",
       "      <td>2</td>\n",
       "      <td>1010</td>\n",
       "      <td>607</td>\n",
       "    </tr>\n",
       "    <tr>\n",
       "      <th>102026</th>\n",
       "      <td>102026</td>\n",
       "      <td>102026</td>\n",
       "      <td>[0, 623194, 773255, 887468, 862363, 0, 7368, 8...</td>\n",
       "      <td>[array([      0,  135124,       0,  816903,   ...</td>\n",
       "      <td>2</td>\n",
       "      <td>5438</td>\n",
       "      <td>3348</td>\n",
       "    </tr>\n",
       "    <tr>\n",
       "      <th>102027</th>\n",
       "      <td>102027</td>\n",
       "      <td>102027</td>\n",
       "      <td>[0, 195449, 471443, 595261, 331227, 0, 442871,...</td>\n",
       "      <td>[array([      0,  135124,       0,  816903,   ...</td>\n",
       "      <td>2</td>\n",
       "      <td>553</td>\n",
       "      <td>343</td>\n",
       "    </tr>\n",
       "    <tr>\n",
       "      <th>102102</th>\n",
       "      <td>102102</td>\n",
       "      <td>102102</td>\n",
       "      <td>[0, 195449, 743139, 0, 0, 7368, 0, 0, 0, 59526...</td>\n",
       "      <td>[array([      0,  135124,       0,  816903,   ...</td>\n",
       "      <td>2</td>\n",
       "      <td>1600</td>\n",
       "      <td>989</td>\n",
       "    </tr>\n",
       "    <tr>\n",
       "      <th>102108</th>\n",
       "      <td>102108</td>\n",
       "      <td>102108</td>\n",
       "      <td>[266913, 0, 0, 968221, 0, 0, 979713, 251131, 1...</td>\n",
       "      <td>[array([      0,  135124,       0,  816903,   ...</td>\n",
       "      <td>2</td>\n",
       "      <td>884</td>\n",
       "      <td>526</td>\n",
       "    </tr>\n",
       "    <tr>\n",
       "      <th>102125</th>\n",
       "      <td>102125</td>\n",
       "      <td>102125</td>\n",
       "      <td>[0, 0, 0, 0, 1220011, 1232729, 750606, 713747,...</td>\n",
       "      <td>[array([      0,  135124,       0,  816903,   ...</td>\n",
       "      <td>2</td>\n",
       "      <td>253</td>\n",
       "      <td>158</td>\n",
       "    </tr>\n",
       "    <tr>\n",
       "      <th>102178</th>\n",
       "      <td>102178</td>\n",
       "      <td>102178</td>\n",
       "      <td>[0, 358305, 856005, 0, 0, 359838, 456335, 1159...</td>\n",
       "      <td>[array([      0,  135124,       0,  816903,   ...</td>\n",
       "      <td>2</td>\n",
       "      <td>813</td>\n",
       "      <td>504</td>\n",
       "    </tr>\n",
       "    <tr>\n",
       "      <th>102256</th>\n",
       "      <td>102256</td>\n",
       "      <td>102256</td>\n",
       "      <td>[537848, 837240, 669302, 0, 0, 670411, 0, 0, 0...</td>\n",
       "      <td>[array([      0,  135124,       0,  816903,   ...</td>\n",
       "      <td>2</td>\n",
       "      <td>670</td>\n",
       "      <td>414</td>\n",
       "    </tr>\n",
       "  </tbody>\n",
       "</table>\n",
       "<p>2901 rows × 7 columns</p>\n",
       "</div>"
      ],
      "text/plain": [
       "        Unnamed: 0      id                                            article  \\\n",
       "23              23      23  [330242, 0, 0, 1080029, 79747, 0, 0, 0, 0, 471...   \n",
       "40              40      40  [0, 0, 1030656, 626254, 0, 0, 611112, 826453, ...   \n",
       "89              89      89  [415555, 0, 0, 0, 0, 0, 7792, 0, 1161763, 6860...   \n",
       "95              95      95  [442871, 0, 663773, 873355, 649585, 0, 0, 0, 3...   \n",
       "169            169     169  [556634, 837240, 0, 0, 1123801, 1218217, 27271...   \n",
       "176            176     176  [0, 1177293, 269807, 656831, 690980, 206763, 1...   \n",
       "181            181     181  [7368, 1069392, 776048, 330242, 758098, 177198...   \n",
       "197            197     197  [0, 0, 171803, 1266092, 177198, 7368, 297797, ...   \n",
       "327            327     327  [0, 0, 1017514, 7368, 371412, 0, 0, 0, 308719,...   \n",
       "448            448     448  [1035104, 0, 75959, 617883, 0, 177198, 856005,...   \n",
       "454            454     454  [1188406, 0, 1259689, 0, 0, 0, 0, 7368, 118840...   \n",
       "523            523     523  [0, 1273519, 0, 0, 641588, 0, 623194, 0, 76227...   \n",
       "530            530     530  [669302, 422632, 595261, 177198, 0, 7368, 3598...   \n",
       "586            586     586  [1077049, 195449, 124790, 383866, 559442, 2858...   \n",
       "753            753     753  [0, 0, 1030656, 0, 87641, 1115109, 0, 268876, ...   \n",
       "824            824     824  [0, 0, 139922, 817220, 0, 0, 0, 145611, 493242...   \n",
       "839            839     839  [0, 102015, 0, 7368, 569999, 159592, 998012, 5...   \n",
       "840            840     840  [996173, 664699, 666906, 7368, 518445, 0, 0, 0...   \n",
       "1038          1038    1038  [828236, 1269463, 7368, 0, 195449, 907327, 0, ...   \n",
       "1101          1101    1101  [730478, 1212404, 1150026, 268683, 0, 730478, ...   \n",
       "1131          1131    1131  [7368, 0, 0, 0, 599682, 7368, 1077049, 545638,...   \n",
       "1146          1146    1146  [7368, 263884, 1114890, 907448, 743139, 42898,...   \n",
       "1167          1167    1167  [1059994, 0, 0, 265988, 790700, 0, 7368, 12140...   \n",
       "1182          1182    1182  [0, 0, 390051, 0, 195356, 0, 7368, 826453, 0, ...   \n",
       "1225          1225    1225  [27234, 1108822, 0, 0, 0, 4665, 1044285, 41442...   \n",
       "1230          1230    1230  [0, 861608, 0, 0, 163882, 1093776, 0, 1093776,...   \n",
       "1265          1265    1265  [0, 383866, 0, 0, 921820, 0, 0, 195449, 124214...   \n",
       "1266          1266    1266  [1160791, 0, 1106142, 291456, 0, 7368, 229154,...   \n",
       "1267          1267    1267  [263884, 263884, 0, 542587, 0, 316564, 760651,...   \n",
       "1371          1371    1371  [0, 628499, 504767, 0, 1141594, 664699, 0, 365...   \n",
       "...            ...     ...                                                ...   \n",
       "101135      101135  101135  [667300, 119827, 0, 0, 195449, 856005, 1122654...   \n",
       "101186      101186  101186  [0, 0, 737544, 0, 268876, 6437, 0, 856005, 690...   \n",
       "101225      101225  101225  [0, 658824, 1044285, 0, 0, 0, 0, 0, 664581, 0,...   \n",
       "101263      101263  101263  [465761, 0, 1048690, 1044285, 354209, 649585, ...   \n",
       "101268      101268  101268  [7368, 0, 639060, 1103771, 0, 7368, 793630, 59...   \n",
       "101363      101363  101363  [42610, 0, 0, 0, 0, 171803, 239755, 42610, 0, ...   \n",
       "101394      101394  101394  [0, 0, 42789, 1125206, 0, 359838, 195449, 0, 3...   \n",
       "101395      101395  101395  [1030656, 0, 0, 581131, 1265539, 1030656, 0, 0...   \n",
       "101396      101396  101396  [0, 1030656, 0, 849828, 0, 641588, 916286, 184...   \n",
       "101441      101441  101441  [661985, 1025490, 0, 0, 0, 0, 482098, 0, 0, 11...   \n",
       "101473      101473  101473  [7368, 7368, 977266, 0, 0, 0, 420804, 7368, 21...   \n",
       "101553      101553  101553  [0, 581131, 1030656, 0, 753262, 365865, 623194...   \n",
       "101565      101565  101565  [7368, 0, 7368, 0, 758098, 943589, 0, 337797, ...   \n",
       "101592      101592  101592  [7368, 647942, 599682, 393322, 0, 466409, 5859...   \n",
       "101656      101656  101656  [0, 758098, 112530, 0, 105340, 0, 1076236, 0, ...   \n",
       "101676      101676  101676  [7368, 979583, 1209583, 293908, 0, 0, 79747, 3...   \n",
       "101699      101699  101699  [1269463, 646742, 0, 625647, 0, 0, 807565, 622...   \n",
       "101805      101805  101805  [0, 0, 0, 0, 459347, 514351, 184021, 1261099, ...   \n",
       "101857      101857  101857  [581088, 918076, 0, 690980, 1250524, 838536, 0...   \n",
       "101862      101862  101862  [313405, 0, 113290, 0, 0, 0, 1230324, 0, 0, 73...   \n",
       "101910      101910  101910  [0, 0, 0, 0, 365865, 0, 299237, 0, 1044285, 73...   \n",
       "101967      101967  101967  [0, 0, 219953, 0, 760651, 82849, 0, 0, 7368, 0...   \n",
       "101988      101988  101988  [860679, 0, 31757, 0, 0, 324149, 459347, 0, 0,...   \n",
       "102026      102026  102026  [0, 623194, 773255, 887468, 862363, 0, 7368, 8...   \n",
       "102027      102027  102027  [0, 195449, 471443, 595261, 331227, 0, 442871,...   \n",
       "102102      102102  102102  [0, 195449, 743139, 0, 0, 7368, 0, 0, 0, 59526...   \n",
       "102108      102108  102108  [266913, 0, 0, 968221, 0, 0, 979713, 251131, 1...   \n",
       "102125      102125  102125  [0, 0, 0, 0, 1220011, 1232729, 750606, 713747,...   \n",
       "102178      102178  102178  [0, 358305, 856005, 0, 0, 359838, 456335, 1159...   \n",
       "102256      102256  102256  [537848, 837240, 669302, 0, 0, 670411, 0, 0, 0...   \n",
       "\n",
       "                                                 word_seg  article_class  \\\n",
       "23      [array([      0,  135124,       0,  816903,   ...              2   \n",
       "40      [array([      0,  135124,       0,  816903,   ...              2   \n",
       "89      [array([      0,  135124,       0,  816903,   ...              2   \n",
       "95      [array([      0,  135124,       0,  816903,   ...              2   \n",
       "169     [array([      0,  135124,       0,  816903,   ...              2   \n",
       "176     [array([      0,  135124,       0,  816903,   ...              2   \n",
       "181     [array([      0,  135124,       0,  816903,   ...              2   \n",
       "197     [array([      0,  135124,       0,  816903,   ...              2   \n",
       "327     [array([      0,  135124,       0,  816903,   ...              2   \n",
       "448     [array([      0,  135124,       0,  816903,   ...              2   \n",
       "454     [array([      0,  135124,       0,  816903,   ...              2   \n",
       "523     [array([      0,  135124,       0,  816903,   ...              2   \n",
       "530     [array([      0,  135124,       0,  816903,   ...              2   \n",
       "586     [array([      0,  135124,       0,  816903,   ...              2   \n",
       "753     [array([      0,  135124,       0,  816903,   ...              2   \n",
       "824     [array([      0,  135124,       0,  816903,   ...              2   \n",
       "839     [array([      0,  135124,       0,  816903,   ...              2   \n",
       "840     [array([      0,  135124,       0,  816903,   ...              2   \n",
       "1038    [array([      0,  135124,       0,  816903,   ...              2   \n",
       "1101    [array([      0,  135124,       0,  816903,   ...              2   \n",
       "1131    [array([      0,  135124,       0,  816903,   ...              2   \n",
       "1146    [array([      0,  135124,       0,  816903,   ...              2   \n",
       "1167    [array([      0,  135124,       0,  816903,   ...              2   \n",
       "1182    [array([      0,  135124,       0,  816903,   ...              2   \n",
       "1225    [array([      0,  135124,       0,  816903,   ...              2   \n",
       "1230    [array([      0,  135124,       0,  816903,   ...              2   \n",
       "1265    [array([      0,  135124,       0,  816903,   ...              2   \n",
       "1266    [array([      0,  135124,       0,  816903,   ...              2   \n",
       "1267    [array([      0,  135124,       0,  816903,   ...              2   \n",
       "1371    [array([      0,  135124,       0,  816903,   ...              2   \n",
       "...                                                   ...            ...   \n",
       "101135  [array([      0,  135124,       0,  816903,   ...              2   \n",
       "101186  [array([      0,  135124,       0,  816903,   ...              2   \n",
       "101225  [array([      0,  135124,       0,  816903,   ...              2   \n",
       "101263  [array([      0,  135124,       0,  816903,   ...              2   \n",
       "101268  [array([      0,  135124,       0,  816903,   ...              2   \n",
       "101363  [array([      0,  135124,       0,  816903,   ...              2   \n",
       "101394  [array([      0,  135124,       0,  816903,   ...              2   \n",
       "101395  [array([      0,  135124,       0,  816903,   ...              2   \n",
       "101396  [array([      0,  135124,       0,  816903,   ...              2   \n",
       "101441  [array([      0,  135124,       0,  816903,   ...              2   \n",
       "101473  [array([      0,  135124,       0,  816903,   ...              2   \n",
       "101553  [array([      0,  135124,       0,  816903,   ...              2   \n",
       "101565  [array([      0,  135124,       0,  816903,   ...              2   \n",
       "101592  [array([      0,  135124,       0,  816903,   ...              2   \n",
       "101656  [array([      0,  135124,       0,  816903,   ...              2   \n",
       "101676  [array([      0,  135124,       0,  816903,   ...              2   \n",
       "101699  [array([      0,  135124,       0,  816903,   ...              2   \n",
       "101805  [array([      0,  135124,       0,  816903,   ...              2   \n",
       "101857  [array([      0,  135124,       0,  816903,   ...              2   \n",
       "101862  [array([      0,  135124,       0,  816903,   ...              2   \n",
       "101910  [array([      0,  135124,       0,  816903,   ...              2   \n",
       "101967  [array([      0,  135124,       0,  816903,   ...              2   \n",
       "101988  [array([      0,  135124,       0,  816903,   ...              2   \n",
       "102026  [array([      0,  135124,       0,  816903,   ...              2   \n",
       "102027  [array([      0,  135124,       0,  816903,   ...              2   \n",
       "102102  [array([      0,  135124,       0,  816903,   ...              2   \n",
       "102108  [array([      0,  135124,       0,  816903,   ...              2   \n",
       "102125  [array([      0,  135124,       0,  816903,   ...              2   \n",
       "102178  [array([      0,  135124,       0,  816903,   ...              2   \n",
       "102256  [array([      0,  135124,       0,  816903,   ...              2   \n",
       "\n",
       "        article_len  word_len  \n",
       "23             1344       748  \n",
       "40             1014       637  \n",
       "89             2516      1318  \n",
       "95              946       548  \n",
       "169             529       295  \n",
       "176             500       294  \n",
       "181            1356       819  \n",
       "197             302       193  \n",
       "327             184       115  \n",
       "448             477       301  \n",
       "454             321       186  \n",
       "523            1607      1012  \n",
       "530            1525       896  \n",
       "586            1515       921  \n",
       "753            1613      1022  \n",
       "824            3060      1808  \n",
       "839            2526      1520  \n",
       "840            3027      1835  \n",
       "1038           1205       729  \n",
       "1101           1327       792  \n",
       "1131           2474      1509  \n",
       "1146            703       418  \n",
       "1167           2377      1481  \n",
       "1182           1512      1025  \n",
       "1225           3267      2052  \n",
       "1230           1180       768  \n",
       "1265            520       353  \n",
       "1266           1516       885  \n",
       "1267           1260       737  \n",
       "1371           2544      1568  \n",
       "...             ...       ...  \n",
       "101135         1957      1258  \n",
       "101186          783       477  \n",
       "101225         2095      1260  \n",
       "101263         2321      1434  \n",
       "101268         1875      1058  \n",
       "101363         2506      1491  \n",
       "101394         1772      1053  \n",
       "101395         1033       668  \n",
       "101396         1903      1054  \n",
       "101441         2585      1529  \n",
       "101473          482       317  \n",
       "101553         2443      1443  \n",
       "101565         1050       687  \n",
       "101592          398       251  \n",
       "101656          774       458  \n",
       "101676         1606      1014  \n",
       "101699          421       235  \n",
       "101805         9837      5463  \n",
       "101857         3413      2045  \n",
       "101862          577       317  \n",
       "101910          807       557  \n",
       "101967         2146      1374  \n",
       "101988         1010       607  \n",
       "102026         5438      3348  \n",
       "102027          553       343  \n",
       "102102         1600       989  \n",
       "102108          884       526  \n",
       "102125          253       158  \n",
       "102178          813       504  \n",
       "102256          670       414  \n",
       "\n",
       "[2901 rows x 7 columns]"
      ]
     },
     "execution_count": 37,
     "metadata": {},
     "output_type": "execute_result"
    }
   ],
   "source": [
    "class2_d"
   ]
  },
  {
   "cell_type": "code",
   "execution_count": 38,
   "metadata": {},
   "outputs": [],
   "source": [
    "l = [1,2,3,4,5]"
   ]
  },
  {
   "cell_type": "code",
   "execution_count": 39,
   "metadata": {},
   "outputs": [
    {
     "ename": "TypeError",
     "evalue": "only integer scalar arrays can be converted to a scalar index",
     "output_type": "error",
     "traceback": [
      "\u001b[0;31m---------------------------------------------------------------------------\u001b[0m",
      "\u001b[0;31mTypeError\u001b[0m                                 Traceback (most recent call last)",
      "\u001b[0;32m<ipython-input-39-a4c88d9dbcf3>\u001b[0m in \u001b[0;36m<module>\u001b[0;34m()\u001b[0m\n\u001b[0;32m----> 1\u001b[0;31m \u001b[0ml\u001b[0m\u001b[0;34m[\u001b[0m\u001b[0mnp\u001b[0m\u001b[0;34m.\u001b[0m\u001b[0marray\u001b[0m\u001b[0;34m(\u001b[0m\u001b[0;34m[\u001b[0m\u001b[0;36m1\u001b[0m\u001b[0;34m,\u001b[0m\u001b[0;36m3\u001b[0m\u001b[0;34m]\u001b[0m\u001b[0;34m)\u001b[0m\u001b[0;34m]\u001b[0m\u001b[0;34m\u001b[0m\u001b[0m\n\u001b[0m",
      "\u001b[0;31mTypeError\u001b[0m: only integer scalar arrays can be converted to a scalar index"
     ]
    }
   ],
   "source": [
    "l[np.array([1,3])]"
   ]
  },
  {
   "cell_type": "code",
   "execution_count": null,
   "metadata": {},
   "outputs": [],
   "source": [
    "class2_d = class2\n",
    "sentences=[]\n",
    "list(int(sentence.split())) for sentence in class2_d.word_seg:\n",
    "    print(type(sentence),len(sentence))\n",
    "    dropout(sentence)\n",
    "    sentences.append(dropout(sentence))\n"
   ]
  },
  {
   "cell_type": "code",
   "execution_count": null,
   "metadata": {},
   "outputs": [],
   "source": [
    "class1 = all_train.loc[all_train.article_class==1]\n",
    "\n",
    "class1_d = class1\n",
    "\n",
    "class1_d.word_seg = np.random.permutation(class1.word_seg.values)\n",
    "\n",
    "class1_d.article = np.random.permutation(class1.article.values)"
   ]
  },
  {
   "cell_type": "code",
   "execution_count": null,
   "metadata": {},
   "outputs": [],
   "source": [
    "import pandas as pd, numpy as np\n",
    "from sklearn.feature_extraction.text import CountVectorizer, TfidfVectorizer\n",
    "from sklearn import svm"
   ]
  },
  {
   "cell_type": "code",
   "execution_count": null,
   "metadata": {
    "scrolled": true
   },
   "outputs": [],
   "source": [
    "column = \"word_seg\"\n",
    "train = pd.read_csv('data/train_set.csv')\n",
    "test = pd.read_csv('data/test_set.csv')\n",
    "test_id = test[\"id\"].copy()\n",
    "vec = TfidfVectorizer(ngram_range=(1,2),min_df=3, max_df=0.9,use_idf=1,smooth_idf=1, sublinear_tf=1)\n",
    "trn_term_doc = vec.fit_transform(train[column])\n",
    "test_term_doc = vec.transform(test[column])\n"
   ]
  },
  {
   "cell_type": "code",
   "execution_count": null,
   "metadata": {},
   "outputs": [],
   "source": [
    "y=(train[\"class\"]-1).astype(int)"
   ]
  },
  {
   "cell_type": "code",
   "execution_count": null,
   "metadata": {},
   "outputs": [],
   "source": [
    "# Randomly shuffle data\n",
    "np.random.seed(10)\n",
    "shuffle_indices = np.random.permutation(np.arange(len(y)))\n",
    "x_shuffled = trn_term_doc[shuffle_indices]\n",
    "y_shuffled = y[shuffle_indices]\n",
    "\n",
    "# Split train/test set\n",
    "# TODO: This is very crude, should use cross-validation\n",
    "dev_sample_index = -1 * int(0.02 * float(len(y)))\n",
    "x_train, x_dev = x_shuffled[:dev_sample_index], x_shuffled[dev_sample_index:]\n",
    "y_train, y_dev = y_shuffled[:dev_sample_index], y_shuffled[dev_sample_index:]\n",
    "\n",
    "del x_shuffled, y_shuffled\n",
    "\n",
    "#print(\"Vocabulary Size: {:d}\".format(len(x_train)))\n",
    "print(\"Train/Dev split: {:d}/{:d}\".format(len(y_train), len(y_dev)))"
   ]
  },
  {
   "cell_type": "code",
   "execution_count": null,
   "metadata": {},
   "outputs": [],
   "source": [
    "x_train.shape\n",
    "type(x_train)"
   ]
  },
  {
   "cell_type": "code",
   "execution_count": null,
   "metadata": {},
   "outputs": [],
   "source": [
    "type(trn_term_doc)"
   ]
  },
  {
   "cell_type": "code",
   "execution_count": 40,
   "metadata": {},
   "outputs": [
    {
     "ename": "NameError",
     "evalue": "name 'trn_term_doc' is not defined",
     "output_type": "error",
     "traceback": [
      "\u001b[0;31m---------------------------------------------------------------------------\u001b[0m",
      "\u001b[0;31mNameError\u001b[0m                                 Traceback (most recent call last)",
      "\u001b[0;32m<ipython-input-40-f1b9f634e563>\u001b[0m in \u001b[0;36m<module>\u001b[0;34m()\u001b[0m\n\u001b[0;32m----> 1\u001b[0;31m \u001b[0mtrn_term_doc\u001b[0m\u001b[0;34m.\u001b[0m\u001b[0mshape\u001b[0m\u001b[0;34m\u001b[0m\u001b[0m\n\u001b[0m",
      "\u001b[0;31mNameError\u001b[0m: name 'trn_term_doc' is not defined"
     ]
    }
   ],
   "source": [
    "trn_term_doc.shape"
   ]
  },
  {
   "cell_type": "code",
   "execution_count": 41,
   "metadata": {},
   "outputs": [
    {
     "ename": "NameError",
     "evalue": "name 'test_term_doc' is not defined",
     "output_type": "error",
     "traceback": [
      "\u001b[0;31m---------------------------------------------------------------------------\u001b[0m",
      "\u001b[0;31mNameError\u001b[0m                                 Traceback (most recent call last)",
      "\u001b[0;32m<ipython-input-41-a6ba4fd03f33>\u001b[0m in \u001b[0;36m<module>\u001b[0;34m()\u001b[0m\n\u001b[0;32m----> 1\u001b[0;31m \u001b[0mtest_term_doc\u001b[0m\u001b[0;34m.\u001b[0m\u001b[0mshape\u001b[0m\u001b[0;34m\u001b[0m\u001b[0m\n\u001b[0m",
      "\u001b[0;31mNameError\u001b[0m: name 'test_term_doc' is not defined"
     ]
    }
   ],
   "source": [
    "test_term_doc.shape"
   ]
  },
  {
   "cell_type": "code",
   "execution_count": 42,
   "metadata": {},
   "outputs": [
    {
     "ename": "NameError",
     "evalue": "name 'enhance_data' is not defined",
     "output_type": "error",
     "traceback": [
      "\u001b[0;31m---------------------------------------------------------------------------\u001b[0m",
      "\u001b[0;31mNameError\u001b[0m                                 Traceback (most recent call last)",
      "\u001b[0;32m<ipython-input-42-78569050167d>\u001b[0m in \u001b[0;36m<module>\u001b[0;34m()\u001b[0m\n\u001b[0;32m----> 1\u001b[0;31m \u001b[0menhance_data\u001b[0m\u001b[0;34m.\u001b[0m\u001b[0mshape\u001b[0m\u001b[0;34m\u001b[0m\u001b[0m\n\u001b[0m",
      "\u001b[0;31mNameError\u001b[0m: name 'enhance_data' is not defined"
     ]
    }
   ],
   "source": [
    "enhance_data.shape"
   ]
  },
  {
   "cell_type": "code",
   "execution_count": null,
   "metadata": {},
   "outputs": [],
   "source": []
  },
  {
   "cell_type": "code",
   "execution_count": null,
   "metadata": {},
   "outputs": [],
   "source": []
  }
 ],
 "metadata": {
  "kernelspec": {
   "display_name": "Python 3",
   "language": "python",
   "name": "python3"
  },
  "language_info": {
   "codemirror_mode": {
    "name": "ipython",
    "version": 3
   },
   "file_extension": ".py",
   "mimetype": "text/x-python",
   "name": "python",
   "nbconvert_exporter": "python",
   "pygments_lexer": "ipython3",
   "version": "3.5.2"
  }
 },
 "nbformat": 4,
 "nbformat_minor": 2
}
